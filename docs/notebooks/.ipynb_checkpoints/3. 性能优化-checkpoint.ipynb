{
 "cells": [
  {
   "cell_type": "code",
   "execution_count": 1,
   "id": "f274c45c",
   "metadata": {},
   "outputs": [],
   "source": [
    "import os\n",
    "os.chdir(\"../../\")#与easymlops同级目录"
   ]
  },
  {
   "cell_type": "markdown",
   "id": "4c4c404c",
   "metadata": {},
   "source": [
    "### 拆分数据"
   ]
  },
  {
   "cell_type": "code",
   "execution_count": 2,
   "id": "d619c60f",
   "metadata": {},
   "outputs": [
    {
     "data": {
      "text/html": [
       "<div>\n",
       "<style scoped>\n",
       "    .dataframe tbody tr th:only-of-type {\n",
       "        vertical-align: middle;\n",
       "    }\n",
       "\n",
       "    .dataframe tbody tr th {\n",
       "        vertical-align: top;\n",
       "    }\n",
       "\n",
       "    .dataframe thead th {\n",
       "        text-align: right;\n",
       "    }\n",
       "</style>\n",
       "<table border=\"1\" class=\"dataframe\">\n",
       "  <thead>\n",
       "    <tr style=\"text-align: right;\">\n",
       "      <th></th>\n",
       "      <th>PassengerId</th>\n",
       "      <th>Survived</th>\n",
       "      <th>Pclass</th>\n",
       "      <th>Name</th>\n",
       "      <th>Sex</th>\n",
       "      <th>Age</th>\n",
       "      <th>SibSp</th>\n",
       "      <th>Parch</th>\n",
       "      <th>Ticket</th>\n",
       "      <th>Fare</th>\n",
       "      <th>Cabin</th>\n",
       "      <th>Embarked</th>\n",
       "    </tr>\n",
       "  </thead>\n",
       "  <tbody>\n",
       "    <tr>\n",
       "      <th>0</th>\n",
       "      <td>1</td>\n",
       "      <td>0</td>\n",
       "      <td>3</td>\n",
       "      <td>Braund, Mr. Owen Harris</td>\n",
       "      <td>male</td>\n",
       "      <td>22.0</td>\n",
       "      <td>1</td>\n",
       "      <td>0</td>\n",
       "      <td>A/5 21171</td>\n",
       "      <td>7.2500</td>\n",
       "      <td>NaN</td>\n",
       "      <td>S</td>\n",
       "    </tr>\n",
       "    <tr>\n",
       "      <th>1</th>\n",
       "      <td>2</td>\n",
       "      <td>1</td>\n",
       "      <td>1</td>\n",
       "      <td>Cumings, Mrs. John Bradley (Florence Briggs Th...</td>\n",
       "      <td>female</td>\n",
       "      <td>38.0</td>\n",
       "      <td>1</td>\n",
       "      <td>0</td>\n",
       "      <td>PC 17599</td>\n",
       "      <td>71.2833</td>\n",
       "      <td>C85</td>\n",
       "      <td>C</td>\n",
       "    </tr>\n",
       "    <tr>\n",
       "      <th>2</th>\n",
       "      <td>3</td>\n",
       "      <td>1</td>\n",
       "      <td>3</td>\n",
       "      <td>Heikkinen, Miss. Laina</td>\n",
       "      <td>female</td>\n",
       "      <td>26.0</td>\n",
       "      <td>0</td>\n",
       "      <td>0</td>\n",
       "      <td>STON/O2. 3101282</td>\n",
       "      <td>7.9250</td>\n",
       "      <td>NaN</td>\n",
       "      <td>S</td>\n",
       "    </tr>\n",
       "    <tr>\n",
       "      <th>3</th>\n",
       "      <td>4</td>\n",
       "      <td>1</td>\n",
       "      <td>1</td>\n",
       "      <td>Futrelle, Mrs. Jacques Heath (Lily May Peel)</td>\n",
       "      <td>female</td>\n",
       "      <td>35.0</td>\n",
       "      <td>1</td>\n",
       "      <td>0</td>\n",
       "      <td>113803</td>\n",
       "      <td>53.1000</td>\n",
       "      <td>C123</td>\n",
       "      <td>S</td>\n",
       "    </tr>\n",
       "    <tr>\n",
       "      <th>4</th>\n",
       "      <td>5</td>\n",
       "      <td>0</td>\n",
       "      <td>3</td>\n",
       "      <td>Allen, Mr. William Henry</td>\n",
       "      <td>male</td>\n",
       "      <td>35.0</td>\n",
       "      <td>0</td>\n",
       "      <td>0</td>\n",
       "      <td>373450</td>\n",
       "      <td>8.0500</td>\n",
       "      <td>NaN</td>\n",
       "      <td>S</td>\n",
       "    </tr>\n",
       "  </tbody>\n",
       "</table>\n",
       "</div>"
      ],
      "text/plain": [
       "   PassengerId  Survived  Pclass  \\\n",
       "0            1         0       3   \n",
       "1            2         1       1   \n",
       "2            3         1       3   \n",
       "3            4         1       1   \n",
       "4            5         0       3   \n",
       "\n",
       "                                                Name     Sex   Age  SibSp  \\\n",
       "0                            Braund, Mr. Owen Harris    male  22.0      1   \n",
       "1  Cumings, Mrs. John Bradley (Florence Briggs Th...  female  38.0      1   \n",
       "2                             Heikkinen, Miss. Laina  female  26.0      0   \n",
       "3       Futrelle, Mrs. Jacques Heath (Lily May Peel)  female  35.0      1   \n",
       "4                           Allen, Mr. William Henry    male  35.0      0   \n",
       "\n",
       "   Parch            Ticket     Fare Cabin Embarked  \n",
       "0      0         A/5 21171   7.2500   NaN        S  \n",
       "1      0          PC 17599  71.2833   C85        C  \n",
       "2      0  STON/O2. 3101282   7.9250   NaN        S  \n",
       "3      0            113803  53.1000  C123        S  \n",
       "4      0            373450   8.0500   NaN        S  "
      ]
     },
     "execution_count": 2,
     "metadata": {},
     "output_type": "execute_result"
    }
   ],
   "source": [
    "import pandas as pd\n",
    "data=pd.read_csv(\"./data/demo.csv\")\n",
    "data.head(5)"
   ]
  },
  {
   "cell_type": "code",
   "execution_count": 3,
   "id": "9be1a7b5",
   "metadata": {},
   "outputs": [],
   "source": [
    "x_train=data[:-500]\n",
    "x_test=data[-500:]\n",
    "y_train=x_train[\"Survived\"]\n",
    "y_test=x_test[\"Survived\"]\n",
    "del x_train[\"Survived\"]\n",
    "del x_test[\"Survived\"]"
   ]
  },
  {
   "cell_type": "markdown",
   "id": "f09a0bf5",
   "metadata": {},
   "source": [
    "### pipe构建"
   ]
  },
  {
   "cell_type": "code",
   "execution_count": 4,
   "id": "b50bdaca",
   "metadata": {},
   "outputs": [],
   "source": [
    "from easymlops import TablePipeLine\n",
    "from easymlops.table.preprocessing import *\n",
    "from easymlops.table.encoding import *\n",
    "from easymlops.table.perfopt import *"
   ]
  },
  {
   "cell_type": "code",
   "execution_count": null,
   "id": "9b662254",
   "metadata": {},
   "outputs": [],
   "source": [
    "table=TablePipeLine()\n",
    "table.pipe(FixInput())\\\n",
    "  .pipe(FillNa())\\\n",
    "  .pipe(Clip(cols=[\"Age\"],default_clip=(1,99),name=\"clip_name\"))\\\n",
    "  .pipe(OneHotEncoding(cols=[\"Pclass\",\"Sex\",\"Name\",\"Ticket\",\"Embarked\",\"Cabin\"],drop_col=True))\\\n",
    "  .pipe(ReduceMemUsage())\\\n",
    "  .pipe(Dense2Sparse())\n",
    "\n",
    "x_train_new=table.fit(x_train).transform(x_train)\n",
    "x_train_new.shape"
   ]
  },
  {
   "cell_type": "code",
   "execution_count": null,
   "id": "1292cb1e",
   "metadata": {},
   "outputs": [],
   "source": [
    "#原始\n",
    "table.transform(x_train,run_to_layer=-3).memory_usage().sum()//1024"
   ]
  },
  {
   "cell_type": "code",
   "execution_count": null,
   "id": "1bdad60e",
   "metadata": {},
   "outputs": [],
   "source": [
    "#做了ReduceMemUsage后\n",
    "table.transform(x_train,run_to_layer=-2).memory_usage().sum()//1024"
   ]
  },
  {
   "cell_type": "code",
   "execution_count": null,
   "id": "6d51bf9d",
   "metadata": {},
   "outputs": [],
   "source": [
    "#做了ReduceMemUsage和Dense2Sparse后\n",
    "table.transform(x_train,run_to_layer=-1).memory_usage().sum()//1024"
   ]
  },
  {
   "cell_type": "markdown",
   "id": "c92aea19",
   "metadata": {},
   "source": [
    "### 性能、一致性测试"
   ]
  },
  {
   "cell_type": "code",
   "execution_count": null,
   "id": "82c4c1bd",
   "metadata": {
    "scrolled": true
   },
   "outputs": [],
   "source": [
    "table.auto_test(x_test[:10])"
   ]
  },
  {
   "cell_type": "markdown",
   "id": "37956329",
   "metadata": {},
   "source": [
    "### 持久化测试"
   ]
  },
  {
   "cell_type": "code",
   "execution_count": null,
   "id": "7d869c6d",
   "metadata": {},
   "outputs": [],
   "source": [
    "table.save(\"ml.pkl\")"
   ]
  },
  {
   "cell_type": "code",
   "execution_count": null,
   "id": "a6c15428",
   "metadata": {},
   "outputs": [],
   "source": [
    "table=TablePipeLine()\n",
    "table.pipe(FixInput())\\\n",
    "  .pipe(FillNa())\\\n",
    "  .pipe(Clip(cols=[\"Age\"],default_clip=(1,99),name=\"clip_name\"))\\\n",
    "  .pipe(OneHotEncoding(cols=[\"Pclass\",\"Sex\",\"Name\",\"Ticket\",\"Embarked\",\"Cabin\"],drop_col=True))\\\n",
    "  .pipe(ReduceMemUsage())\\\n",
    "  .pipe(Dense2Sparse())\n",
    "\n",
    "table.load(\"ml.pkl\")"
   ]
  },
  {
   "cell_type": "code",
   "execution_count": null,
   "id": "30940967",
   "metadata": {
    "scrolled": true
   },
   "outputs": [],
   "source": [
    "table.auto_test(x_test[:10])"
   ]
  },
  {
   "cell_type": "code",
   "execution_count": null,
   "id": "4697cf0f",
   "metadata": {},
   "outputs": [],
   "source": [
    "table.transform(x_test[:5])"
   ]
  },
  {
   "cell_type": "code",
   "execution_count": null,
   "id": "30dfa447",
   "metadata": {},
   "outputs": [],
   "source": []
  }
 ],
 "metadata": {
  "kernelspec": {
   "display_name": "Python 3 (ipykernel)",
   "language": "python",
   "name": "python3"
  },
  "language_info": {
   "codemirror_mode": {
    "name": "ipython",
    "version": 3
   },
   "file_extension": ".py",
   "mimetype": "text/x-python",
   "name": "python",
   "nbconvert_exporter": "python",
   "pygments_lexer": "ipython3",
   "version": "3.7.15"
  }
 },
 "nbformat": 4,
 "nbformat_minor": 5
}
