{
 "cells": [
  {
   "cell_type": "code",
   "execution_count": 1,
   "id": "c93665f7",
   "metadata": {},
   "outputs": [],
   "source": [
    "import os\n",
    "os.chdir(\"../../\")#与easymlops同级目录"
   ]
  },
  {
   "cell_type": "markdown",
   "id": "bd3e93fb",
   "metadata": {},
   "source": [
    "### 拆分数据"
   ]
  },
  {
   "cell_type": "code",
   "execution_count": 2,
   "id": "ca555fd6",
   "metadata": {},
   "outputs": [
    {
     "data": {
      "text/html": [
       "<div>\n",
       "<style scoped>\n",
       "    .dataframe tbody tr th:only-of-type {\n",
       "        vertical-align: middle;\n",
       "    }\n",
       "\n",
       "    .dataframe tbody tr th {\n",
       "        vertical-align: top;\n",
       "    }\n",
       "\n",
       "    .dataframe thead th {\n",
       "        text-align: right;\n",
       "    }\n",
       "</style>\n",
       "<table border=\"1\" class=\"dataframe\">\n",
       "  <thead>\n",
       "    <tr style=\"text-align: right;\">\n",
       "      <th></th>\n",
       "      <th>PassengerId</th>\n",
       "      <th>Survived</th>\n",
       "      <th>Pclass</th>\n",
       "      <th>Name</th>\n",
       "      <th>Sex</th>\n",
       "      <th>Age</th>\n",
       "      <th>SibSp</th>\n",
       "      <th>Parch</th>\n",
       "      <th>Ticket</th>\n",
       "      <th>Fare</th>\n",
       "      <th>Cabin</th>\n",
       "      <th>Embarked</th>\n",
       "    </tr>\n",
       "  </thead>\n",
       "  <tbody>\n",
       "    <tr>\n",
       "      <th>0</th>\n",
       "      <td>1</td>\n",
       "      <td>0</td>\n",
       "      <td>3</td>\n",
       "      <td>Braund, Mr. Owen Harris</td>\n",
       "      <td>male</td>\n",
       "      <td>22.0</td>\n",
       "      <td>1</td>\n",
       "      <td>0</td>\n",
       "      <td>A/5 21171</td>\n",
       "      <td>7.2500</td>\n",
       "      <td>NaN</td>\n",
       "      <td>S</td>\n",
       "    </tr>\n",
       "    <tr>\n",
       "      <th>1</th>\n",
       "      <td>2</td>\n",
       "      <td>1</td>\n",
       "      <td>1</td>\n",
       "      <td>Cumings, Mrs. John Bradley (Florence Briggs Th...</td>\n",
       "      <td>female</td>\n",
       "      <td>38.0</td>\n",
       "      <td>1</td>\n",
       "      <td>0</td>\n",
       "      <td>PC 17599</td>\n",
       "      <td>71.2833</td>\n",
       "      <td>C85</td>\n",
       "      <td>C</td>\n",
       "    </tr>\n",
       "    <tr>\n",
       "      <th>2</th>\n",
       "      <td>3</td>\n",
       "      <td>1</td>\n",
       "      <td>3</td>\n",
       "      <td>Heikkinen, Miss. Laina</td>\n",
       "      <td>female</td>\n",
       "      <td>26.0</td>\n",
       "      <td>0</td>\n",
       "      <td>0</td>\n",
       "      <td>STON/O2. 3101282</td>\n",
       "      <td>7.9250</td>\n",
       "      <td>NaN</td>\n",
       "      <td>S</td>\n",
       "    </tr>\n",
       "    <tr>\n",
       "      <th>3</th>\n",
       "      <td>4</td>\n",
       "      <td>1</td>\n",
       "      <td>1</td>\n",
       "      <td>Futrelle, Mrs. Jacques Heath (Lily May Peel)</td>\n",
       "      <td>female</td>\n",
       "      <td>35.0</td>\n",
       "      <td>1</td>\n",
       "      <td>0</td>\n",
       "      <td>113803</td>\n",
       "      <td>53.1000</td>\n",
       "      <td>C123</td>\n",
       "      <td>S</td>\n",
       "    </tr>\n",
       "    <tr>\n",
       "      <th>4</th>\n",
       "      <td>5</td>\n",
       "      <td>0</td>\n",
       "      <td>3</td>\n",
       "      <td>Allen, Mr. William Henry</td>\n",
       "      <td>male</td>\n",
       "      <td>35.0</td>\n",
       "      <td>0</td>\n",
       "      <td>0</td>\n",
       "      <td>373450</td>\n",
       "      <td>8.0500</td>\n",
       "      <td>NaN</td>\n",
       "      <td>S</td>\n",
       "    </tr>\n",
       "  </tbody>\n",
       "</table>\n",
       "</div>"
      ],
      "text/plain": [
       "   PassengerId  Survived  Pclass  \\\n",
       "0            1         0       3   \n",
       "1            2         1       1   \n",
       "2            3         1       3   \n",
       "3            4         1       1   \n",
       "4            5         0       3   \n",
       "\n",
       "                                                Name     Sex   Age  SibSp  \\\n",
       "0                            Braund, Mr. Owen Harris    male  22.0      1   \n",
       "1  Cumings, Mrs. John Bradley (Florence Briggs Th...  female  38.0      1   \n",
       "2                             Heikkinen, Miss. Laina  female  26.0      0   \n",
       "3       Futrelle, Mrs. Jacques Heath (Lily May Peel)  female  35.0      1   \n",
       "4                           Allen, Mr. William Henry    male  35.0      0   \n",
       "\n",
       "   Parch            Ticket     Fare Cabin Embarked  \n",
       "0      0         A/5 21171   7.2500   NaN        S  \n",
       "1      0          PC 17599  71.2833   C85        C  \n",
       "2      0  STON/O2. 3101282   7.9250   NaN        S  \n",
       "3      0            113803  53.1000  C123        S  \n",
       "4      0            373450   8.0500   NaN        S  "
      ]
     },
     "execution_count": 2,
     "metadata": {},
     "output_type": "execute_result"
    }
   ],
   "source": [
    "import pandas as pd\n",
    "data=pd.read_csv(\"./data/demo.csv\")\n",
    "data.head(5)"
   ]
  },
  {
   "cell_type": "code",
   "execution_count": 3,
   "id": "d35f74b1",
   "metadata": {},
   "outputs": [],
   "source": [
    "x_train=data[:500]\n",
    "x_test=data[500:]\n",
    "y_train=x_train[\"Survived\"]\n",
    "y_test=x_test[\"Survived\"]\n",
    "del x_train[\"Survived\"]\n",
    "del x_test[\"Survived\"]"
   ]
  },
  {
   "cell_type": "markdown",
   "id": "9fbd33ae",
   "metadata": {},
   "source": [
    "### pipeline分拆\n",
    "- 建模的过程通常式逐步迭代的，在每一层可能都要做多次调整，再进行下一步建模，但按照上面的建模方式，每次调整了最后一层，都要将前面的所有层再次运行一次，这样很费时费力；\n",
    "- 所以如果能将整个pipeline分拆成为多个子pipeline或pipe分别训练后再组合"
   ]
  },
  {
   "cell_type": "code",
   "execution_count": 4,
   "id": "f1f39f5d",
   "metadata": {},
   "outputs": [],
   "source": [
    "from easymlops import TablePipeLine\n",
    "from easymlops.table.preprocessing import *\n",
    "from easymlops.table.encoding import *\n",
    "from easymlops.table.perfopt import *\n",
    "from easymlops.table.decomposition import *"
   ]
  },
  {
   "cell_type": "code",
   "execution_count": 5,
   "id": "f146585f",
   "metadata": {},
   "outputs": [],
   "source": [
    "pipe_fix_input=FixInput()\n",
    "x_train_new=pipe_fix_input.fit(x_train).transform(x_train)"
   ]
  },
  {
   "cell_type": "code",
   "execution_count": 6,
   "id": "e18b0718",
   "metadata": {},
   "outputs": [
    {
     "data": {
      "text/html": [
       "<div>\n",
       "<style scoped>\n",
       "    .dataframe tbody tr th:only-of-type {\n",
       "        vertical-align: middle;\n",
       "    }\n",
       "\n",
       "    .dataframe tbody tr th {\n",
       "        vertical-align: top;\n",
       "    }\n",
       "\n",
       "    .dataframe thead th {\n",
       "        text-align: right;\n",
       "    }\n",
       "</style>\n",
       "<table border=\"1\" class=\"dataframe\">\n",
       "  <thead>\n",
       "    <tr style=\"text-align: right;\">\n",
       "      <th></th>\n",
       "      <th>PassengerId</th>\n",
       "      <th>Pclass</th>\n",
       "      <th>Name</th>\n",
       "      <th>Sex</th>\n",
       "      <th>Age</th>\n",
       "      <th>SibSp</th>\n",
       "      <th>Parch</th>\n",
       "      <th>Ticket</th>\n",
       "      <th>Fare</th>\n",
       "      <th>Cabin</th>\n",
       "      <th>Embarked</th>\n",
       "    </tr>\n",
       "  </thead>\n",
       "  <tbody>\n",
       "    <tr>\n",
       "      <th>0</th>\n",
       "      <td>1</td>\n",
       "      <td>3</td>\n",
       "      <td>Braund, Mr. Owen Harris</td>\n",
       "      <td>male</td>\n",
       "      <td>22.0</td>\n",
       "      <td>1</td>\n",
       "      <td>0</td>\n",
       "      <td>A/5 21171</td>\n",
       "      <td>7.25</td>\n",
       "      <td>nan</td>\n",
       "      <td>S</td>\n",
       "    </tr>\n",
       "  </tbody>\n",
       "</table>\n",
       "</div>"
      ],
      "text/plain": [
       "   PassengerId  Pclass                     Name   Sex   Age  SibSp  Parch  \\\n",
       "0            1       3  Braund, Mr. Owen Harris  male  22.0      1      0   \n",
       "\n",
       "      Ticket  Fare Cabin Embarked  \n",
       "0  A/5 21171  7.25   nan        S  "
      ]
     },
     "execution_count": 6,
     "metadata": {},
     "output_type": "execute_result"
    }
   ],
   "source": [
    "pipe_fillna=FillNa()\n",
    "x_train_new=pipe_fillna.fit(x_train_new).transform(x_train_new)\n",
    "x_train_new.head(1)"
   ]
  },
  {
   "cell_type": "code",
   "execution_count": 7,
   "id": "77957a87",
   "metadata": {},
   "outputs": [
    {
     "data": {
      "text/html": [
       "<div>\n",
       "<style scoped>\n",
       "    .dataframe tbody tr th:only-of-type {\n",
       "        vertical-align: middle;\n",
       "    }\n",
       "\n",
       "    .dataframe tbody tr th {\n",
       "        vertical-align: top;\n",
       "    }\n",
       "\n",
       "    .dataframe thead th {\n",
       "        text-align: right;\n",
       "    }\n",
       "</style>\n",
       "<table border=\"1\" class=\"dataframe\">\n",
       "  <thead>\n",
       "    <tr style=\"text-align: right;\">\n",
       "      <th></th>\n",
       "      <th>PassengerId</th>\n",
       "      <th>Pclass</th>\n",
       "      <th>Name</th>\n",
       "      <th>Sex</th>\n",
       "      <th>Age</th>\n",
       "      <th>SibSp</th>\n",
       "      <th>Parch</th>\n",
       "      <th>Ticket</th>\n",
       "      <th>Fare</th>\n",
       "      <th>Cabin</th>\n",
       "      <th>Embarked</th>\n",
       "      <th>Pclass_3</th>\n",
       "      <th>Pclass_1</th>\n",
       "      <th>Pclass_2</th>\n",
       "      <th>Sex_male</th>\n",
       "      <th>Sex_female</th>\n",
       "    </tr>\n",
       "  </thead>\n",
       "  <tbody>\n",
       "    <tr>\n",
       "      <th>0</th>\n",
       "      <td>1</td>\n",
       "      <td>3</td>\n",
       "      <td>Braund, Mr. Owen Harris</td>\n",
       "      <td>male</td>\n",
       "      <td>22.0</td>\n",
       "      <td>1</td>\n",
       "      <td>0</td>\n",
       "      <td>A/5 21171</td>\n",
       "      <td>7.25</td>\n",
       "      <td>nan</td>\n",
       "      <td>S</td>\n",
       "      <td>1</td>\n",
       "      <td>0</td>\n",
       "      <td>0</td>\n",
       "      <td>1</td>\n",
       "      <td>0</td>\n",
       "    </tr>\n",
       "  </tbody>\n",
       "</table>\n",
       "</div>"
      ],
      "text/plain": [
       "   PassengerId  Pclass                     Name   Sex   Age  SibSp  Parch  \\\n",
       "0            1       3  Braund, Mr. Owen Harris  male  22.0      1      0   \n",
       "\n",
       "      Ticket  Fare Cabin Embarked  Pclass_3  Pclass_1  Pclass_2  Sex_male  \\\n",
       "0  A/5 21171  7.25   nan        S         1         0         0         1   \n",
       "\n",
       "   Sex_female  \n",
       "0           0  "
      ]
     },
     "execution_count": 7,
     "metadata": {},
     "output_type": "execute_result"
    }
   ],
   "source": [
    "pipe_onehot_encoding=OneHotEncoding(cols=[\"Pclass\",\"Sex\"],drop_col=False)\n",
    "x_train_new=pipe_onehot_encoding.fit(x_train_new).transform(x_train_new)\n",
    "x_train_new.head(1)"
   ]
  },
  {
   "cell_type": "code",
   "execution_count": 8,
   "id": "4f203c9c",
   "metadata": {},
   "outputs": [
    {
     "data": {
      "text/html": [
       "<div>\n",
       "<style scoped>\n",
       "    .dataframe tbody tr th:only-of-type {\n",
       "        vertical-align: middle;\n",
       "    }\n",
       "\n",
       "    .dataframe tbody tr th {\n",
       "        vertical-align: top;\n",
       "    }\n",
       "\n",
       "    .dataframe thead th {\n",
       "        text-align: right;\n",
       "    }\n",
       "</style>\n",
       "<table border=\"1\" class=\"dataframe\">\n",
       "  <thead>\n",
       "    <tr style=\"text-align: right;\">\n",
       "      <th></th>\n",
       "      <th>PassengerId</th>\n",
       "      <th>Pclass</th>\n",
       "      <th>Name</th>\n",
       "      <th>Sex</th>\n",
       "      <th>Age</th>\n",
       "      <th>SibSp</th>\n",
       "      <th>Parch</th>\n",
       "      <th>Ticket</th>\n",
       "      <th>Fare</th>\n",
       "      <th>Cabin</th>\n",
       "      <th>Embarked</th>\n",
       "      <th>Pclass_3</th>\n",
       "      <th>Pclass_1</th>\n",
       "      <th>Pclass_2</th>\n",
       "      <th>Sex_male</th>\n",
       "      <th>Sex_female</th>\n",
       "    </tr>\n",
       "  </thead>\n",
       "  <tbody>\n",
       "    <tr>\n",
       "      <th>0</th>\n",
       "      <td>1</td>\n",
       "      <td>1</td>\n",
       "      <td>Braund, Mr. Owen Harris</td>\n",
       "      <td>1</td>\n",
       "      <td>22.0</td>\n",
       "      <td>1</td>\n",
       "      <td>0</td>\n",
       "      <td>A/5 21171</td>\n",
       "      <td>7.25</td>\n",
       "      <td>nan</td>\n",
       "      <td>S</td>\n",
       "      <td>1</td>\n",
       "      <td>0</td>\n",
       "      <td>0</td>\n",
       "      <td>1</td>\n",
       "      <td>0</td>\n",
       "    </tr>\n",
       "  </tbody>\n",
       "</table>\n",
       "</div>"
      ],
      "text/plain": [
       "   PassengerId  Pclass                     Name  Sex   Age  SibSp  Parch  \\\n",
       "0            1       1  Braund, Mr. Owen Harris    1  22.0      1      0   \n",
       "\n",
       "      Ticket  Fare Cabin Embarked  Pclass_3  Pclass_1  Pclass_2  Sex_male  \\\n",
       "0  A/5 21171  7.25   nan        S         1         0         0         1   \n",
       "\n",
       "   Sex_female  \n",
       "0           0  "
      ]
     },
     "execution_count": 8,
     "metadata": {},
     "output_type": "execute_result"
    }
   ],
   "source": [
    "pipe_label_encoding=LabelEncoding(cols=[\"Sex\",\"Pclass\"])\n",
    "x_train_new=pipe_label_encoding.fit(x_train_new).transform(x_train_new)\n",
    "x_train_new.head(1)"
   ]
  },
  {
   "cell_type": "code",
   "execution_count": 9,
   "id": "d7564fbd",
   "metadata": {},
   "outputs": [
    {
     "data": {
      "text/html": [
       "<div>\n",
       "<style scoped>\n",
       "    .dataframe tbody tr th:only-of-type {\n",
       "        vertical-align: middle;\n",
       "    }\n",
       "\n",
       "    .dataframe tbody tr th {\n",
       "        vertical-align: top;\n",
       "    }\n",
       "\n",
       "    .dataframe thead th {\n",
       "        text-align: right;\n",
       "    }\n",
       "</style>\n",
       "<table border=\"1\" class=\"dataframe\">\n",
       "  <thead>\n",
       "    <tr style=\"text-align: right;\">\n",
       "      <th></th>\n",
       "      <th>PassengerId</th>\n",
       "      <th>Pclass</th>\n",
       "      <th>Name</th>\n",
       "      <th>Sex</th>\n",
       "      <th>Age</th>\n",
       "      <th>SibSp</th>\n",
       "      <th>Parch</th>\n",
       "      <th>Ticket</th>\n",
       "      <th>Fare</th>\n",
       "      <th>Cabin</th>\n",
       "      <th>Embarked</th>\n",
       "      <th>Pclass_3</th>\n",
       "      <th>Pclass_1</th>\n",
       "      <th>Pclass_2</th>\n",
       "      <th>Sex_male</th>\n",
       "      <th>Sex_female</th>\n",
       "    </tr>\n",
       "  </thead>\n",
       "  <tbody>\n",
       "    <tr>\n",
       "      <th>0</th>\n",
       "      <td>1</td>\n",
       "      <td>1</td>\n",
       "      <td>0.0</td>\n",
       "      <td>1</td>\n",
       "      <td>22.0</td>\n",
       "      <td>1</td>\n",
       "      <td>0</td>\n",
       "      <td>0.0</td>\n",
       "      <td>7.25</td>\n",
       "      <td>0.317829</td>\n",
       "      <td>0.334254</td>\n",
       "      <td>1</td>\n",
       "      <td>0</td>\n",
       "      <td>0</td>\n",
       "      <td>1</td>\n",
       "      <td>0</td>\n",
       "    </tr>\n",
       "  </tbody>\n",
       "</table>\n",
       "</div>"
      ],
      "text/plain": [
       "   PassengerId  Pclass  Name  Sex   Age  SibSp  Parch  Ticket  Fare     Cabin  \\\n",
       "0            1       1   0.0    1  22.0      1      0     0.0  7.25  0.317829   \n",
       "\n",
       "   Embarked  Pclass_3  Pclass_1  Pclass_2  Sex_male  Sex_female  \n",
       "0  0.334254         1         0         0         1           0  "
      ]
     },
     "execution_count": 9,
     "metadata": {},
     "output_type": "execute_result"
    }
   ],
   "source": [
    "pipe_target_encoding=TargetEncoding(cols=[\"Name\",\"Ticket\",\"Embarked\",\"Cabin\"],y=y_train)\n",
    "x_train_new=pipe_target_encoding.fit(x_train_new).transform(x_train_new)\n",
    "x_train_new.head(1)"
   ]
  },
  {
   "cell_type": "code",
   "execution_count": 10,
   "id": "604ace33",
   "metadata": {},
   "outputs": [
    {
     "data": {
      "text/html": [
       "<div>\n",
       "<style scoped>\n",
       "    .dataframe tbody tr th:only-of-type {\n",
       "        vertical-align: middle;\n",
       "    }\n",
       "\n",
       "    .dataframe tbody tr th {\n",
       "        vertical-align: top;\n",
       "    }\n",
       "\n",
       "    .dataframe thead th {\n",
       "        text-align: right;\n",
       "    }\n",
       "</style>\n",
       "<table border=\"1\" class=\"dataframe\">\n",
       "  <thead>\n",
       "    <tr style=\"text-align: right;\">\n",
       "      <th></th>\n",
       "      <th>PassengerId</th>\n",
       "      <th>Pclass</th>\n",
       "      <th>Name</th>\n",
       "      <th>Sex</th>\n",
       "      <th>Age</th>\n",
       "      <th>SibSp</th>\n",
       "      <th>Parch</th>\n",
       "      <th>Ticket</th>\n",
       "      <th>Fare</th>\n",
       "      <th>Cabin</th>\n",
       "      <th>Embarked</th>\n",
       "      <th>Pclass_3</th>\n",
       "      <th>Pclass_1</th>\n",
       "      <th>Pclass_2</th>\n",
       "      <th>Sex_male</th>\n",
       "      <th>Sex_female</th>\n",
       "    </tr>\n",
       "  </thead>\n",
       "  <tbody>\n",
       "    <tr>\n",
       "      <th>0</th>\n",
       "      <td>-1.73</td>\n",
       "      <td>-0.81</td>\n",
       "      <td>-0.79</td>\n",
       "      <td>-0.77</td>\n",
       "      <td>-0.07</td>\n",
       "      <td>0.37</td>\n",
       "      <td>-0.49</td>\n",
       "      <td>-0.84</td>\n",
       "      <td>-0.52</td>\n",
       "      <td>-0.29</td>\n",
       "      <td>-0.6</td>\n",
       "      <td>0.89</td>\n",
       "      <td>-0.55</td>\n",
       "      <td>-0.52</td>\n",
       "      <td>0.77</td>\n",
       "      <td>-0.77</td>\n",
       "    </tr>\n",
       "  </tbody>\n",
       "</table>\n",
       "</div>"
      ],
      "text/plain": [
       "   PassengerId  Pclass  Name   Sex   Age  SibSp  Parch  Ticket  Fare  Cabin  \\\n",
       "0        -1.73   -0.81 -0.79 -0.77 -0.07   0.37  -0.49   -0.84 -0.52  -0.29   \n",
       "\n",
       "   Embarked  Pclass_3  Pclass_1  Pclass_2  Sex_male  Sex_female  \n",
       "0      -0.6      0.89     -0.55     -0.52      0.77       -0.77  "
      ]
     },
     "execution_count": 10,
     "metadata": {},
     "output_type": "execute_result"
    }
   ],
   "source": [
    "pipe_normal=Normalizer()\n",
    "x_train_new=pipe_normal.fit(x_train_new).transform(x_train_new)\n",
    "x_train_new.head(1)"
   ]
  },
  {
   "cell_type": "code",
   "execution_count": 11,
   "id": "882b467a",
   "metadata": {},
   "outputs": [
    {
     "data": {
      "text/html": [
       "<div>\n",
       "<style scoped>\n",
       "    .dataframe tbody tr th:only-of-type {\n",
       "        vertical-align: middle;\n",
       "    }\n",
       "\n",
       "    .dataframe tbody tr th {\n",
       "        vertical-align: top;\n",
       "    }\n",
       "\n",
       "    .dataframe thead th {\n",
       "        text-align: right;\n",
       "    }\n",
       "</style>\n",
       "<table border=\"1\" class=\"dataframe\">\n",
       "  <thead>\n",
       "    <tr style=\"text-align: right;\">\n",
       "      <th></th>\n",
       "      <th>0</th>\n",
       "      <th>1</th>\n",
       "      <th>2</th>\n",
       "      <th>3</th>\n",
       "      <th>4</th>\n",
       "      <th>5</th>\n",
       "      <th>6</th>\n",
       "      <th>7</th>\n",
       "    </tr>\n",
       "  </thead>\n",
       "  <tbody>\n",
       "    <tr>\n",
       "      <th>0</th>\n",
       "      <td>-2.336829</td>\n",
       "      <td>0.709077</td>\n",
       "      <td>0.076081</td>\n",
       "      <td>0.074529</td>\n",
       "      <td>0.056423</td>\n",
       "      <td>1.243462</td>\n",
       "      <td>1.084358</td>\n",
       "      <td>-0.621034</td>\n",
       "    </tr>\n",
       "  </tbody>\n",
       "</table>\n",
       "</div>"
      ],
      "text/plain": [
       "          0         1         2         3         4         5         6  \\\n",
       "0 -2.336829  0.709077  0.076081  0.074529  0.056423  1.243462  1.084358   \n",
       "\n",
       "          7  \n",
       "0 -0.621034  "
      ]
     },
     "execution_count": 11,
     "metadata": {},
     "output_type": "execute_result"
    }
   ],
   "source": [
    "pipe_pca=PCADecomposition(n_components=8)\n",
    "x_train_new=pipe_pca.fit(x_train_new).transform(x_train_new)\n",
    "x_train_new.head(1)"
   ]
  },
  {
   "cell_type": "code",
   "execution_count": 12,
   "id": "d817db03",
   "metadata": {},
   "outputs": [],
   "source": [
    "from easymlops.table.extend import Normalization\n",
    "from easymlops.table.classification import LogisticRegressionClassification"
   ]
  },
  {
   "cell_type": "code",
   "execution_count": 13,
   "id": "be6b33bb",
   "metadata": {},
   "outputs": [
    {
     "data": {
      "text/html": [
       "<div>\n",
       "<style scoped>\n",
       "    .dataframe tbody tr th:only-of-type {\n",
       "        vertical-align: middle;\n",
       "    }\n",
       "\n",
       "    .dataframe tbody tr th {\n",
       "        vertical-align: top;\n",
       "    }\n",
       "\n",
       "    .dataframe thead th {\n",
       "        text-align: right;\n",
       "    }\n",
       "</style>\n",
       "<table border=\"1\" class=\"dataframe\">\n",
       "  <thead>\n",
       "    <tr style=\"text-align: right;\">\n",
       "      <th></th>\n",
       "      <th>0</th>\n",
       "      <th>1</th>\n",
       "    </tr>\n",
       "  </thead>\n",
       "  <tbody>\n",
       "    <tr>\n",
       "      <th>0</th>\n",
       "      <td>50.03</td>\n",
       "      <td>49.97</td>\n",
       "    </tr>\n",
       "  </tbody>\n",
       "</table>\n",
       "</div>"
      ],
      "text/plain": [
       "       0      1\n",
       "0  50.03  49.97"
      ]
     },
     "execution_count": 13,
     "metadata": {},
     "output_type": "execute_result"
    }
   ],
   "source": [
    "#再构建一个LR模型+归一化的pipeline\n",
    "pipeline_lr=TablePipeLine()\n",
    "pipeline_lr.pipe(LogisticRegressionClassification(y=y_train))\\\n",
    "           .pipe(Normalization())\n",
    "\n",
    "x_train_new=pipeline_lr.fit(x_train_new).transform(x_train_new)\n",
    "x_train_new.head(1)"
   ]
  },
  {
   "cell_type": "markdown",
   "id": "6ed75c32",
   "metadata": {},
   "source": [
    "### pipeline组合  \n",
    "新建一个pipeline将添加前面的pipe"
   ]
  },
  {
   "cell_type": "code",
   "execution_count": 14,
   "id": "e294b56a",
   "metadata": {},
   "outputs": [
    {
     "data": {
      "text/plain": [
       "<easymlops.table.core.pipeline_object.TablePipeLine at 0x224a6f90848>"
      ]
     },
     "execution_count": 14,
     "metadata": {},
     "output_type": "execute_result"
    }
   ],
   "source": [
    "pipeline_combine=TablePipeLine()\n",
    "pipeline_combine.pipe(pipe_fix_input)\\\n",
    "                .pipe(pipe_fillna)\\\n",
    "                .pipe(pipe_onehot_encoding)\\\n",
    "                .pipe(pipe_label_encoding)\\\n",
    "                .pipe(pipe_target_encoding)\\\n",
    "                .pipe(pipe_normal)\\\n",
    "                .pipe(pipe_pca)"
   ]
  },
  {
   "cell_type": "code",
   "execution_count": 15,
   "id": "4596f155",
   "metadata": {},
   "outputs": [
    {
     "data": {
      "text/html": [
       "<div>\n",
       "<style scoped>\n",
       "    .dataframe tbody tr th:only-of-type {\n",
       "        vertical-align: middle;\n",
       "    }\n",
       "\n",
       "    .dataframe tbody tr th {\n",
       "        vertical-align: top;\n",
       "    }\n",
       "\n",
       "    .dataframe thead th {\n",
       "        text-align: right;\n",
       "    }\n",
       "</style>\n",
       "<table border=\"1\" class=\"dataframe\">\n",
       "  <thead>\n",
       "    <tr style=\"text-align: right;\">\n",
       "      <th></th>\n",
       "      <th>0</th>\n",
       "      <th>1</th>\n",
       "      <th>2</th>\n",
       "      <th>3</th>\n",
       "      <th>4</th>\n",
       "      <th>5</th>\n",
       "      <th>6</th>\n",
       "      <th>7</th>\n",
       "    </tr>\n",
       "  </thead>\n",
       "  <tbody>\n",
       "    <tr>\n",
       "      <th>500</th>\n",
       "      <td>-2.286689</td>\n",
       "      <td>0.370987</td>\n",
       "      <td>0.023063</td>\n",
       "      <td>-0.609253</td>\n",
       "      <td>-0.039276</td>\n",
       "      <td>-1.774035</td>\n",
       "      <td>-0.591055</td>\n",
       "      <td>-0.276472</td>\n",
       "    </tr>\n",
       "  </tbody>\n",
       "</table>\n",
       "</div>"
      ],
      "text/plain": [
       "            0         1         2         3         4         5         6  \\\n",
       "500 -2.286689  0.370987  0.023063 -0.609253 -0.039276 -1.774035 -0.591055   \n",
       "\n",
       "            7  \n",
       "500 -0.276472  "
      ]
     },
     "execution_count": 15,
     "metadata": {},
     "output_type": "execute_result"
    }
   ],
   "source": [
    "pipeline_combine.transform(x_test[:1])"
   ]
  },
  {
   "cell_type": "markdown",
   "id": "b5bfb01b",
   "metadata": {},
   "source": [
    "pipeline也可以pipe一个pipeline，这样就可以做多层嵌套"
   ]
  },
  {
   "cell_type": "code",
   "execution_count": 16,
   "id": "047b8ca3",
   "metadata": {},
   "outputs": [
    {
     "data": {
      "text/plain": [
       "<easymlops.table.core.pipeline_object.TablePipeLine at 0x224a6f90848>"
      ]
     },
     "execution_count": 16,
     "metadata": {},
     "output_type": "execute_result"
    }
   ],
   "source": [
    "pipeline_combine.pipe(pipeline_lr)"
   ]
  },
  {
   "cell_type": "code",
   "execution_count": 17,
   "id": "e05f9fd2",
   "metadata": {},
   "outputs": [
    {
     "data": {
      "text/html": [
       "<div>\n",
       "<style scoped>\n",
       "    .dataframe tbody tr th:only-of-type {\n",
       "        vertical-align: middle;\n",
       "    }\n",
       "\n",
       "    .dataframe tbody tr th {\n",
       "        vertical-align: top;\n",
       "    }\n",
       "\n",
       "    .dataframe thead th {\n",
       "        text-align: right;\n",
       "    }\n",
       "</style>\n",
       "<table border=\"1\" class=\"dataframe\">\n",
       "  <thead>\n",
       "    <tr style=\"text-align: right;\">\n",
       "      <th></th>\n",
       "      <th>0</th>\n",
       "      <th>1</th>\n",
       "    </tr>\n",
       "  </thead>\n",
       "  <tbody>\n",
       "    <tr>\n",
       "      <th>500</th>\n",
       "      <td>50.02</td>\n",
       "      <td>49.98</td>\n",
       "    </tr>\n",
       "  </tbody>\n",
       "</table>\n",
       "</div>"
      ],
      "text/plain": [
       "         0      1\n",
       "500  50.02  49.98"
      ]
     },
     "execution_count": 17,
     "metadata": {},
     "output_type": "execute_result"
    }
   ],
   "source": [
    "pipeline_combine.transform(x_test[:1])"
   ]
  },
  {
   "cell_type": "markdown",
   "id": "12a14fc2",
   "metadata": {},
   "source": [
    "### 性能、一致性测试"
   ]
  },
  {
   "cell_type": "code",
   "execution_count": 18,
   "id": "e1334220",
   "metadata": {
    "scrolled": true
   },
   "outputs": [
    {
     "name": "stdout",
     "output_type": "stream",
     "text": [
      "\n",
      "###################################################################\n",
      " 1.一致性测试和性能测试:check_transform_function                      \n",
      "###################################################################\n",
      "(<class 'easymlops.table.preprocessing.core.FixInput'>) module check [transform] complete,speed:[0.0ms]/it,cpu:[0%],memory:[0K]\n",
      "(<class 'easymlops.table.preprocessing.onevar_operation.FillNa'>) module check [transform] complete,speed:[0.1ms]/it,cpu:[0%],memory:[0K]\n",
      "(<class 'easymlops.table.encoding.OneHotEncoding'>) module check [transform] complete,speed:[0.0ms]/it,cpu:[0%],memory:[0K]\n",
      "(<class 'easymlops.table.encoding.LabelEncoding'>) module check [transform] complete,speed:[0.0ms]/it,cpu:[0%],memory:[0K]\n",
      "(<class 'easymlops.table.encoding.TargetEncoding'>) module check [transform] complete,speed:[0.0ms]/it,cpu:[0%],memory:[0K]\n",
      "(<class 'easymlops.table.preprocessing.onevar_operation.Normalizer'>) module check [transform] complete,speed:[0.0ms]/it,cpu:[0%],memory:[0K]\n",
      "(<class 'easymlops.table.decomposition.PCADecomposition'>) module check [transform] complete,speed:[3.4ms]/it,cpu:[58%],memory:[0K]\n",
      "(<class 'easymlops.table.classification.LogisticRegressionClassification'>) module check [transform] complete,speed:[1.7ms]/it,cpu:[0%],memory:[0K]\n",
      "(<class 'easymlops.table.extend.normalization.Normalization'>) module check [transform] complete,speed:[0.0ms]/it,cpu:[0%],memory:[0K]\n",
      "\n",
      "#########################################################################################\n",
      " 2.空值测试:check_null_value                                                           \n",
      " null_values=[None, np.nan, \"null\", \"NULL\", \"nan\", \"NaN\", \"\", \"none\", \"None\", \" \"](默认)\n",
      "########################################################################################\n",
      "column:[PassengerId] check [null value] complete,speed:[5.57ms]/it,cpu:[30%],memory:[24K]\n",
      "column:[Pclass] check [null value] complete,speed:[6.28ms]/it,cpu:[25%],memory:[0K]\n",
      "column:[Name] check [null value] complete,speed:[5.59ms]/it,cpu:[16%],memory:[0K]\n",
      "column:[Sex] check [null value] complete,speed:[6.27ms]/it,cpu:[16%],memory:[0K]\n",
      "column:[Age] check [null value] complete,speed:[5.94ms]/it,cpu:[16%],memory:[0K]\n",
      "column:[SibSp] check [null value] complete,speed:[5.31ms]/it,cpu:[20%],memory:[0K]\n",
      "column:[Parch] check [null value] complete,speed:[6.11ms]/it,cpu:[32%],memory:[1596K]\n",
      "column:[Ticket] check [null value] complete,speed:[5.93ms]/it,cpu:[16%],memory:[0K]\n",
      "column:[Fare] check [null value] complete,speed:[5.59ms]/it,cpu:[16%],memory:[0K]\n",
      "column:[Cabin] check [null value] complete,speed:[6.25ms]/it,cpu:[33%],memory:[1028K]\n",
      "column:[Embarked] check [null value] complete,speed:[5.98ms]/it,cpu:[33%],memory:[416K]\n",
      "\n",
      "############################################################################################################\n",
      " 3.极端值测试:check_extreme_value                                                                            \n",
      " number_extreme_values = [np.inf, 0.0, -1, 1, -1e-7, 1e-7, np.finfo(np.float64).min, np.finfo(np.float64).max](默认)\n",
      " category_extreme_values = [\"\", \"null\", None, \"1.0\", \"0.0\", \"-1.0\", \"-1\", \"NaN\", \"None\"](默认)                            \n",
      "###########################################################################################################\n",
      "column:[PassengerId] check [extreme value] complete,speed:[5.92ms]/it,cpu:[42%],memory:[10728K]\n",
      "column:[Pclass] check [extreme value] complete,speed:[6.52ms]/it,cpu:[66%],memory:[7176K]\n",
      "column:[Name] check [extreme value] complete,speed:[8.76ms]/it,cpu:[94%],memory:[53744K]\n",
      "column:[Sex] check [extreme value] complete,speed:[6.95ms]/it,cpu:[91%],memory:[9320K]\n",
      "column:[Age] check [extreme value] complete,speed:[6.57ms]/it,cpu:[100%],memory:[77712K]\n",
      "column:[SibSp] check [extreme value] complete,speed:[6.2ms]/it,cpu:[71%],memory:[5872K]\n",
      "column:[Parch] check [extreme value] complete,speed:[6.1ms]/it,cpu:[58%],memory:[9324K]\n",
      "column:[Ticket] check [extreme value] complete,speed:[7.34ms]/it,cpu:[100%],memory:[4788K]\n",
      "column:[Fare] check [extreme value] complete,speed:[6.63ms]/it,cpu:[87%],memory:[4904K]\n",
      "column:[Cabin] check [extreme value] complete,speed:[6.27ms]/it,cpu:[83%],memory:[239272K]\n",
      "column:[Embarked] check [extreme value] complete,speed:[5.71ms]/it,cpu:[77%],memory:[13376K]\n",
      "column:[__all__] check [extreme value] complete,speed:[6.13ms]/it,cpu:[83%],memory:[34196K]\n",
      "\n",
      "###############################################################################################################\n",
      " 4.数据类型反转测试:check_inverse_dtype                                                                          \n",
      " category_inverse_values = [0.0, -1, 1, -1e-7, 1e-7, np.finfo(np.float64).min, np.finfo(np.float64).max](默认)\n",
      " number_inverse_values = [\"\", \"null\", None, \"1.0\", \"0.0\", \"-1.0\", \"-1\"](默认)                                \n",
      "#############################################################################################################\n",
      "column:[PassengerId] check [inverse type] complete,speed:[6.5ms]/it,cpu:[100%],memory:[12792K]\n",
      "column:[Pclass] check [inverse type] complete,speed:[5.59ms]/it,cpu:[50%],memory:[1788K]\n",
      "column:[Name] check [inverse type] complete,speed:[5.87ms]/it,cpu:[50%],memory:[204K]\n",
      "column:[Sex] check [inverse type] complete,speed:[6.18ms]/it,cpu:[66%],memory:[11464K]\n",
      "column:[Age] check [inverse type] complete,speed:[5.96ms]/it,cpu:[30%],memory:[1028K]\n",
      "column:[SibSp] check [inverse type] complete,speed:[6.14ms]/it,cpu:[45%],memory:[34500K]\n",
      "column:[Parch] check [inverse type] complete,speed:[6.05ms]/it,cpu:[27%],memory:[688K]\n",
      "column:[Ticket] check [inverse type] complete,speed:[5.52ms]/it,cpu:[43%],memory:[7828K]\n",
      "column:[Fare] check [inverse type] complete,speed:[6.08ms]/it,cpu:[43%],memory:[828K]\n",
      "column:[Cabin] check [inverse type] complete,speed:[5.95ms]/it,cpu:[54%],memory:[14752K]\n",
      "column:[Embarked] check [inverse type] complete,speed:[5.8ms]/it,cpu:[47%],memory:[1360K]\n",
      "\n",
      "############################################\n",
      " 5.int数据转float测试:check_int_trans_float                                                                                            \n",
      "############################################\n",
      "column:[PassengerId] check [int trans float] complete,speed:[6.74ms]/it,cpu:[66%],memory:[1396K]\n",
      "column:[Pclass] check [int trans float] complete,speed:[6.38ms]/it,cpu:[33%],memory:[12K]\n",
      "column:[SibSp] check [int trans float] complete,speed:[5.98ms]/it,cpu:[23%],memory:[8K]\n",
      "column:[Parch] check [int trans float] complete,speed:[6.1ms]/it,cpu:[25%],memory:[0K]\n"
     ]
    }
   ],
   "source": [
    "pipeline_combine.auto_test(x_test[:10])"
   ]
  },
  {
   "cell_type": "markdown",
   "id": "ee880b16",
   "metadata": {},
   "source": [
    "### 持久化测试"
   ]
  },
  {
   "cell_type": "code",
   "execution_count": 19,
   "id": "86b45cbc",
   "metadata": {},
   "outputs": [],
   "source": [
    "pipeline_combine.save(\"ml.pkl\")"
   ]
  },
  {
   "cell_type": "code",
   "execution_count": 20,
   "id": "534df757",
   "metadata": {},
   "outputs": [],
   "source": [
    "pipeline_combine=TablePipeLine()\n",
    "pipeline_combine.pipe(FixInput())\\\n",
    "                .pipe(FillNa())\\\n",
    "                .pipe(OneHotEncoding())\\\n",
    "                .pipe(LabelEncoding())\\\n",
    "                .pipe(TargetEncoding())\\\n",
    "                .pipe(Normalizer())\\\n",
    "                .pipe(PCADecomposition())\\\n",
    "                .pipe(TablePipeLine().pipe(LogisticRegressionClassification()).pipe(Normalization()))\n",
    "\n",
    "\n",
    "pipeline_combine.load(\"ml.pkl\")"
   ]
  },
  {
   "cell_type": "code",
   "execution_count": 21,
   "id": "728c4cbb",
   "metadata": {
    "scrolled": true
   },
   "outputs": [
    {
     "name": "stdout",
     "output_type": "stream",
     "text": [
      "\n",
      "###################################################################\n",
      " 1.一致性测试和性能测试:check_transform_function                      \n",
      "###################################################################\n",
      "(<class 'easymlops.table.preprocessing.core.FixInput'>) module check [transform] complete,speed:[0.0ms]/it,cpu:[0%],memory:[0K]\n",
      "(<class 'easymlops.table.preprocessing.onevar_operation.FillNa'>) module check [transform] complete,speed:[0.0ms]/it,cpu:[0%],memory:[0K]\n",
      "(<class 'easymlops.table.encoding.OneHotEncoding'>) module check [transform] complete,speed:[0.0ms]/it,cpu:[0%],memory:[0K]\n",
      "(<class 'easymlops.table.encoding.LabelEncoding'>) module check [transform] complete,speed:[0.0ms]/it,cpu:[0%],memory:[0K]\n",
      "(<class 'easymlops.table.encoding.TargetEncoding'>) module check [transform] complete,speed:[0.0ms]/it,cpu:[0%],memory:[0K]\n",
      "(<class 'easymlops.table.preprocessing.onevar_operation.Normalizer'>) module check [transform] complete,speed:[0.0ms]/it,cpu:[0%],memory:[0K]\n",
      "(<class 'easymlops.table.decomposition.PCADecomposition'>) module check [transform] complete,speed:[3.13ms]/it,cpu:[0%],memory:[0K]\n",
      "(<class 'easymlops.table.classification.LogisticRegressionClassification'>) module check [transform] complete,speed:[1.56ms]/it,cpu:[16%],memory:[0K]\n",
      "(<class 'easymlops.table.extend.normalization.Normalization'>) module check [transform] complete,speed:[0.0ms]/it,cpu:[0%],memory:[0K]\n",
      "\n",
      "#########################################################################################\n",
      " 2.空值测试:check_null_value                                                           \n",
      " null_values=[None, np.nan, \"null\", \"NULL\", \"nan\", \"NaN\", \"\", \"none\", \"None\", \" \"](默认)\n",
      "########################################################################################\n",
      "column:[PassengerId] check [null value] complete,speed:[5.53ms]/it,cpu:[23%],memory:[204K]\n",
      "column:[Pclass] check [null value] complete,speed:[6.02ms]/it,cpu:[17%],memory:[0K]\n",
      "column:[Name] check [null value] complete,speed:[5.73ms]/it,cpu:[41%],memory:[8K]\n",
      "column:[Sex] check [null value] complete,speed:[6.11ms]/it,cpu:[16%],memory:[0K]\n",
      "column:[Age] check [null value] complete,speed:[6.17ms]/it,cpu:[72%],memory:[0K]\n",
      "column:[SibSp] check [null value] complete,speed:[6.08ms]/it,cpu:[63%],memory:[0K]\n",
      "column:[Parch] check [null value] complete,speed:[6.32ms]/it,cpu:[16%],memory:[0K]\n",
      "column:[Ticket] check [null value] complete,speed:[5.31ms]/it,cpu:[33%],memory:[12K]\n",
      "column:[Fare] check [null value] complete,speed:[5.68ms]/it,cpu:[24%],memory:[0K]\n",
      "column:[Cabin] check [null value] complete,speed:[5.28ms]/it,cpu:[19%],memory:[0K]\n",
      "column:[Embarked] check [null value] complete,speed:[5.89ms]/it,cpu:[20%],memory:[0K]\n",
      "\n",
      "############################################################################################################\n",
      " 3.极端值测试:check_extreme_value                                                                            \n",
      " number_extreme_values = [np.inf, 0.0, -1, 1, -1e-7, 1e-7, np.finfo(np.float64).min, np.finfo(np.float64).max](默认)\n",
      " category_extreme_values = [\"\", \"null\", None, \"1.0\", \"0.0\", \"-1.0\", \"-1\", \"NaN\", \"None\"](默认)                            \n",
      "###########################################################################################################\n",
      "column:[PassengerId] check [extreme value] complete,speed:[6.31ms]/it,cpu:[25%],memory:[36K]\n",
      "column:[Pclass] check [extreme value] complete,speed:[7.1ms]/it,cpu:[27%],memory:[104K]\n",
      "column:[Name] check [extreme value] complete,speed:[5.95ms]/it,cpu:[27%],memory:[412K]\n",
      "column:[Sex] check [extreme value] complete,speed:[6.19ms]/it,cpu:[81%],memory:[39036K]\n",
      "column:[Age] check [extreme value] complete,speed:[5.6ms]/it,cpu:[19%],memory:[252K]\n",
      "column:[SibSp] check [extreme value] complete,speed:[5.61ms]/it,cpu:[58%],memory:[8168K]\n",
      "column:[Parch] check [extreme value] complete,speed:[5.93ms]/it,cpu:[42%],memory:[380K]\n",
      "column:[Ticket] check [extreme value] complete,speed:[5.89ms]/it,cpu:[72%],memory:[288K]\n",
      "column:[Fare] check [extreme value] complete,speed:[5.8ms]/it,cpu:[87%],memory:[2184K]\n",
      "column:[Cabin] check [extreme value] complete,speed:[5.57ms]/it,cpu:[61%],memory:[108K]\n",
      "column:[Embarked] check [extreme value] complete,speed:[5.76ms]/it,cpu:[35%],memory:[420K]\n",
      "column:[__all__] check [extreme value] complete,speed:[5.82ms]/it,cpu:[59%],memory:[1732K]\n",
      "\n",
      "###############################################################################################################\n",
      " 4.数据类型反转测试:check_inverse_dtype                                                                          \n",
      " category_inverse_values = [0.0, -1, 1, -1e-7, 1e-7, np.finfo(np.float64).min, np.finfo(np.float64).max](默认)\n",
      " number_inverse_values = [\"\", \"null\", None, \"1.0\", \"0.0\", \"-1.0\", \"-1\"](默认)                                \n",
      "#############################################################################################################\n",
      "column:[PassengerId] check [inverse type] complete,speed:[5.86ms]/it,cpu:[30%],memory:[252K]\n",
      "column:[Pclass] check [inverse type] complete,speed:[5.51ms]/it,cpu:[50%],memory:[72K]\n",
      "column:[Name] check [inverse type] complete,speed:[5.88ms]/it,cpu:[59%],memory:[93792K]\n",
      "column:[Sex] check [inverse type] complete,speed:[5.76ms]/it,cpu:[22%],memory:[1168K]\n",
      "column:[Age] check [inverse type] complete,speed:[5.88ms]/it,cpu:[31%],memory:[112K]\n",
      "column:[SibSp] check [inverse type] complete,speed:[6.35ms]/it,cpu:[59%],memory:[1244K]\n",
      "column:[Parch] check [inverse type] complete,speed:[6.17ms]/it,cpu:[48%],memory:[1060K]\n",
      "column:[Ticket] check [inverse type] complete,speed:[5.95ms]/it,cpu:[40%],memory:[22616K]\n",
      "column:[Fare] check [inverse type] complete,speed:[5.31ms]/it,cpu:[26%],memory:[172K]\n",
      "column:[Cabin] check [inverse type] complete,speed:[6.07ms]/it,cpu:[27%],memory:[1432K]\n",
      "column:[Embarked] check [inverse type] complete,speed:[5.76ms]/it,cpu:[33%],memory:[468K]\n",
      "\n",
      "############################################\n",
      " 5.int数据转float测试:check_int_trans_float                                                                                            \n",
      "############################################\n",
      "column:[PassengerId] check [int trans float] complete,speed:[6.25ms]/it,cpu:[22%],memory:[0K]\n",
      "column:[Pclass] check [int trans float] complete,speed:[7.23ms]/it,cpu:[33%],memory:[160K]\n",
      "column:[SibSp] check [int trans float] complete,speed:[5.7ms]/it,cpu:[16%],memory:[16K]\n",
      "column:[Parch] check [int trans float] complete,speed:[5.96ms]/it,cpu:[21%],memory:[12K]\n"
     ]
    }
   ],
   "source": [
    "pipeline_combine.auto_test(x_test[:10])"
   ]
  },
  {
   "cell_type": "code",
   "execution_count": 22,
   "id": "d0a6dcf4",
   "metadata": {},
   "outputs": [
    {
     "data": {
      "text/html": [
       "<div>\n",
       "<style scoped>\n",
       "    .dataframe tbody tr th:only-of-type {\n",
       "        vertical-align: middle;\n",
       "    }\n",
       "\n",
       "    .dataframe tbody tr th {\n",
       "        vertical-align: top;\n",
       "    }\n",
       "\n",
       "    .dataframe thead th {\n",
       "        text-align: right;\n",
       "    }\n",
       "</style>\n",
       "<table border=\"1\" class=\"dataframe\">\n",
       "  <thead>\n",
       "    <tr style=\"text-align: right;\">\n",
       "      <th></th>\n",
       "      <th>0</th>\n",
       "      <th>1</th>\n",
       "    </tr>\n",
       "  </thead>\n",
       "  <tbody>\n",
       "    <tr>\n",
       "      <th>500</th>\n",
       "      <td>50.02</td>\n",
       "      <td>49.98</td>\n",
       "    </tr>\n",
       "    <tr>\n",
       "      <th>501</th>\n",
       "      <td>49.91</td>\n",
       "      <td>50.09</td>\n",
       "    </tr>\n",
       "    <tr>\n",
       "      <th>502</th>\n",
       "      <td>49.84</td>\n",
       "      <td>50.16</td>\n",
       "    </tr>\n",
       "    <tr>\n",
       "      <th>503</th>\n",
       "      <td>49.95</td>\n",
       "      <td>50.05</td>\n",
       "    </tr>\n",
       "    <tr>\n",
       "      <th>504</th>\n",
       "      <td>48.38</td>\n",
       "      <td>51.62</td>\n",
       "    </tr>\n",
       "  </tbody>\n",
       "</table>\n",
       "</div>"
      ],
      "text/plain": [
       "         0      1\n",
       "500  50.02  49.98\n",
       "501  49.91  50.09\n",
       "502  49.84  50.16\n",
       "503  49.95  50.05\n",
       "504  48.38  51.62"
      ]
     },
     "execution_count": 22,
     "metadata": {},
     "output_type": "execute_result"
    }
   ],
   "source": [
    "pipeline_combine.transform(x_test[:5])"
   ]
  },
  {
   "cell_type": "code",
   "execution_count": null,
   "id": "51cc6b72",
   "metadata": {},
   "outputs": [],
   "source": []
  }
 ],
 "metadata": {
  "kernelspec": {
   "display_name": "Python 3 (ipykernel)",
   "language": "python",
   "name": "python3"
  },
  "language_info": {
   "codemirror_mode": {
    "name": "ipython",
    "version": 3
   },
   "file_extension": ".py",
   "mimetype": "text/x-python",
   "name": "python",
   "nbconvert_exporter": "python",
   "pygments_lexer": "ipython3",
   "version": "3.7.15"
  }
 },
 "nbformat": 4,
 "nbformat_minor": 5
}
