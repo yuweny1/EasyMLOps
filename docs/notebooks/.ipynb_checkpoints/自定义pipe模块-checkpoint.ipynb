{
 "cells": [
  {
   "cell_type": "markdown",
   "id": "713a825c",
   "metadata": {},
   "source": [
    "# 自定义pipe模块\n",
    "\n",
    "由设计逻辑出发，逐步对pipe所支持的功能展开介绍\n",
    "\n",
    "## pipe设计逻辑\n",
    "\n",
    "pipe是构成pipeline的最小执行单元，它要做到如下特性：   \n",
    "\n",
    "- 独立：每个pipe就是一个独立的个体，这样一旦出现问题，通常只需要修复问题pipe模块，不需要去review全局代码； \n",
    "- 全面：同时每个pipe又要做到**麻雀虽小、五脏俱全**，它需要再自己内部完成模型的训练、预测、生产预测等基本功能；  \n",
    "- 通用：所有pipe应该遵循同一套标准，规范输入和输出，这样对外调用透明，pipeline可以方便的流转整合这些pipe  \n",
    "\n",
    "功能层面，按需求层次可以拆分如下：   \n",
    "\n",
    "- 最低需求-数据分析：只需要完成对数据的fit和transform即可  \n",
    "- 持久化需求：还想要复用模块，那就需要实现set_params和get_params  \n",
    "- 生产需求：需要实现transform_single，保证与transform一致  \n",
    "- 安全需求：更稳健的函数实现方式\n",
    "- 扩展需求：\n",
    "    - 自行定义添加新函数：后续在pipeline中会介绍如果获取到pipe并调用  \n",
    "    - 回调函数的方式：这样不会使得pipe越来越臃肿，只保留自身相关的功能\n",
    "\n",
    "- 高阶需求：\n",
    "    - 依赖需求：获取当前pipe的前置pipe以完成一些需求，比如调用前置pipe的transform \n",
    "    - 挂载需求：当前pipe需要后续执行一些额外的操作，但这些操作又不需要在作用在pipeline中，比如记录当前pipe的输出，这是可以将额外操作封装为一个pipe，并设置为branch_pipe即可"
   ]
  },
  {
   "cell_type": "code",
   "execution_count": 1,
   "id": "20319a59",
   "metadata": {},
   "outputs": [],
   "source": [
    "#准备数据\n",
    "import os\n",
    "os.chdir(\"../../\")#与easymlops同级目录\n",
    "import pandas as pd\n",
    "data=pd.read_csv(\"./data/demo.csv\")\n",
    "x_train=data[:500]\n",
    "x_test=data[500:]\n",
    "y_train=x_train[\"Survived\"]\n",
    "y_test=x_test[\"Survived\"]\n",
    "del x_train[\"Survived\"]\n",
    "del x_test[\"Survived\"]"
   ]
  },
  {
   "cell_type": "markdown",
   "id": "8e5011ed",
   "metadata": {},
   "source": [
    "## 最低需求：数据分析  \n",
    "如果只是临时性的数据分析，而且需要用到easymlops的其他pipe模块，那么只需要实现fit和transform即融入，下面以TargetEncoding举例"
   ]
  },
  {
   "cell_type": "code",
   "execution_count": 2,
   "id": "7914de70",
   "metadata": {},
   "outputs": [],
   "source": [
    "from easymlops import TablePipeLine\n",
    "from easymlops.table.preprocessing import *\n",
    "from easymlops.table.encoding import *\n",
    "from easymlops.table.perfopt import *\n",
    "from easymlops.table.decomposition import *"
   ]
  },
  {
   "cell_type": "code",
   "execution_count": 3,
   "id": "897e0502",
   "metadata": {},
   "outputs": [],
   "source": [
    "class UDFTargetEncoding(TablePipeObjectBase):\n",
    "    def __init__(self,y=None,cols=None, error_value=0):\n",
    "        super().__init__()\n",
    "        self.y=y\n",
    "        self.cols=cols\n",
    "        self.error_value = error_value\n",
    "        self.target_map_detail = dict()\n",
    "\n",
    "    def fit(self, s, **kwargs):\n",
    "        assert self.y is not None and len(self.y) == len(s)\n",
    "        s[\"y_\"] = self.y\n",
    "        for col in self.cols:\n",
    "            tmp_ = s[[col, \"y_\"]]\n",
    "            col_map = list(tmp_.groupby([col]).agg({\"y_\": [\"mean\"]}).to_dict().values())[0]\n",
    "            self.target_map_detail[col] = col_map\n",
    "        del s[\"y_\"]\n",
    "        return self\n",
    "    \n",
    "    def transform(self, s, **kwargs):\n",
    "        for col in self.cols:\n",
    "            if col in s.columns:\n",
    "                s[col] = s[col].map(self.target_map_detail[col]).fillna(self.error_value)\n",
    "        return s"
   ]
  },
  {
   "cell_type": "markdown",
   "id": "0c6ebfb1",
   "metadata": {},
   "source": [
    "我们看到这个类里面定义了3个函数，它们的功能如下：   \n",
    "- `__init__`函数：这是对象初始化函数，在新建对象的时候就会调用的函数（如果不清楚，可以补充一下python面向对象编程方面的知识），然后有几个入参，`y`即是`target`，`cols`表示要对那些列做encoding，`error_value`表示预测阶段不被命中的target encoding的默认值；同时通过`self.xxx`将这些参数共享（变量名称前加`self.`表示为成员变量，可以在各成员函数中共享），新建立了一个`self.target_map_detail`用于记录各col的各个取值对应的targetencoding值，另外这里面有个`super().__init__()`它表示调用父类`TablePipeObjectBase`中的初始化方法 \n",
    "\n",
    "- `fit`函数：fit阶段将cols中的col逐个取出，并与y拼接，对col中各取值做分组求y的均值，然后将其对应关系保存到`self.target_map_detail`\n",
    "\n",
    "- `transform`函数：拿到各col的map关系，做map即可"
   ]
  },
  {
   "cell_type": "code",
   "execution_count": 4,
   "id": "d3da57bc",
   "metadata": {},
   "outputs": [
    {
     "name": "stdout",
     "output_type": "stream",
     "text": [
      "|     |   Age |     Fare |   Embarked |\n",
      "|----:|------:|---------:|-----------:|\n",
      "| 500 |    17 |  8.66406 |   0.334254 |\n",
      "| 501 |    21 |  7.75    |   0.511111 |\n",
      "| 502 |   nan |  7.62891 |   0.511111 |\n",
      "| 503 |    37 |  9.58594 |   0.334254 |\n",
      "| 504 |    16 | 86.5     |   0.334254 |\n"
     ]
    }
   ],
   "source": [
    "table=TablePipeLine()\n",
    "table.pipe(FixInput())\\\n",
    "  .pipe(SelectCols(cols=[\"Age\",\"Fare\",\"Embarked\"]))\\\n",
    "  .pipe(UDFTargetEncoding(cols=[\"Embarked\"],y=y_train))\n",
    "\n",
    "x_test_new=table.fit(x_train).transform(x_test)\n",
    "print(x_test_new.head(5).to_markdown())"
   ]
  },
  {
   "cell_type": "markdown",
   "id": "2d61be1e",
   "metadata": {},
   "source": [
    "## 持久化需求  \n",
    "但这时我们的模型还只能临时用一用，想保留下来留着下次使用还得实现另外一组函数get_params和set_params，\n",
    "- get_params：将告诉上层，需要持久化的参数有那些 \n",
    "- set_params：是上层给你这个参数，你要怎么还原为成员变量   \n",
    "\n",
    "具体要保留那些参数，最小要求是transform所需的那些，接下来加入get_params和set_params"
   ]
  },
  {
   "cell_type": "code",
   "execution_count": 5,
   "id": "b2121b19",
   "metadata": {},
   "outputs": [],
   "source": [
    "class UDFTargetEncoding(TablePipeObjectBase):\n",
    "    def __init__(self,y=None,cols=None, error_value=0):\n",
    "        super().__init__()\n",
    "        self.y=y\n",
    "        self.cols=cols\n",
    "        self.error_value = error_value\n",
    "        self.target_map_detail = dict()\n",
    "\n",
    "    def fit(self, s, **kwargs):\n",
    "        assert self.y is not None and len(self.y) == len(s)\n",
    "        s[\"y_\"] = self.y\n",
    "        for col in self.cols:\n",
    "            tmp_ = s[[col, \"y_\"]]\n",
    "            col_map = list(tmp_.groupby([col]).agg({\"y_\": [\"mean\"]}).to_dict().values())[0]\n",
    "            self.target_map_detail[col] = col_map\n",
    "        del s[\"y_\"]\n",
    "        return self\n",
    "    \n",
    "    def transform(self, s, **kwargs):\n",
    "        for col in self.cols:\n",
    "            if col in s.columns:\n",
    "                s[col] = s[col].map(self.target_map_detail[col]).fillna(self.error_value)\n",
    "        return s\n",
    "    \n",
    "    def get_params(self):\n",
    "        #获取父类的params\n",
    "        params=super().get_params()\n",
    "        #加入当前的参数\n",
    "        params.update({\"target_map_detail\": self.target_map_detail, \"error_value\": self.error_value,\"cols\":self.cols})\n",
    "        return params\n",
    "    \n",
    "    def set_params(self, params):\n",
    "        #设置父类的params\n",
    "        super().set_params(params)\n",
    "        #再设置当前层的params\n",
    "        self.target_map_detail = params[\"target_map_detail\"]\n",
    "        self.error_value = params[\"error_value\"]\n",
    "        self.cols=params[\"cols\"]"
   ]
  },
  {
   "cell_type": "markdown",
   "id": "34123e5d",
   "metadata": {},
   "source": [
    "这里需要注意父类里面还有参数需要保存，所以有`super().get_params()`和`super().set_params(params)`"
   ]
  },
  {
   "cell_type": "code",
   "execution_count": 6,
   "id": "a5416988",
   "metadata": {},
   "outputs": [
    {
     "name": "stdout",
     "output_type": "stream",
     "text": [
      "|     |   Age |     Fare |   Embarked |\n",
      "|----:|------:|---------:|-----------:|\n",
      "| 500 |    17 |  8.66406 |   0.334254 |\n",
      "| 501 |    21 |  7.75    |   0.511111 |\n",
      "| 502 |   nan |  7.62891 |   0.511111 |\n",
      "| 503 |    37 |  9.58594 |   0.334254 |\n",
      "| 504 |    16 | 86.5     |   0.334254 |\n"
     ]
    }
   ],
   "source": [
    "table=TablePipeLine()\n",
    "table.pipe(FixInput())\\\n",
    "  .pipe(SelectCols(cols=[\"Age\",\"Fare\",\"Embarked\"]))\\\n",
    "  .pipe(UDFTargetEncoding(cols=[\"Embarked\"],y=y_train))\n",
    "\n",
    "x_test_new=table.fit(x_train).transform(x_test)\n",
    "print(x_test_new.head(5).to_markdown())"
   ]
  },
  {
   "cell_type": "markdown",
   "id": "5aafba15",
   "metadata": {},
   "source": [
    "### 保存"
   ]
  },
  {
   "cell_type": "code",
   "execution_count": 46,
   "id": "43f8329a",
   "metadata": {},
   "outputs": [],
   "source": [
    "table.save(\"table.pkl\")"
   ]
  },
  {
   "cell_type": "markdown",
   "id": "deec181c",
   "metadata": {},
   "source": [
    "### 加载"
   ]
  },
  {
   "cell_type": "code",
   "execution_count": 47,
   "id": "aaa0004e",
   "metadata": {},
   "outputs": [],
   "source": [
    "table=TablePipeLine()\n",
    "table.pipe(FixInput())\\\n",
    "  .pipe(SelectCols())\\\n",
    "  .pipe(UDFTargetEncoding())\n",
    "\n",
    "table.load(\"table.pkl\")"
   ]
  },
  {
   "cell_type": "code",
   "execution_count": 48,
   "id": "6b4c0c53",
   "metadata": {},
   "outputs": [
    {
     "name": "stdout",
     "output_type": "stream",
     "text": [
      "|     |   Age |     Fare |   Embarked |\n",
      "|----:|------:|---------:|-----------:|\n",
      "| 500 |    17 |  8.66406 |   0.334254 |\n",
      "| 501 |    21 |  7.75    |   0.511111 |\n",
      "| 502 |   nan |  7.62891 |   0.511111 |\n",
      "| 503 |    37 |  9.58594 |   0.334254 |\n",
      "| 504 |    16 | 86.5     |   0.334254 |\n"
     ]
    }
   ],
   "source": [
    "print(table.transform(x_test).head(5).to_markdown())"
   ]
  },
  {
   "cell_type": "markdown",
   "id": "d254eb3c",
   "metadata": {},
   "source": [
    "## 生产需求\n",
    "线上生产环境需要：   \n",
    "\n",
    "1）更加快速的预测； \n",
    "\n",
    "2）输入数据格式通常是json； \n",
    "\n",
    "为了匹配生产，单独设计的了另一个函数transform_single，用于生产上的数据预测，它的输入是dict格式(解析json后),要求输出要与transform的一致"
   ]
  },
  {
   "cell_type": "code",
   "execution_count": 35,
   "id": "90d0c146",
   "metadata": {},
   "outputs": [],
   "source": [
    "class UDFTargetEncoding(TablePipeObjectBase):\n",
    "    def __init__(self,y=None,cols=None, error_value=0):\n",
    "        super().__init__()\n",
    "        self.y=y\n",
    "        self.cols=cols\n",
    "        self.error_value = error_value\n",
    "        self.target_map_detail = dict()\n",
    "\n",
    "    def fit(self, s,**kwargs):\n",
    "        assert self.y is not None and len(self.y) == len(s)\n",
    "        s[\"y_\"] = self.y\n",
    "        for col in self.cols:\n",
    "            tmp_ = s[[col, \"y_\"]]\n",
    "            col_map = list(tmp_.groupby([col]).agg({\"y_\": [\"mean\"]}).to_dict().values())[0]\n",
    "            self.target_map_detail[col] = col_map\n",
    "        del s[\"y_\"]\n",
    "        return self\n",
    "    \n",
    "    def transform(self, s,**kwargs):\n",
    "        for col in self.cols:\n",
    "            if col in s.columns:\n",
    "                s[col] = s[col].map(self.target_map_detail[col]).fillna(self.error_value)\n",
    "        return s\n",
    "    \n",
    "    def transform_single(self, s,**kwargs):\n",
    "        for col in self.cols:\n",
    "            if col in s.keys():\n",
    "                s[col] = self.target_map_detail[col].get(s[col],self.error_value)\n",
    "        return s\n",
    "    \n",
    "    def get_params(self):\n",
    "        #获取父类的params\n",
    "        params=super().get_params()\n",
    "        #加入当前的参数\n",
    "        params.update({\"target_map_detail\": self.target_map_detail, \"error_value\": self.error_value,\"cols\":self.cols})\n",
    "        return params\n",
    "\n",
    "    def set_params(self, params):\n",
    "        #设置父类的params\n",
    "        super().set_params(params)\n",
    "        #再设置当前层的params\n",
    "        self.target_map_detail = params[\"target_map_detail\"]\n",
    "        self.error_value = params[\"error_value\"]\n",
    "        self.cols=params[\"cols\"]"
   ]
  },
  {
   "cell_type": "code",
   "execution_count": 36,
   "id": "851779b7",
   "metadata": {},
   "outputs": [
    {
     "name": "stdout",
     "output_type": "stream",
     "text": [
      "|     |   Age |     Fare |   Embarked |\n",
      "|----:|------:|---------:|-----------:|\n",
      "| 500 |    17 |  8.66406 |   0.334254 |\n",
      "| 501 |    21 |  7.75    |   0.511111 |\n",
      "| 502 |   nan |  7.62891 |   0.511111 |\n",
      "| 503 |    37 |  9.58594 |   0.334254 |\n",
      "| 504 |    16 | 86.5     |   0.334254 |\n"
     ]
    }
   ],
   "source": [
    "table=TablePipeLine()\n",
    "table.pipe(FixInput())\\\n",
    "  .pipe(SelectCols(cols=[\"Age\",\"Fare\",\"Embarked\"]))\\\n",
    "  .pipe(UDFTargetEncoding(cols=[\"Embarked\"],y=y_train))\n",
    "\n",
    "x_test_new=table.fit(x_train).transform(x_test)\n",
    "print(x_test_new.head(5).to_markdown())"
   ]
  },
  {
   "cell_type": "code",
   "execution_count": 37,
   "id": "13d6da6d",
   "metadata": {},
   "outputs": [
    {
     "data": {
      "text/plain": [
       "{'PassengerId': 501,\n",
       " 'Pclass': 3,\n",
       " 'Name': 'Calic, Mr. Petar',\n",
       " 'Sex': 'male',\n",
       " 'Age': 17.0,\n",
       " 'SibSp': 0,\n",
       " 'Parch': 0,\n",
       " 'Ticket': '315086',\n",
       " 'Fare': 8.6625,\n",
       " 'Cabin': nan,\n",
       " 'Embarked': 'S'}"
      ]
     },
     "execution_count": 37,
     "metadata": {},
     "output_type": "execute_result"
    }
   ],
   "source": [
    "#取第一条数据\n",
    "record=x_test[:1].to_dict(\"record\")[0]\n",
    "record"
   ]
  },
  {
   "cell_type": "code",
   "execution_count": 38,
   "id": "6e4924bd",
   "metadata": {},
   "outputs": [
    {
     "data": {
      "text/plain": [
       "{'Age': 17.0, 'Fare': 8.664, 'Embarked': 0.3342541436464088}"
      ]
     },
     "execution_count": 38,
     "metadata": {},
     "output_type": "execute_result"
    }
   ],
   "source": [
    "table.transform_single(record)"
   ]
  },
  {
   "cell_type": "markdown",
   "id": "083f8b7d",
   "metadata": {},
   "source": [
    "## 安全需求  \n",
    "以上5个函数的实现几乎可以让项目上线了，但还存在一些安全隐患，比如：\n",
    "\n",
    "- 输入输出数据的类型是否有校验  \n",
    "- 输入输出数据的顺序是否就校验  \n",
    "- set_params和get_params时有可能搞忘记存储父类的params\n",
    "- 当前命名的参数与父类的参数名称可能有冲突  \n",
    "\n",
    "为了更加安全，可以将上面实现的fit,transform,transform_single,set_params和get_params修改为udf_fit,udf_transform,udf_transform_single,udf_set_params,udf_get_params，内置的方法会帮你自动完成这些检验"
   ]
  },
  {
   "cell_type": "code",
   "execution_count": 51,
   "id": "411e38fc",
   "metadata": {},
   "outputs": [],
   "source": [
    "class UDFTargetEncoding(TablePipeObjectBase):\n",
    "    def __init__(self,y=None,cols=None, error_value=0):\n",
    "        super().__init__()\n",
    "        self.y=y\n",
    "        self.cols=cols\n",
    "        self.error_value = error_value\n",
    "        self.target_map_detail = dict()\n",
    "\n",
    "    def udf_fit(self, s,**kwargs):\n",
    "        assert self.y is not None and len(self.y) == len(s)\n",
    "        s[\"y_\"] = self.y\n",
    "        for col in self.cols:\n",
    "            tmp_ = s[[col, \"y_\"]]\n",
    "            col_map = list(tmp_.groupby([col]).agg({\"y_\": [\"mean\"]}).to_dict().values())[0]\n",
    "            self.target_map_detail[col] = col_map\n",
    "        del s[\"y_\"]\n",
    "        return self\n",
    "    \n",
    "    def udf_transform(self, s,**kwargs):\n",
    "        for col in self.cols:\n",
    "            if col in s.columns:\n",
    "                s[col] = s[col].map(self.target_map_detail[col]).fillna(self.error_value)\n",
    "        return s\n",
    "    \n",
    "    def udf_transform_single(self, s,**kwargs):\n",
    "        for col in self.cols:\n",
    "            if col in s.keys():\n",
    "                s[col] = self.target_map_detail[col].get(s[col],self.error_value)\n",
    "        return s\n",
    "    \n",
    "    def udf_get_params(self):\n",
    "        return {\"target_map_detail\": self.target_map_detail, \"error_value\": self.error_value,\"cols\":self.cols}\n",
    "\n",
    "    def udf_set_params(self, params):\n",
    "        self.target_map_detail = params[\"target_map_detail\"]\n",
    "        self.error_value = params[\"error_value\"]\n",
    "        self.cols=params[\"cols\"]"
   ]
  },
  {
   "cell_type": "markdown",
   "id": "dc7ed7ca",
   "metadata": {},
   "source": [
    "这里，添加了udf前缀后，就不需要考虑父类的params了"
   ]
  },
  {
   "cell_type": "code",
   "execution_count": 52,
   "id": "94be83cf",
   "metadata": {},
   "outputs": [
    {
     "name": "stdout",
     "output_type": "stream",
     "text": [
      "|     |   Age |     Fare |   Embarked |\n",
      "|----:|------:|---------:|-----------:|\n",
      "| 500 |    17 |  8.66406 |   0.334254 |\n",
      "| 501 |    21 |  7.75    |   0.511111 |\n",
      "| 502 |   nan |  7.62891 |   0.511111 |\n",
      "| 503 |    37 |  9.58594 |   0.334254 |\n",
      "| 504 |    16 | 86.5     |   0.334254 |\n"
     ]
    }
   ],
   "source": [
    "table=TablePipeLine()\n",
    "table.pipe(FixInput())\\\n",
    "  .pipe(SelectCols(cols=[\"Age\",\"Fare\",\"Embarked\"]))\\\n",
    "  .pipe(UDFTargetEncoding(cols=[\"Embarked\"],y=y_train))\n",
    "\n",
    "x_test_new=table.fit(x_train).transform(x_test)\n",
    "print(x_test_new.head(5).to_markdown())"
   ]
  },
  {
   "cell_type": "markdown",
   "id": "c24da3e1",
   "metadata": {},
   "source": [
    "## 扩展需求 \n",
    "\n",
    "上面这些函数是一些必需的函数，但我们同时还有一些额外自己的需求，比如我想要一个函数用来返回target encoding的具体map细节 ，这里有两种实现方式  \n",
    "### 直接添加新函数 \n",
    "\n",
    "这种方法最简单直接了，如下加了一个`show_detail`函数  "
   ]
  },
  {
   "cell_type": "code",
   "execution_count": 53,
   "id": "2d4e436a",
   "metadata": {},
   "outputs": [],
   "source": [
    "class UDFTargetEncoding(TablePipeObjectBase):\n",
    "    def __init__(self,y=None,cols=None, error_value=0):\n",
    "        super().__init__()\n",
    "        self.y=y\n",
    "        self.cols=cols\n",
    "        self.error_value = error_value\n",
    "        self.target_map_detail = dict()\n",
    "\n",
    "    def udf_fit(self, s,**kwargs):\n",
    "        assert self.y is not None and len(self.y) == len(s)\n",
    "        s[\"y_\"] = self.y\n",
    "        for col in self.cols:\n",
    "            tmp_ = s[[col, \"y_\"]]\n",
    "            col_map = list(tmp_.groupby([col]).agg({\"y_\": [\"mean\"]}).to_dict().values())[0]\n",
    "            self.target_map_detail[col] = col_map\n",
    "        del s[\"y_\"]\n",
    "        return self\n",
    "    \n",
    "    def show_detail(self):\n",
    "        data = []\n",
    "        for col, map_detail in self.target_map_detail.items():\n",
    "            for bin_value, target_value in map_detail.items():\n",
    "                data.append([col, bin_value, target_value])\n",
    "        return pd.DataFrame(data=data, columns=[\"col\", \"bin_value\", \"target_value\"])\n",
    "    \n",
    "    def udf_transform(self, s,**kwargs):\n",
    "        for col in self.cols:\n",
    "            if col in s.columns:\n",
    "                s[col] = s[col].map(self.target_map_detail[col]).fillna(self.error_value)\n",
    "        return s\n",
    "    \n",
    "    def udf_transform_single(self, s,**kwargs):\n",
    "        for col in self.cols:\n",
    "            if col in s.keys():\n",
    "                s[col] = self.target_map_detail[col].get(s[col],self.error_value)\n",
    "        return s\n",
    "    \n",
    "    def udf_get_params(self):\n",
    "        return {\"target_map_detail\": self.target_map_detail, \"error_value\": self.error_value,\"cols\":self.cols}\n",
    "\n",
    "    def udf_set_params(self, params):\n",
    "        self.target_map_detail = params[\"target_map_detail\"]\n",
    "        self.error_value = params[\"error_value\"]\n",
    "        self.cols=params[\"cols\"]"
   ]
  },
  {
   "cell_type": "code",
   "execution_count": 54,
   "id": "e540d211",
   "metadata": {},
   "outputs": [
    {
     "data": {
      "text/plain": [
       "<easymlops.table.core.pipeline_object.TablePipeLine at 0x261d04cdc08>"
      ]
     },
     "execution_count": 54,
     "metadata": {},
     "output_type": "execute_result"
    }
   ],
   "source": [
    "table=TablePipeLine()\n",
    "table.pipe(FixInput())\\\n",
    "  .pipe(SelectCols(cols=[\"Age\",\"Fare\",\"Embarked\"]))\\\n",
    "  .pipe(UDFTargetEncoding(cols=[\"Embarked\"],y=y_train))\n",
    "\n",
    "table.fit(x_train)"
   ]
  },
  {
   "cell_type": "code",
   "execution_count": 55,
   "id": "d7cb1c0e",
   "metadata": {},
   "outputs": [
    {
     "name": "stdout",
     "output_type": "stream",
     "text": [
      "|    | col      | bin_value   |   target_value |\n",
      "|---:|:---------|:------------|---------------:|\n",
      "|  0 | Embarked | C           |       0.521739 |\n",
      "|  1 | Embarked | Q           |       0.511111 |\n",
      "|  2 | Embarked | S           |       0.334254 |\n",
      "|  3 | Embarked | nan         |       1        |\n"
     ]
    }
   ],
   "source": [
    "print(table[-1].show_detail().to_markdown())"
   ]
  },
  {
   "cell_type": "markdown",
   "id": "9b266429",
   "metadata": {},
   "source": [
    "这里`table[-1]`表示拿到`table`这个pipeline的`-1`层的pipe模块，具体的获取方式将会在后续pipeline中介绍"
   ]
  },
  {
   "cell_type": "markdown",
   "id": "5e1ae82b",
   "metadata": {},
   "source": [
    "### 回调式  \n",
    "\n",
    "上面这种方式有两个显著的缺点：  \n",
    "\n",
    "- 如果这个TargetEncoding类是别人写好了，你没法直接修改别人的代码  \n",
    "- 就算这个类是自己写的，随着添加的自定义方法越来越多，维护将会越来越困难  \n",
    "\n",
    "所以，这里将一些额外功能剥离出去，统一通过回调的方式来增加新功能，回调定义以及实现在最顶层父类的方法中了，所以上面的类无需再自己实现即可进行回调，父类中的callback定义如下：  \n",
    "```python\n",
    "def callback(self, callback_func, data, return_callback_result=False, *args, **kwargs):\n",
    "    result = callback_func(self, data, *args, **kwargs)\n",
    "    if return_callback_result:\n",
    "        return result\n",
    "```\n",
    "\n",
    "这里，`callback_func`即外部的回调函数定义，回调函数的第一个入场为`self`，即当前调用者这个pipe，第二个为`data`即需要传入的参数，后续`args`和`kwargs`为其他扩展参数，下面看看如果外部定义`show_detail`（可以发现只需要把`self`换成另外一个变量名称即可）"
   ]
  },
  {
   "cell_type": "code",
   "execution_count": 7,
   "id": "6ba84d56",
   "metadata": {},
   "outputs": [],
   "source": [
    "def show_detail(pipe_object,data=None):\n",
    "        data = []\n",
    "        for col, map_detail in pipe_object.target_map_detail.items():\n",
    "            for bin_value, target_value in map_detail.items():\n",
    "                data.append([col, bin_value, target_value])\n",
    "        return pd.DataFrame(data=data, columns=[\"col\", \"bin_value\", \"target_value\"])"
   ]
  },
  {
   "cell_type": "code",
   "execution_count": 8,
   "id": "22e910e8",
   "metadata": {},
   "outputs": [],
   "source": [
    "#内部定义的show_detail去掉\n",
    "class UDFTargetEncoding(TablePipeObjectBase):\n",
    "    def __init__(self,y=None,cols=None, error_value=0,**kwargs):\n",
    "        super().__init__(**kwargs)\n",
    "        self.y=y\n",
    "        self.cols=cols\n",
    "        self.error_value = error_value\n",
    "        self.target_map_detail = dict()\n",
    "\n",
    "    def udf_fit(self, s,**kwargs):\n",
    "        assert self.y is not None and len(self.y) == len(s)\n",
    "        s[\"y_\"] = self.y\n",
    "        for col in self.cols:\n",
    "            tmp_ = s[[col, \"y_\"]]\n",
    "            col_map = list(tmp_.groupby([col]).agg({\"y_\": [\"mean\"]}).to_dict().values())[0]\n",
    "            self.target_map_detail[col] = col_map\n",
    "        del s[\"y_\"]\n",
    "        return self\n",
    "    \n",
    "    def udf_transform(self, s,**kwargs):\n",
    "        for col in self.cols:\n",
    "            if col in s.columns:\n",
    "                s[col] = s[col].map(self.target_map_detail[col]).fillna(self.error_value)\n",
    "        return s\n",
    "    \n",
    "    def udf_transform_single(self, s,**kwargs):\n",
    "        for col in self.cols:\n",
    "            if col in s.keys():\n",
    "                s[col] = self.target_map_detail[col].get(s[col],self.error_value)\n",
    "        return s\n",
    "    \n",
    "    def udf_get_params(self):\n",
    "        return {\"target_map_detail\": self.target_map_detail, \"error_value\": self.error_value,\"cols\":self.cols}\n",
    "\n",
    "    def udf_set_params(self, params):\n",
    "        self.target_map_detail = params[\"target_map_detail\"]\n",
    "        self.error_value = params[\"error_value\"]\n",
    "        self.cols=params[\"cols\"]"
   ]
  },
  {
   "cell_type": "code",
   "execution_count": 9,
   "id": "6ba8db52",
   "metadata": {},
   "outputs": [
    {
     "data": {
      "text/plain": [
       "<easymlops.table.core.pipeline_object.TablePipeLine at 0x2b736dbe248>"
      ]
     },
     "execution_count": 9,
     "metadata": {},
     "output_type": "execute_result"
    }
   ],
   "source": [
    "table=TablePipeLine()\n",
    "table.pipe(FixInput())\\\n",
    "  .pipe(SelectCols(cols=[\"Age\",\"Fare\",\"Embarked\"]))\\\n",
    "  .pipe(UDFTargetEncoding(cols=[\"Embarked\"],y=y_train))\n",
    "\n",
    "table.fit(x_train)"
   ]
  },
  {
   "cell_type": "code",
   "execution_count": 10,
   "id": "20ade386",
   "metadata": {},
   "outputs": [
    {
     "name": "stdout",
     "output_type": "stream",
     "text": [
      "|    | col      | bin_value   |   target_value |\n",
      "|---:|:---------|:------------|---------------:|\n",
      "|  0 | Embarked | C           |       0.521739 |\n",
      "|  1 | Embarked | Q           |       0.511111 |\n",
      "|  2 | Embarked | S           |       0.334254 |\n",
      "|  3 | Embarked | nan         |       1        |\n"
     ]
    }
   ],
   "source": [
    "print(table[-1].callback(show_detail,data=None,return_callback_result=True).to_markdown())"
   ]
  },
  {
   "cell_type": "markdown",
   "id": "0db2d350",
   "metadata": {},
   "source": [
    "## 高阶需求  \n",
    "\n",
    "### 获取父类依赖 \n",
    "\n",
    "有时候，我们需要拿到父类的pipe对象做一些操作，如果对新的x重复运行父类的transform，这里内置pipeline已经帮忙完成了依赖关系的设置(必需通过xxx.pipe(xxx)方式添加pipe才会自动设置依赖关系 )，可以通过如下俩函数，获取直接父类对象，以及所有父类对象的列表 \n",
    "\n",
    "- get_parent_pipe \n",
    "- get_all_parent_pipes"
   ]
  },
  {
   "cell_type": "code",
   "execution_count": 11,
   "id": "51753902",
   "metadata": {},
   "outputs": [
    {
     "data": {
      "text/plain": [
       "<easymlops.table.preprocessing.core.SelectCols at 0x2b736e35508>"
      ]
     },
     "execution_count": 11,
     "metadata": {},
     "output_type": "execute_result"
    }
   ],
   "source": [
    "table[-1].get_parent_pipe()"
   ]
  },
  {
   "cell_type": "code",
   "execution_count": 12,
   "id": "6afa79c7",
   "metadata": {},
   "outputs": [
    {
     "data": {
      "text/plain": [
       "[<easymlops.table.preprocessing.core.FixInput at 0x2b736db8b88>,\n",
       " <easymlops.table.preprocessing.core.SelectCols at 0x2b736e35508>]"
      ]
     },
     "execution_count": 12,
     "metadata": {},
     "output_type": "execute_result"
    }
   ],
   "source": [
    "table[-1].get_all_parent_pipes()"
   ]
  },
  {
   "cell_type": "markdown",
   "id": "8c1dc994",
   "metadata": {},
   "source": [
    "### 挂载需求\n",
    "我们另外还需要做些额外的功能，比如保存当前模块的输出结果到某些数据库，或者做一些监控，或者做一些实时/定时的分析等等....这些主流程以外的操作，都可以通过挂载的方式追加到当前pipe之后，这里主要通过下面3个函数来实现  \n",
    "\n",
    "- set_branch_pipe：为当前pipe挂载一个pipe，挂载pipe分别再宿主pipe的fit,transform,transform_single后，运行自己的fit,transform,transform_single\n",
    "- get_branch_pipe：由于可以设置多个挂载pipe，通过get_branch_pipe传入一个index获取到想要的挂载pipe  \n",
    "- remove_branch_pipe：更具传入的index，移除不需要的pipe  \n",
    "\n",
    "比如下面，引入一个存储模块，将TargetEncoding的输出保存到本地"
   ]
  },
  {
   "cell_type": "code",
   "execution_count": 13,
   "id": "91bb67cd",
   "metadata": {},
   "outputs": [],
   "source": [
    "from easymlops.table.storage import LocalStorage"
   ]
  },
  {
   "cell_type": "code",
   "execution_count": 14,
   "id": "95f02ec3",
   "metadata": {},
   "outputs": [],
   "source": [
    "table[-1].set_branch_pipe(LocalStorage(db_name=\"./local.db\", table_name=\"target_output\",cols=[\"Age\",\"Fare\",\"Embarked\"]))"
   ]
  },
  {
   "cell_type": "code",
   "execution_count": 15,
   "id": "12d94b61",
   "metadata": {},
   "outputs": [
    {
     "data": {
      "text/plain": [
       "{'PassengerId': 501,\n",
       " 'Pclass': 3,\n",
       " 'Name': 'Calic, Mr. Petar',\n",
       " 'Sex': 'male',\n",
       " 'Age': 17.0,\n",
       " 'SibSp': 0,\n",
       " 'Parch': 0,\n",
       " 'Ticket': '315086',\n",
       " 'Fare': 8.6625,\n",
       " 'Cabin': nan,\n",
       " 'Embarked': 'S'}"
      ]
     },
     "execution_count": 15,
     "metadata": {},
     "output_type": "execute_result"
    }
   ],
   "source": [
    "#模拟线上预测一条数据\n",
    "record=x_test.to_dict(\"record\")[0]\n",
    "record"
   ]
  },
  {
   "cell_type": "code",
   "execution_count": 16,
   "id": "2f0cddf3",
   "metadata": {},
   "outputs": [
    {
     "data": {
      "text/plain": [
       "{'Age': 17.0, 'Fare': 8.664, 'Embarked': 0.3342541436464088}"
      ]
     },
     "execution_count": 16,
     "metadata": {},
     "output_type": "execute_result"
    }
   ],
   "source": [
    "table.transform_single(record,storage_base_dict={\"key\":501})#这里需要额外传入也给key，标识数据的唯一ID"
   ]
  },
  {
   "cell_type": "code",
   "execution_count": 20,
   "id": "1b6b8971",
   "metadata": {},
   "outputs": [
    {
     "name": "stdout",
     "output_type": "stream",
     "text": [
      "|    |   key | transform_time      |   Age |   Fare |   Embarked |\n",
      "|---:|------:|:--------------------|------:|-------:|-----------:|\n",
      "|  0 |   501 | 2023-03-02 15:02:11 |    17 |  8.664 |   0.334254 |\n"
     ]
    }
   ],
   "source": [
    "print(table[-1].get_branch_pipe(0).select_key(key=501).to_markdown())"
   ]
  },
  {
   "cell_type": "code",
   "execution_count": null,
   "id": "57e8be9b",
   "metadata": {},
   "outputs": [],
   "source": []
  }
 ],
 "metadata": {
  "kernelspec": {
   "display_name": "Python 3 (ipykernel)",
   "language": "python",
   "name": "python3"
  },
  "language_info": {
   "codemirror_mode": {
    "name": "ipython",
    "version": 3
   },
   "file_extension": ".py",
   "mimetype": "text/x-python",
   "name": "python",
   "nbconvert_exporter": "python",
   "pygments_lexer": "ipython3",
   "version": "3.7.15"
  }
 },
 "nbformat": 4,
 "nbformat_minor": 5
}
