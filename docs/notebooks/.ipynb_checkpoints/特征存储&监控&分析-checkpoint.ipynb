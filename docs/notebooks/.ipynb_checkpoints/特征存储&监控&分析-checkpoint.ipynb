{
 "cells": [
  {
   "cell_type": "markdown",
   "id": "cd40ab0e",
   "metadata": {},
   "source": [
    "# 特征存储&监控&分析\n",
    "\n",
    "模型部署生产后，我们通常还有些后续需求：  \n",
    "\n",
    "- 存储：将某些pipe的输出直接保存到数据库存储，比如特征工程后的数据等；\n",
    "- 监控&分析：监控数据短期内的变化情况，分析异常指标等"
   ]
  },
  {
   "cell_type": "markdown",
   "id": "a10e3085",
   "metadata": {},
   "source": [
    "## 存储的两种方式  \n",
    "\n",
    "- 嵌入式：算法研发的同学也肩负了后续指标监控、报表统计等运维形式的工作，这样在研发过程就可以把存储pipe模块嵌入到pipeline中；   \n",
    "- 挂载式：算法研发只需要关注算法相关的模块，后续上线时，运维同学再把存储模块挂载到需要保存的pipe模块后，这种方式更加灵活   \n",
    "\n",
    "**另外，目前存储模块只有本地存储，后面陆续会开发基于hbase,kafka,redis,es,mysql等存储模块，由于本地存储基于sqlite3，还请**   \n",
    "`pip install sqlite3`"
   ]
  },
  {
   "cell_type": "code",
   "execution_count": 1,
   "id": "f4692660",
   "metadata": {},
   "outputs": [],
   "source": [
    "import os\n",
    "os.chdir(\"../../\")#与easymlops同级目录\n",
    "import pandas as pd\n",
    "data=pd.read_csv(\"./data/demo.csv\")\n",
    "x_train=data[:500]\n",
    "x_test=data[500:]\n",
    "y_train=x_train[\"Survived\"]\n",
    "y_test=x_test[\"Survived\"]\n",
    "del x_train[\"Survived\"]\n",
    "del x_test[\"Survived\"]"
   ]
  },
  {
   "cell_type": "code",
   "execution_count": 2,
   "id": "73f91258",
   "metadata": {},
   "outputs": [],
   "source": [
    "from easymlops import TablePipeLine\n",
    "from easymlops.table.preprocessing import *\n",
    "from easymlops.table.encoding import *\n",
    "from easymlops.table.classification import *\n",
    "from easymlops.table.storage import LocalStorage"
   ]
  },
  {
   "cell_type": "markdown",
   "id": "e45a7814",
   "metadata": {},
   "source": [
    "### 嵌入式"
   ]
  },
  {
   "cell_type": "code",
   "execution_count": 3,
   "id": "8f415f89",
   "metadata": {},
   "outputs": [
    {
     "data": {
      "text/plain": [
       "<easymlops.table.core.pipeline_object.TablePipeLine at 0x20130bb7f48>"
      ]
     },
     "execution_count": 3,
     "metadata": {},
     "output_type": "execute_result"
    }
   ],
   "source": [
    "table=TablePipeLine()\n",
    "table.pipe(FixInput())\\\n",
    "  .pipe(FillNa())\\\n",
    "  .pipe(OneHotEncoding(cols=[\"Pclass\", \"Sex\"], drop_col=False)) \\\n",
    "  .pipe(WOEEncoding(cols=[\"Ticket\", \"Embarked\", \"Cabin\", \"Sex\", \"Pclass\"], y=y_train)) \\\n",
    "  .pipe(LabelEncoding(cols=[\"Name\"]))\\\n",
    "  .pipe(LocalStorage(db_name=\"./local.db\", table_name=\"label_encoding\",cols=['PassengerId','Pclass','Name','Sex','Age','SibSp','Parch',\n",
    "                                                                             'Ticket','Fare','Cabin','Embarked','Pclass_3','Pclass_1','Pclass_2','Sex_male','Sex_female']))\\\n",
    "  .pipe(LGBMClassification(y=y_train,native_init_params={\"max_depth\":2},native_fit_params={\"num_boost_round\":128},prefix=\"lgbm\"))\\\n",
    "  .pipe(LocalStorage(db_name=\"./local.db\", table_name=\"predict\",cols=[\"lgbm_0\",\"lgbm_1\"]))\\\n",
    "\n",
    "table.fit(x_train)"
   ]
  },
  {
   "cell_type": "markdown",
   "id": "5ff5a638",
   "metadata": {},
   "source": [
    "上面，再LabelEncoding和LGBMClassfication后分别加了一个LocalStorage模块，用于保存它们的输出，下面模拟一条生产输入数据"
   ]
  },
  {
   "cell_type": "code",
   "execution_count": 4,
   "id": "75a05c29",
   "metadata": {},
   "outputs": [
    {
     "data": {
      "text/plain": [
       "{'PassengerId': 501,\n",
       " 'Pclass': 3,\n",
       " 'Name': 'Calic, Mr. Petar',\n",
       " 'Sex': 'male',\n",
       " 'Age': 17.0,\n",
       " 'SibSp': 0,\n",
       " 'Parch': 0,\n",
       " 'Ticket': '315086',\n",
       " 'Fare': 8.6625,\n",
       " 'Cabin': nan,\n",
       " 'Embarked': 'S'}"
      ]
     },
     "execution_count": 4,
     "metadata": {},
     "output_type": "execute_result"
    }
   ],
   "source": [
    "record=x_test.to_dict(\"record\")[0]\n",
    "record"
   ]
  },
  {
   "cell_type": "code",
   "execution_count": 5,
   "id": "a8836a3e",
   "metadata": {},
   "outputs": [
    {
     "data": {
      "text/plain": [
       "{'lgbm_0': 0.9233260451690832, 'lgbm_1': 0.0766739548309168}"
      ]
     },
     "execution_count": 5,
     "metadata": {},
     "output_type": "execute_result"
    }
   ],
   "source": [
    "table.transform_single(record,storage_base_dict={\"key\":record.get(\"PassengerId\")})"
   ]
  },
  {
   "cell_type": "markdown",
   "id": "bb046d3d",
   "metadata": {},
   "source": [
    "查询key"
   ]
  },
  {
   "cell_type": "code",
   "execution_count": 6,
   "id": "a6bf1c54",
   "metadata": {},
   "outputs": [
    {
     "name": "stdout",
     "output_type": "stream",
     "text": [
      "|    |   key | transform_time      |   PassengerId |   Pclass |   Name |     Sex |   Age |   SibSp |   Parch |   Ticket |   Fare |    Cabin |   Embarked |   Pclass_3 |   Pclass_1 |   Pclass_2 |   Sex_male |   Sex_female |\n",
      "|---:|------:|:--------------------|--------------:|---------:|-------:|--------:|------:|--------:|--------:|---------:|-------:|---------:|-----------:|-----------:|-----------:|-----------:|-----------:|-------------:|\n",
      "|  0 |   501 | 2023-03-03 19:04:09 |           501 | 0.482439 |      0 | 1.11138 |    17 |       0 |       0 |        0 |  8.664 | 0.299607 |   0.224849 |          1 |          0 |          0 |          1 |            0 |\n"
     ]
    }
   ],
   "source": [
    "#查看label encoding的输出\n",
    "print(table[-3].select_key(key=501).to_markdown())"
   ]
  },
  {
   "cell_type": "code",
   "execution_count": 7,
   "id": "a0abe68e",
   "metadata": {},
   "outputs": [
    {
     "name": "stdout",
     "output_type": "stream",
     "text": [
      "|    |   key | transform_time      |   lgbm_0 |   lgbm_1 |\n",
      "|---:|------:|:--------------------|---------:|---------:|\n",
      "|  0 |   501 | 2023-03-03 19:04:09 | 0.923326 | 0.076674 |\n"
     ]
    }
   ],
   "source": [
    "#查看lgbm classification的输出\n",
    "print(table[-1].select_key(key=501).to_markdown())"
   ]
  },
  {
   "cell_type": "markdown",
   "id": "93011285",
   "metadata": {},
   "source": [
    "### 挂载式 \n",
    "\n",
    "如下，算法同学无需关心存储，正常建模就好"
   ]
  },
  {
   "cell_type": "code",
   "execution_count": 8,
   "id": "6b0b3831",
   "metadata": {},
   "outputs": [
    {
     "data": {
      "text/plain": [
       "<easymlops.table.core.pipeline_object.TablePipeLine at 0x201345a5cc8>"
      ]
     },
     "execution_count": 8,
     "metadata": {},
     "output_type": "execute_result"
    }
   ],
   "source": [
    "table=TablePipeLine()\n",
    "table.pipe(FixInput())\\\n",
    "  .pipe(FillNa())\\\n",
    "  .pipe(OneHotEncoding(cols=[\"Pclass\", \"Sex\"], drop_col=False)) \\\n",
    "  .pipe(WOEEncoding(cols=[\"Ticket\", \"Embarked\", \"Cabin\", \"Sex\", \"Pclass\"], y=y_train)) \\\n",
    "  .pipe(LabelEncoding(cols=[\"Name\"]))\\\n",
    "  .pipe(LGBMClassification(y=y_train,native_init_params={\"max_depth\":2},native_fit_params={\"num_boost_round\":128},prefix=\"lgbm\"))\n",
    "\n",
    "table.fit(x_train)"
   ]
  },
  {
   "cell_type": "markdown",
   "id": "a9eb955d",
   "metadata": {},
   "source": [
    "运维同学通过如下方式挂载存储模块"
   ]
  },
  {
   "cell_type": "code",
   "execution_count": 9,
   "id": "830d923b",
   "metadata": {},
   "outputs": [],
   "source": [
    "#记录label encoding的输出\n",
    "table[-2].set_branch_pipe(LocalStorage(db_name=\"./local.db\", table_name=\"label_encoding\",cols=['PassengerId','Pclass','Name','Sex','Age','SibSp','Parch',\n",
    "                                                                             'Ticket','Fare','Cabin','Embarked','Pclass_3','Pclass_1','Pclass_2','Sex_male','Sex_female']))"
   ]
  },
  {
   "cell_type": "code",
   "execution_count": 10,
   "id": "db76c588",
   "metadata": {},
   "outputs": [],
   "source": [
    "#记录y的输出\n",
    "table[-1].set_branch_pipe(LocalStorage(db_name=\"./local.db\", table_name=\"predict\",cols=[\"lgbm_0\",\"lgbm_1\"]))"
   ]
  },
  {
   "cell_type": "code",
   "execution_count": 11,
   "id": "13d230e4",
   "metadata": {},
   "outputs": [
    {
     "data": {
      "text/plain": [
       "{'PassengerId': 502,\n",
       " 'Pclass': 3,\n",
       " 'Name': 'Canavan, Miss. Mary',\n",
       " 'Sex': 'female',\n",
       " 'Age': 21.0,\n",
       " 'SibSp': 0,\n",
       " 'Parch': 0,\n",
       " 'Ticket': '364846',\n",
       " 'Fare': 7.75,\n",
       " 'Cabin': nan,\n",
       " 'Embarked': 'Q'}"
      ]
     },
     "execution_count": 11,
     "metadata": {},
     "output_type": "execute_result"
    }
   ],
   "source": [
    "#模拟生产数据\n",
    "record=x_test.to_dict(\"record\")[1]\n",
    "record"
   ]
  },
  {
   "cell_type": "code",
   "execution_count": 12,
   "id": "56df09ff",
   "metadata": {},
   "outputs": [
    {
     "data": {
      "text/plain": [
       "{'lgbm_0': 0.3736520279722756, 'lgbm_1': 0.6263479720277243}"
      ]
     },
     "execution_count": 12,
     "metadata": {},
     "output_type": "execute_result"
    }
   ],
   "source": [
    "table.transform_single(record,storage_base_dict={\"key\":record.get(\"PassengerId\")})"
   ]
  },
  {
   "cell_type": "markdown",
   "id": "4d341920",
   "metadata": {},
   "source": [
    "查询key，注意这里需要通过`.get_branch_pipe(index)`的方式获取到指定的存储模块，再进行查询key的操作"
   ]
  },
  {
   "cell_type": "code",
   "execution_count": 13,
   "id": "b66fe34c",
   "metadata": {},
   "outputs": [
    {
     "name": "stdout",
     "output_type": "stream",
     "text": [
      "|    |   key | transform_time      |   PassengerId |   Pclass |   Name |      Sex |   Age |   SibSp |   Parch |   Ticket |   Fare |    Cabin |   Embarked |   Pclass_3 |   Pclass_1 |   Pclass_2 |   Sex_male |   Sex_female |\n",
      "|---:|------:|:--------------------|--------------:|---------:|-------:|---------:|------:|--------:|--------:|---------:|-------:|---------:|-----------:|-----------:|-----------:|-----------:|-----------:|-------------:|\n",
      "|  0 |   502 | 2023-03-03 19:04:20 |           502 | 0.482439 |      0 | -1.56999 |    21 |       0 |       0 |        0 |   7.75 | 0.299607 |  -0.508609 |          1 |          0 |          0 |          0 |            1 |\n"
     ]
    }
   ],
   "source": [
    "print(table[-2].get_branch_pipe(0).select_key(key=502).to_markdown())"
   ]
  },
  {
   "cell_type": "code",
   "execution_count": 14,
   "id": "e2af7ec5",
   "metadata": {},
   "outputs": [
    {
     "name": "stdout",
     "output_type": "stream",
     "text": [
      "|    |   key | transform_time      |   lgbm_0 |   lgbm_1 |\n",
      "|---:|------:|:--------------------|---------:|---------:|\n",
      "|  0 |   502 | 2023-03-03 19:04:20 | 0.373652 | 0.626348 |\n"
     ]
    }
   ],
   "source": [
    "print(table[-1].get_branch_pipe(0).select_key(key=502).to_markdown())"
   ]
  },
  {
   "cell_type": "markdown",
   "id": "86d5bbf4",
   "metadata": {},
   "source": [
    "由于对当前pipe而言都只挂载了一个pipe，所以可以通过`get_branch_pipe(0)`获取，如果还继续挂载了其他pipe模块，通过增加index获取"
   ]
  },
  {
   "cell_type": "markdown",
   "id": "5fe9d86c",
   "metadata": {},
   "source": [
    "## 监控&分析  \n",
    "\n",
    "目前设计了如下几个函数做监控和分析用，接下来模拟更多的生产数据"
   ]
  },
  {
   "cell_type": "code",
   "execution_count": 15,
   "id": "742ffd6d",
   "metadata": {},
   "outputs": [
    {
     "name": "stderr",
     "output_type": "stream",
     "text": [
      "100%|███████████████████████████████████████████████████████████████████████████████| 389/389 [00:01<00:00, 298.94it/s]\n"
     ]
    }
   ],
   "source": [
    "for record in tqdm(x_test.to_dict(\"record\")[2:]):\n",
    "    table.transform_single(record,storage_base_dict={\"key\":record.get(\"PassengerId\")})"
   ]
  },
  {
   "cell_type": "markdown",
   "id": "913592e2",
   "metadata": {},
   "source": [
    "### 查询key"
   ]
  },
  {
   "cell_type": "code",
   "execution_count": 16,
   "id": "1d969f1a",
   "metadata": {},
   "outputs": [
    {
     "name": "stdout",
     "output_type": "stream",
     "text": [
      "|    |   key | transform_time      |   PassengerId |   Pclass |   Name |      Sex |   Age |   SibSp |   Parch |   Ticket |   Fare |    Cabin |   Embarked |   Pclass_3 |   Pclass_1 |   Pclass_2 |   Sex_male |   Sex_female |\n",
      "|---:|------:|:--------------------|--------------:|---------:|-------:|---------:|------:|--------:|--------:|---------:|-------:|---------:|-----------:|-----------:|-----------:|-----------:|-----------:|-------------:|\n",
      "|  0 |   502 | 2023-03-03 19:04:20 |           502 | 0.482439 |      0 | -1.56999 |    21 |       0 |       0 |        0 |   7.75 | 0.299607 |  -0.508609 |          1 |          0 |          0 |          0 |            1 |\n"
     ]
    }
   ],
   "source": [
    "print(table[-2].get_branch_pipe(0).select_key(key=502).to_markdown())"
   ]
  },
  {
   "cell_type": "markdown",
   "id": "b6e91a33",
   "metadata": {},
   "source": [
    "### 复杂查询"
   ]
  },
  {
   "cell_type": "code",
   "execution_count": 17,
   "id": "735ce5b3",
   "metadata": {},
   "outputs": [
    {
     "name": "stdout",
     "output_type": "stream",
     "text": [
      "|    |   key | transform_time      |   PassengerId |   Pclass |   Name |     Sex |   Age |   SibSp |   Parch |    Ticket |   Fare |    Cabin |   Embarked |   Pclass_3 |   Pclass_1 |   Pclass_2 |   Sex_male |   Sex_female |\n",
      "|---:|------:|:--------------------|--------------:|---------:|-------:|--------:|------:|--------:|--------:|----------:|-------:|---------:|-----------:|-----------:|-----------:|-----------:|-----------:|-------------:|\n",
      "|  0 |   501 | 2023-03-03 19:04:09 |           501 | 0.482439 |      0 | 1.11138 |    17 |       0 |       0 |  0        |  8.664 | 0.299607 |   0.224849 |          1 |          0 |          0 |          1 |            0 |\n",
      "|  1 |   509 | 2023-03-03 19:04:26 |           509 | 0.482439 |      0 | 1.11138 |    28 |       0 |       0 |  0        | 22.53  | 0.299607 |   0.224849 |          1 |          0 |          0 |          1 |            0 |\n",
      "|  2 |   510 | 2023-03-03 19:04:26 |           510 | 0.482439 |      0 | 1.11138 |    26 |       0 |       0 | -0.464158 | 56.5   | 0.299607 |   0.224849 |          1 |          0 |          0 |          1 |            0 |\n",
      "|  3 |   511 | 2023-03-03 19:04:26 |           511 | 0.482439 |      0 | 1.11138 |    29 |       0 |       0 |  0        |  7.75  | 0.299607 |  -0.508609 |          1 |          0 |          0 |          1 |            0 |\n",
      "|  4 |   512 | 2023-03-03 19:04:26 |           512 | 0.482439 |      0 | 1.11138 |     0 |       0 |       0 |  0        |  8.05  | 0.299607 |   0.224849 |          1 |          0 |          0 |          1 |            0 |\n"
     ]
    }
   ],
   "source": [
    "print(table[-2].get_branch_pipe(0).where(\"Pclass>0.4 and Sex>1 and Sex_male=1\",limit=5).to_markdown())"
   ]
  },
  {
   "cell_type": "code",
   "execution_count": 18,
   "id": "af11f2e1",
   "metadata": {},
   "outputs": [
    {
     "name": "stdout",
     "output_type": "stream",
     "text": [
      "|    |   key | transform_time      |    lgbm_0 |   lgbm_1 |\n",
      "|---:|------:|:--------------------|----------:|---------:|\n",
      "|  0 |   505 | 2023-03-03 19:04:26 | 0.0684703 | 0.93153  |\n",
      "|  1 |   514 | 2023-03-03 19:04:26 | 0.0718778 | 0.928122 |\n",
      "|  2 |   517 | 2023-03-03 19:04:26 | 0.113928  | 0.886072 |\n",
      "|  3 |   519 | 2023-03-03 19:04:26 | 0.19458   | 0.80542  |\n",
      "|  4 |   521 | 2023-03-03 19:04:26 | 0.0710767 | 0.928923 |\n"
     ]
    }
   ],
   "source": [
    "#存活率更高的乘客\n",
    "print(table[-1].get_branch_pipe(0).where(\"lgbm_1>0.8\",limit=5).to_markdown())"
   ]
  },
  {
   "cell_type": "markdown",
   "id": "c99020fa",
   "metadata": {},
   "source": [
    "### 聚合分析\n",
    "\n",
    "不同sex_male,pclass_3下的统计量"
   ]
  },
  {
   "cell_type": "code",
   "execution_count": 19,
   "id": "df589bf3",
   "metadata": {},
   "outputs": [
    {
     "name": "stdout",
     "output_type": "stream",
     "text": [
      "|    |   Sex_male |   Pclass_3 |   PassengerId_max |   Sex_mean |   Ticket_cnt |\n",
      "|---:|-----------:|-----------:|------------------:|-----------:|-------------:|\n",
      "|  0 |          0 |          0 |               888 |   -1.56999 |           75 |\n",
      "|  1 |          0 |          1 |               889 |   -1.56999 |           54 |\n",
      "|  2 |          1 |          0 |               890 |    1.11138 |          104 |\n",
      "|  3 |          1 |          1 |               891 |    1.11138 |          158 |\n"
     ]
    }
   ],
   "source": [
    "return_df=table[-2].get_branch_pipe(0).group_agg_where(group_by=\"Sex_male,Pclass_3\", agg_sql=\"Sex_male,Pclass_3,max(PassengerId) as PassengerId_max,sum(Sex)/count(Sex) as Sex_mean,count(Ticket) as Ticket_cnt\", where_sql=\"transform_time>='2023-03-03 01:01:01'\", limit=10)\n",
    "print(return_df.to_markdown())"
   ]
  },
  {
   "cell_type": "markdown",
   "id": "641da5c3",
   "metadata": {},
   "source": [
    "### 纯SQL\n",
    "以上接口不支持复杂的sql嵌套，这里可以直接定义复杂的sql嵌套分析"
   ]
  },
  {
   "cell_type": "code",
   "execution_count": 20,
   "id": "4a1effcb",
   "metadata": {},
   "outputs": [],
   "source": [
    "table_name=\"predict\"\n",
    "sql=f\"\"\"\n",
    "-- 统计是否存活用户的最早最晚transform时间\n",
    "select survied_pred,min(transform_time) as transform_min,max(transform_time) as transform_max from \n",
    "    -- 如果lgbm_1>0.5就视为存活\n",
    "    (select key,transform_time,case when lgbm_1>0.5 then 1 else 0 end as survied_pred from {table_name}) as t \n",
    "group by survied_pred\n",
    "\"\"\"\n",
    "return_df=table[-1].get_branch_pipe(0).sql(sql)"
   ]
  },
  {
   "cell_type": "code",
   "execution_count": 21,
   "id": "4f24fc1c",
   "metadata": {},
   "outputs": [
    {
     "name": "stdout",
     "output_type": "stream",
     "text": [
      "|    |   survied_pred | transform_min       | transform_max       |\n",
      "|---:|---------------:|:--------------------|:--------------------|\n",
      "|  0 |              0 | 2023-03-03 19:04:09 | 2023-03-03 19:04:27 |\n",
      "|  1 |              1 | 2023-03-03 19:04:20 | 2023-03-03 19:04:27 |\n"
     ]
    }
   ],
   "source": [
    "print(return_df.to_markdown())"
   ]
  },
  {
   "cell_type": "code",
   "execution_count": null,
   "id": "5f53f23d",
   "metadata": {},
   "outputs": [],
   "source": []
  }
 ],
 "metadata": {
  "kernelspec": {
   "display_name": "Python 3 (ipykernel)",
   "language": "python",
   "name": "python3"
  },
  "language_info": {
   "codemirror_mode": {
    "name": "ipython",
    "version": 3
   },
   "file_extension": ".py",
   "mimetype": "text/x-python",
   "name": "python",
   "nbconvert_exporter": "python",
   "pygments_lexer": "ipython3",
   "version": "3.7.15"
  }
 },
 "nbformat": 4,
 "nbformat_minor": 5
}
