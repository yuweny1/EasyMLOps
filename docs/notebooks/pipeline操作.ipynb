{
 "cells": [
  {
   "cell_type": "markdown",
   "id": "565264a7",
   "metadata": {},
   "source": [
    "# pipeline操作  \n",
    "\n",
    "pipeline是承载pipe的流程工具，它具有**聚合pipe**的功能，也具有**拆散pipe**的功能，由于建模流程的灵活性，经常要在某些pipe模块中流转调试优化，所以pipeline设计的要求是：**聚**是基础，**拆**是核心，下面依次介绍相应功能  "
   ]
  },
  {
   "cell_type": "code",
   "execution_count": 1,
   "id": "950d4e37",
   "metadata": {},
   "outputs": [],
   "source": [
    "#准备数据\n",
    "import os\n",
    "os.chdir(\"../../\")#与easymlops同级目录\n",
    "import pandas as pd\n",
    "data=pd.read_csv(\"./data/demo.csv\")\n",
    "x_train=data[:500]\n",
    "x_test=data[500:]\n",
    "y_train=x_train[\"Survived\"]\n",
    "y_test=x_test[\"Survived\"]\n",
    "del x_train[\"Survived\"]\n",
    "del x_test[\"Survived\"]"
   ]
  },
  {
   "cell_type": "markdown",
   "id": "4bbceb84",
   "metadata": {},
   "source": [
    "## pipeline也是pipe  \n",
    "\n",
    "pipeline继承了pipe的基础功能，所以这意味这pipeline也可以当着pipe用，这样pipeline就可以再嵌入pipeline\n"
   ]
  },
  {
   "cell_type": "code",
   "execution_count": 2,
   "id": "474ff290",
   "metadata": {},
   "outputs": [],
   "source": [
    "from easymlops import NLPPipeline,TablePipeLine\n",
    "from easymlops.table.preprocessing import *\n",
    "from easymlops.table.ensemble import *\n",
    "from easymlops.table.encoding import *\n",
    "from easymlops.nlp.preprocessing import *\n",
    "from easymlops.nlp.representation import *\n",
    "from easymlops.table.perfopt import *\n",
    "from easymlops.table.classification import *\n",
    "from easymlops.table.decomposition import *\n",
    "from easymlops.table.extend import Normalization"
   ]
  },
  {
   "cell_type": "code",
   "execution_count": 3,
   "id": "872648f0",
   "metadata": {},
   "outputs": [
    {
     "name": "stdout",
     "output_type": "stream",
     "text": [
      "|     |        0 |         1 |\n",
      "|----:|---------:|----------:|\n",
      "| 500 | 0.919121 | 0.0808785 |\n",
      "| 501 | 0.189551 | 0.810449  |\n",
      "| 502 | 0.189551 | 0.810449  |\n",
      "| 503 | 0.255328 | 0.744672  |\n",
      "| 504 | 0.264882 | 0.735118  |\n"
     ]
    }
   ],
   "source": [
    "nlp=NLPPipeline()\n",
    "nlp.pipe(FixInput())\\\n",
    "   .pipe(TablePipeLine().pipe(FillNa(cols=[\"Name\",\"Sex\"]))\n",
    "                        .pipe(SelectCols(cols=[\"Name\",\"Sex\"]))\n",
    "                        .pipe(Lower()))\\\n",
    "   .pipe(Parallel([LsiTopicModel(num_topics=4),\n",
    "                   Word2VecModel(embedding_size=4),\n",
    "                   TablePipeLine().pipe(RemovePunctuation())\\\n",
    "                                  .pipe(TFIDF())]))\\\n",
    "   .pipe(DropCols(cols=[\"Name\",\"Sex\"]))\\\n",
    "   .pipe(LGBMClassification(y=y_train,support_sparse_input=True,native_init_params={\"max_depth\": 2}, native_fit_params={\"num_boost_round\": 128}))\n",
    "\n",
    "x_test_new=nlp.fit(x_train).transform(x_test)\n",
    "print(x_test_new.head(5).to_markdown())"
   ]
  },
  {
   "cell_type": "markdown",
   "id": "330135d2",
   "metadata": {},
   "source": [
    "## 聚合pipe为pipeline  \n",
    "上面构建pipeline的方式与我们通常建模流程相反，实际的建模时分别训练构建好各个pipe模块（还会反复在某些模块迭代优化多轮）后再进行组合，如下"
   ]
  },
  {
   "cell_type": "code",
   "execution_count": 4,
   "id": "fd9311da",
   "metadata": {},
   "outputs": [
    {
     "name": "stdout",
     "output_type": "stream",
     "text": [
      "|    |   PassengerId |   Pclass | Name                                                | Sex    |   Age |   SibSp |   Parch | Ticket           |     Fare | Cabin   | Embarked   |\n",
      "|---:|--------------:|---------:|:----------------------------------------------------|:-------|------:|--------:|--------:|:-----------------|---------:|:--------|:-----------|\n",
      "|  0 |             1 |        3 | Braund, Mr. Owen Harris                             | male   |    22 |       1 |       0 | A/5 21171        |  7.25    | nan     | S          |\n",
      "|  1 |             2 |        1 | Cumings, Mrs. John Bradley (Florence Briggs Thayer) | female |    38 |       1 |       0 | PC 17599         | 71.3125  | C85     | C          |\n",
      "|  2 |             3 |        3 | Heikkinen, Miss. Laina                              | female |    26 |       0 |       0 | STON/O2. 3101282 |  7.92578 | nan     | S          |\n",
      "|  3 |             4 |        1 | Futrelle, Mrs. Jacques Heath (Lily May Peel)        | female |    35 |       1 |       0 | 113803           | 53.0938  | C123    | S          |\n",
      "|  4 |             5 |        3 | Allen, Mr. William Henry                            | male   |    35 |       0 |       0 | 373450           |  8.04688 | nan     | S          |\n"
     ]
    }
   ],
   "source": [
    "fillna_pipe=TablePipeLine().pipe(FixInput()).pipe(FillNa())\n",
    "x_train_new=fillna_pipe.fit(x_train).transform(x_train)\n",
    "print(x_train_new.head(5).to_markdown())"
   ]
  },
  {
   "cell_type": "code",
   "execution_count": 5,
   "id": "553d81e1",
   "metadata": {},
   "outputs": [
    {
     "name": "stdout",
     "output_type": "stream",
     "text": [
      "|    |   PassengerId |   Pclass | Name                                                | Sex    |   Age |   SibSp |   Parch | Ticket           |     Fare | Cabin   | Embarked   |   Pclass_3 |   Pclass_1 |   Pclass_2 |   Sex_male |   Sex_female |\n",
      "|---:|--------------:|---------:|:----------------------------------------------------|:-------|------:|--------:|--------:|:-----------------|---------:|:--------|:-----------|-----------:|-----------:|-----------:|-----------:|-------------:|\n",
      "|  0 |             1 |        3 | Braund, Mr. Owen Harris                             | male   |    22 |       1 |       0 | A/5 21171        |  7.25    | nan     | S          |          1 |          0 |          0 |          1 |            0 |\n",
      "|  1 |             2 |        1 | Cumings, Mrs. John Bradley (Florence Briggs Thayer) | female |    38 |       1 |       0 | PC 17599         | 71.3125  | C85     | C          |          0 |          1 |          0 |          0 |            1 |\n",
      "|  2 |             3 |        3 | Heikkinen, Miss. Laina                              | female |    26 |       0 |       0 | STON/O2. 3101282 |  7.92578 | nan     | S          |          1 |          0 |          0 |          0 |            1 |\n",
      "|  3 |             4 |        1 | Futrelle, Mrs. Jacques Heath (Lily May Peel)        | female |    35 |       1 |       0 | 113803           | 53.0938  | C123    | S          |          0 |          1 |          0 |          0 |            1 |\n",
      "|  4 |             5 |        3 | Allen, Mr. William Henry                            | male   |    35 |       0 |       0 | 373450           |  8.04688 | nan     | S          |          1 |          0 |          0 |          1 |            0 |\n"
     ]
    }
   ],
   "source": [
    "pipe_onehot_encoding=OneHotEncoding(cols=[\"Pclass\",\"Sex\"],drop_col=False)\n",
    "x_train_new=pipe_onehot_encoding.fit(x_train_new).transform(x_train_new)\n",
    "print(x_train_new.head(5).to_markdown())"
   ]
  },
  {
   "cell_type": "code",
   "execution_count": 6,
   "id": "5387f7cb",
   "metadata": {},
   "outputs": [
    {
     "name": "stdout",
     "output_type": "stream",
     "text": [
      "|    |   PassengerId |   Pclass | Name                                                |   Sex |   Age |   SibSp |   Parch | Ticket           |     Fare | Cabin   | Embarked   |   Pclass_3 |   Pclass_1 |   Pclass_2 |   Sex_male |   Sex_female |\n",
      "|---:|--------------:|---------:|:----------------------------------------------------|------:|------:|--------:|--------:|:-----------------|---------:|:--------|:-----------|-----------:|-----------:|-----------:|-----------:|-------------:|\n",
      "|  0 |             1 |        1 | Braund, Mr. Owen Harris                             |     1 |    22 |       1 |       0 | A/5 21171        |  7.25    | nan     | S          |          1 |          0 |          0 |          1 |            0 |\n",
      "|  1 |             2 |        2 | Cumings, Mrs. John Bradley (Florence Briggs Thayer) |     2 |    38 |       1 |       0 | PC 17599         | 71.3125  | C85     | C          |          0 |          1 |          0 |          0 |            1 |\n",
      "|  2 |             3 |        1 | Heikkinen, Miss. Laina                              |     2 |    26 |       0 |       0 | STON/O2. 3101282 |  7.92578 | nan     | S          |          1 |          0 |          0 |          0 |            1 |\n",
      "|  3 |             4 |        2 | Futrelle, Mrs. Jacques Heath (Lily May Peel)        |     2 |    35 |       1 |       0 | 113803           | 53.0938  | C123    | S          |          0 |          1 |          0 |          0 |            1 |\n",
      "|  4 |             5 |        1 | Allen, Mr. William Henry                            |     1 |    35 |       0 |       0 | 373450           |  8.04688 | nan     | S          |          1 |          0 |          0 |          1 |            0 |\n"
     ]
    }
   ],
   "source": [
    "pipe_label_encoding=LabelEncoding(cols=[\"Sex\",\"Pclass\"])\n",
    "x_train_new=pipe_label_encoding.fit(x_train_new).transform(x_train_new)\n",
    "print(x_train_new.head(5).to_markdown())"
   ]
  },
  {
   "cell_type": "code",
   "execution_count": 7,
   "id": "e8a43fe1",
   "metadata": {},
   "outputs": [
    {
     "name": "stdout",
     "output_type": "stream",
     "text": [
      "|    |   PassengerId |   Pclass |   Name |   Sex |   Age |   SibSp |   Parch |   Ticket |     Fare |    Cabin |   Embarked |   Pclass_3 |   Pclass_1 |   Pclass_2 |   Sex_male |   Sex_female |\n",
      "|---:|--------------:|---------:|-------:|------:|------:|--------:|--------:|---------:|---------:|---------:|-----------:|-----------:|-----------:|-----------:|-----------:|-------------:|\n",
      "|  0 |             1 |        1 |      0 |     1 |    22 |       1 |       0 |      0   |  7.25    | 0.317829 |   0.334254 |          1 |          0 |          0 |          1 |            0 |\n",
      "|  1 |             2 |        2 |      1 |     2 |    38 |       1 |       0 |      1   | 71.3125  | 1        |   0.521739 |          0 |          1 |          0 |          0 |            1 |\n",
      "|  2 |             3 |        1 |      1 |     2 |    26 |       0 |       0 |      1   |  7.92578 | 0.317829 |   0.334254 |          1 |          0 |          0 |          0 |            1 |\n",
      "|  3 |             4 |        2 |      1 |     2 |    35 |       1 |       0 |      0.5 | 53.0938  | 0.5      |   0.334254 |          0 |          1 |          0 |          0 |            1 |\n",
      "|  4 |             5 |        1 |      0 |     1 |    35 |       0 |       0 |      0   |  8.04688 | 0.317829 |   0.334254 |          1 |          0 |          0 |          1 |            0 |\n"
     ]
    }
   ],
   "source": [
    "pipe_target_encoding=TargetEncoding(cols=[\"Name\",\"Ticket\",\"Embarked\",\"Cabin\"],y=y_train)\n",
    "x_train_new=pipe_target_encoding.fit(x_train_new).transform(x_train_new)\n",
    "print(x_train_new.head(5).to_markdown())"
   ]
  },
  {
   "cell_type": "code",
   "execution_count": 8,
   "id": "df499d07",
   "metadata": {},
   "outputs": [
    {
     "name": "stdout",
     "output_type": "stream",
     "text": [
      "|    |   PassengerId |    Pclass |      Name |       Sex |        Age |     SibSp |   Parch |    Ticket |      Fare |     Cabin |   Embarked |   Pclass_3 |   Pclass_1 |   Pclass_2 |   Sex_male |   Sex_female |\n",
      "|---:|--------------:|----------:|----------:|----------:|-----------:|----------:|--------:|----------:|----------:|----------:|-----------:|-----------:|-----------:|-----------:|-----------:|-------------:|\n",
      "|  0 |      -1.72859 | -0.810644 | -0.792884 | -0.766356 | -0.0710908 |  0.369594 | -0.4875 | -0.83866  | -0.515811 | -0.287586 |  -0.597846 |   0.890008 |  -0.549621 |   -0.51558 |   0.766356 |    -0.766356 |\n",
      "|  1 |      -1.72166 |  0.432675 |  1.26122  |  1.30488  |  0.84106   |  0.369594 | -0.4875 |  1.33403  |  0.831116 |  2.59023  |   1.56826  |  -1.12359  |   1.81944  |   -0.51558 |  -1.30488  |     1.30488  |\n",
      "|  2 |      -1.71473 | -0.810644 |  1.26122  |  1.30488  |  0.156947  | -0.497998 | -0.4875 |  1.33403  | -0.501603 | -0.287586 |  -0.597846 |   0.890008 |  -0.549621 |   -0.51558 |  -1.30488  |     1.30488  |\n",
      "|  3 |      -1.70781 |  0.432675 |  1.26122  |  1.30488  |  0.670032  |  0.369594 | -0.4875 |  0.247687 |  0.448063 |  0.480923 |  -0.597846 |  -1.12359  |   1.81944  |   -0.51558 |  -1.30488  |     1.30488  |\n",
      "|  4 |      -1.70088 | -0.810644 | -0.792884 | -0.766356 |  0.670032  | -0.497998 | -0.4875 | -0.83866  | -0.499057 | -0.287586 |  -0.597846 |   0.890008 |  -0.549621 |   -0.51558 |   0.766356 |    -0.766356 |\n"
     ]
    }
   ],
   "source": [
    "pipe_normal=Normalizer()\n",
    "x_train_new=pipe_normal.fit(x_train_new).transform(x_train_new)\n",
    "print(x_train_new.head(5).to_markdown())"
   ]
  },
  {
   "cell_type": "code",
   "execution_count": 9,
   "id": "5c748963",
   "metadata": {},
   "outputs": [
    {
     "name": "stdout",
     "output_type": "stream",
     "text": [
      "|    |        0 |         1 |          2 |          3 |          4 |        5 |        6 |         7 |\n",
      "|---:|---------:|----------:|-----------:|-----------:|-----------:|---------:|---------:|----------:|\n",
      "|  0 | -2.33692 |  0.710067 |  0.0803019 |  0.0746554 |  0.0515367 | 1.25277  | 1.07024  | -0.624323 |\n",
      "|  1 |  4.13372 | -0.15474  |  1.78063   | -0.908822  |  0.0571593 | 1.84565  | 0.755661 | -0.561293 |\n",
      "|  2 |  1.65117 |  2.18103  | -1.10575   | -0.975744  | -0.441426  | 0.820884 | 1.82729  | -0.175748 |\n",
      "|  3 |  2.83835 | -0.176422 |  0.638332  |  0.0833258 | -1.11821   | 1.18948  | 1.34569  | -1.29006  |\n",
      "|  4 | -2.31382 |  0.326691 |  0.0522898 | -0.487427  | -0.461197  | 1.09001  | 1.5257   | -0.2117   |\n"
     ]
    }
   ],
   "source": [
    "pipe_pca=PCADecomposition(n_components=8)\n",
    "x_train_new=pipe_pca.fit(x_train_new).transform(x_train_new)\n",
    "print(x_train_new.head(5).to_markdown())"
   ]
  },
  {
   "cell_type": "code",
   "execution_count": 10,
   "id": "07a0ae4a",
   "metadata": {},
   "outputs": [
    {
     "name": "stdout",
     "output_type": "stream",
     "text": [
      "|    |     0 |     1 |\n",
      "|---:|------:|------:|\n",
      "|  0 | 50.03 | 49.97 |\n",
      "|  1 | 41.8  | 58.2  |\n",
      "|  2 | 41.81 | 58.19 |\n",
      "|  3 | 41.9  | 58.1  |\n",
      "|  4 | 50.03 | 49.97 |\n"
     ]
    }
   ],
   "source": [
    "pipeline_lr=TablePipeLine()\n",
    "pipeline_lr.pipe(LogisticRegressionClassification(y=y_train))\\\n",
    "           .pipe(Normalization())\n",
    "\n",
    "x_train_new=pipeline_lr.fit(x_train_new).transform(x_train_new)\n",
    "print(x_train_new.head(5).to_markdown())"
   ]
  },
  {
   "cell_type": "markdown",
   "id": "cd11e363",
   "metadata": {},
   "source": [
    "最后再新建一个pipeline取组合前面的pipe模块，**注意，由于各pipe已经fit好了，组合后的pipeline不要再次fit，只需运行transform/transform_single等其他函数就好**"
   ]
  },
  {
   "cell_type": "code",
   "execution_count": 11,
   "id": "c64d38b4",
   "metadata": {},
   "outputs": [
    {
     "data": {
      "text/plain": [
       "<easymlops.table.core.pipeline_object.TablePipeLine at 0x13aadde1bc8>"
      ]
     },
     "execution_count": 11,
     "metadata": {},
     "output_type": "execute_result"
    }
   ],
   "source": [
    "pipeline_combine=TablePipeLine()\n",
    "pipeline_combine.pipe(fillna_pipe)\\\n",
    "                .pipe(pipe_onehot_encoding)\\\n",
    "                .pipe(pipe_label_encoding)\\\n",
    "                .pipe(pipe_target_encoding)\\\n",
    "                .pipe(pipe_normal)\\\n",
    "                .pipe(pipe_pca)\\\n",
    "                .pipe(pipeline_lr)"
   ]
  },
  {
   "cell_type": "code",
   "execution_count": 13,
   "id": "201463d7",
   "metadata": {},
   "outputs": [
    {
     "name": "stdout",
     "output_type": "stream",
     "text": [
      "|     |     0 |     1 |\n",
      "|----:|------:|------:|\n",
      "| 500 | 50.02 | 49.98 |\n",
      "| 501 | 49.9  | 50.1  |\n",
      "| 502 | 49.84 | 50.16 |\n",
      "| 503 | 49.95 | 50.05 |\n",
      "| 504 | 48.35 | 51.65 |\n"
     ]
    }
   ],
   "source": [
    "print(pipeline_combine.transform(x_test).head(5).to_markdown())"
   ]
  },
  {
   "cell_type": "markdown",
   "id": "c6ce1420",
   "metadata": {},
   "source": [
    "## pipeline运行到指定位置\n",
    "\n",
    "有时候需要定位数据从最初运行到指定pipe模块的输出结果，这里提供了三种方式：  \n",
    "- index是int，运行到最外层指定的那一层  \n",
    "- index是str, 运行到指定`name`的那个pipe\n",
    "- index是list或tuple，运行到指定嵌入层的pipe"
   ]
  },
  {
   "cell_type": "code",
   "execution_count": 18,
   "id": "7d72890d",
   "metadata": {},
   "outputs": [
    {
     "name": "stdout",
     "output_type": "stream",
     "text": [
      "|     |          0 |          1 |         2 |         3 |         4 |        5 |        6 |          7 |\n",
      "|----:|-----------:|-----------:|----------:|----------:|----------:|---------:|---------:|-----------:|\n",
      "| 500 | -2.31036   | -0.0928624 | -0.19398  |  0.511277 |  0.202237 | -1.86472 | -0.24938 | -0.255635  |\n",
      "| 501 |  0.180246  | -1.91993   | -0.315418 |  1.02128  | -1.91574  | -1.62147 | -1.47288 |  0.604476  |\n",
      "| 502 |  0.115275  | -2.264     | -0.104098 |  1.12641  | -1.47905  | -1.51371 | -2.14166 | -0.0441479 |\n",
      "| 503 | -0.0202802 | -1.64604   | -0.728745 | -0.034924 | -2.07495  | -2.24773 |  0.12019 | -0.132674  |\n",
      "| 504 |  2.47437   |  0.881527  |  0.045653 | -0.240732 | -1.78536  | -1.93257 | -1.00486 | -1.33923   |\n"
     ]
    }
   ],
   "source": [
    "table=TablePipeLine()\n",
    "table.pipe(FixInput())\\\n",
    "  .pipe(FillNa())\\\n",
    "  .pipe(Parallel([OneHotEncoding(cols=[\"Pclass\",\"Sex\"],drop_col=False),\n",
    "                 TablePipeLine().pipe(TargetEncoding(cols=[\"Embarked\",\"Cabin\"],y=y_train,name=\"target_encoding\")).pipe(FillNa()),\n",
    "                 WOEEncoding(cols=[\"Sex\",\"Pclass\"],y=y_train),\n",
    "                 TablePipeLine().pipe(LabelEncoding(cols=[\"Name\",\"Ticket\"])).pipe(DropCols(cols=[\"Name\",\"Sex\",\"Ticket\",\"Cabin\",\"Emarked\"]))]))\\\n",
    "  .pipe(TargetEncoding(cols=[\"Name\",\"Cabin\",\"Embarked\",\"Ticket\"],y=y_train))\\\n",
    "  .pipe(FillNa())\\\n",
    "  .pipe(Normalizer())\\\n",
    "  .pipe(PCADecomposition(n_components=8))\n",
    "\n",
    "x_test_new=table.fit(x_train).transform(x_test)\n",
    "print(x_test_new.head(5).to_markdown())"
   ]
  },
  {
   "cell_type": "markdown",
   "id": "cbfae60c",
   "metadata": {},
   "source": [
    "### index为int的情况"
   ]
  },
  {
   "cell_type": "code",
   "execution_count": 20,
   "id": "85413f78",
   "metadata": {},
   "outputs": [
    {
     "name": "stdout",
     "output_type": "stream",
     "text": [
      "|     |   PassengerId |   Pclass | Name                           | Sex    |   Age |   SibSp |   Parch |   Ticket |     Fare | Cabin   | Embarked   |\n",
      "|----:|--------------:|---------:|:-------------------------------|:-------|------:|--------:|--------:|---------:|---------:|:--------|:-----------|\n",
      "| 500 |           501 |        3 | Calic, Mr. Petar               | male   |    17 |       0 |       0 |   315086 |  8.66406 | nan     | S          |\n",
      "| 501 |           502 |        3 | Canavan, Miss. Mary            | female |    21 |       0 |       0 |   364846 |  7.75    | nan     | Q          |\n",
      "| 502 |           503 |        3 | O'Sullivan, Miss. Bridget Mary | female |     0 |       0 |       0 |   330909 |  7.62891 | nan     | Q          |\n",
      "| 503 |           504 |        3 | Laitinen, Miss. Kristina Sofia | female |    37 |       0 |       0 |     4135 |  9.58594 | nan     | S          |\n",
      "| 504 |           505 |        1 | Maioni, Miss. Roberta          | female |    16 |       0 |       0 |   110152 | 86.5     | B79     | S          |\n"
     ]
    }
   ],
   "source": [
    "#查看第1层的数据\n",
    "print(table.transform(x_test,run_to_layer=1).head(5).to_markdown())"
   ]
  },
  {
   "cell_type": "code",
   "execution_count": 26,
   "id": "4c8e3736",
   "metadata": {},
   "outputs": [
    {
     "name": "stdout",
     "output_type": "stream",
     "text": [
      "|     |   Pclass_3 |   Pclass_1 |   Pclass_2 |   Sex_male |   Sex_female | Name                           |      Sex |   Ticket | Cabin   |   PassengerId |   Pclass |   Age |   SibSp |   Parch |     Fare | Embarked   |\n",
      "|----:|-----------:|-----------:|-----------:|-----------:|-------------:|:-------------------------------|---------:|---------:|:--------|--------------:|---------:|------:|--------:|--------:|---------:|:-----------|\n",
      "| 500 |          1 |          0 |          0 |          1 |            0 | Calic, Mr. Petar               |  1.11138 |   315086 | nan     |           501 |        3 |    17 |       0 |       0 |  8.66406 | S          |\n",
      "| 501 |          1 |          0 |          0 |          0 |            1 | Canavan, Miss. Mary            | -1.56999 |   364846 | nan     |           502 |        3 |    21 |       0 |       0 |  7.75    | Q          |\n",
      "| 502 |          1 |          0 |          0 |          0 |            1 | O'Sullivan, Miss. Bridget Mary | -1.56999 |   330909 | nan     |           503 |        3 |     0 |       0 |       0 |  7.62891 | Q          |\n",
      "| 503 |          1 |          0 |          0 |          0 |            1 | Laitinen, Miss. Kristina Sofia | -1.56999 |     4135 | nan     |           504 |        3 |    37 |       0 |       0 |  9.58594 | S          |\n",
      "| 504 |          0 |          1 |          0 |          0 |            1 | Maioni, Miss. Roberta          | -1.56999 |   110152 | B79     |           505 |        1 |    16 |       0 |       0 | 86.5     | S          |\n"
     ]
    }
   ],
   "source": [
    "#查看第2层的数据\n",
    "print(table.transform(x_test,run_to_layer=2).head(5).to_markdown())"
   ]
  },
  {
   "cell_type": "code",
   "execution_count": 27,
   "id": "c8742500",
   "metadata": {},
   "outputs": [
    {
     "name": "stdout",
     "output_type": "stream",
     "text": [
      "|     |   Pclass_3 |   Pclass_1 |   Pclass_2 |   Sex_male |   Sex_female |   Name |      Sex |   Ticket |    Cabin |   PassengerId |   Pclass |   Age |   SibSp |   Parch |     Fare |   Embarked |\n",
      "|----:|-----------:|-----------:|-----------:|-----------:|-------------:|-------:|---------:|---------:|---------:|--------------:|---------:|------:|--------:|--------:|---------:|-----------:|\n",
      "| 500 |          1 |          0 |          0 |          1 |            0 |      0 |  1.11138 |        0 | 0.317829 |           501 |        3 |    17 |       0 |       0 |  8.66406 |   0.334254 |\n",
      "| 501 |          1 |          0 |          0 |          0 |            1 |      0 | -1.56999 |        0 | 0.317829 |           502 |        3 |    21 |       0 |       0 |  7.75    |   0.511111 |\n",
      "| 502 |          1 |          0 |          0 |          0 |            1 |      0 | -1.56999 |        0 | 0.317829 |           503 |        3 |     0 |       0 |       0 |  7.62891 |   0.511111 |\n",
      "| 503 |          1 |          0 |          0 |          0 |            1 |      0 | -1.56999 |        0 | 0.317829 |           504 |        3 |    37 |       0 |       0 |  9.58594 |   0.334254 |\n",
      "| 504 |          0 |          1 |          0 |          0 |            1 |      0 | -1.56999 |        1 | 0        |           505 |        1 |    16 |       0 |       0 | 86.5     |   0.334254 |\n"
     ]
    }
   ],
   "source": [
    "#查看倒数第3层的数据\n",
    "print(table.transform(x_test,run_to_layer=-3).head(5).to_markdown())"
   ]
  },
  {
   "cell_type": "markdown",
   "id": "bdf2e0f2",
   "metadata": {},
   "source": [
    "### index为list或tuple\n",
    "嵌套层的范围:将run_to_layer设置为list结构，分别指定逐层的index"
   ]
  },
  {
   "cell_type": "code",
   "execution_count": 28,
   "id": "96d4af6a",
   "metadata": {},
   "outputs": [
    {
     "name": "stdout",
     "output_type": "stream",
     "text": [
      "|     |   PassengerId |   Pclass | Name                           | Sex    |   Age |   SibSp |   Parch |   Ticket |     Fare | Cabin   | Embarked   |   Pclass_3 |   Pclass_1 |   Pclass_2 |   Sex_male |   Sex_female |\n",
      "|----:|--------------:|---------:|:-------------------------------|:-------|------:|--------:|--------:|---------:|---------:|:--------|:-----------|-----------:|-----------:|-----------:|-----------:|-------------:|\n",
      "| 500 |           501 |        3 | Calic, Mr. Petar               | male   |    17 |       0 |       0 |   315086 |  8.66406 | nan     | S          |          1 |          0 |          0 |          1 |            0 |\n",
      "| 501 |           502 |        3 | Canavan, Miss. Mary            | female |    21 |       0 |       0 |   364846 |  7.75    | nan     | Q          |          1 |          0 |          0 |          0 |            1 |\n",
      "| 502 |           503 |        3 | O'Sullivan, Miss. Bridget Mary | female |     0 |       0 |       0 |   330909 |  7.62891 | nan     | Q          |          1 |          0 |          0 |          0 |            1 |\n",
      "| 503 |           504 |        3 | Laitinen, Miss. Kristina Sofia | female |    37 |       0 |       0 |     4135 |  9.58594 | nan     | S          |          1 |          0 |          0 |          0 |            1 |\n",
      "| 504 |           505 |        1 | Maioni, Miss. Roberta          | female |    16 |       0 |       0 |   110152 | 86.5     | B79     | S          |          0 |          1 |          0 |          0 |            1 |\n"
     ]
    }
   ],
   "source": [
    "#查看第2层(Parallel)的第0层(OneHotEncoding)\n",
    "print(table.transform(x_test,run_to_layer=[2,0]).head(5).to_markdown())"
   ]
  },
  {
   "cell_type": "code",
   "execution_count": 29,
   "id": "41bc88d6",
   "metadata": {},
   "outputs": [
    {
     "name": "stdout",
     "output_type": "stream",
     "text": [
      "|     |   PassengerId |   Pclass | Name                           | Sex    |   Age |   SibSp |   Parch |   Ticket |     Fare |    Cabin |   Embarked |\n",
      "|----:|--------------:|---------:|:-------------------------------|:-------|------:|--------:|--------:|---------:|---------:|---------:|-----------:|\n",
      "| 500 |           501 |        3 | Calic, Mr. Petar               | male   |    17 |       0 |       0 |   315086 |  8.66406 | 0.317829 |   0.334254 |\n",
      "| 501 |           502 |        3 | Canavan, Miss. Mary            | female |    21 |       0 |       0 |   364846 |  7.75    | 0.317829 |   0.511111 |\n",
      "| 502 |           503 |        3 | O'Sullivan, Miss. Bridget Mary | female |     0 |       0 |       0 |   330909 |  7.62891 | 0.317829 |   0.511111 |\n",
      "| 503 |           504 |        3 | Laitinen, Miss. Kristina Sofia | female |    37 |       0 |       0 |     4135 |  9.58594 | 0.317829 |   0.334254 |\n",
      "| 504 |           505 |        1 | Maioni, Miss. Roberta          | female |    16 |       0 |       0 |   110152 | 86.5     | 0        |   0.334254 |\n"
     ]
    }
   ],
   "source": [
    "#运行到第2层(Parallel)的第1层(TablePipeLine)的第0层(TargetEncoding)\n",
    "print(table.transform(x_test,run_to_layer=[2,1,0]).head(5).to_markdown())"
   ]
  },
  {
   "cell_type": "markdown",
   "id": "cf283bd4",
   "metadata": {},
   "source": [
    "### index为str\n",
    "命名访问:如果有对模块命名，可以通过指定名称的方式访问"
   ]
  },
  {
   "cell_type": "code",
   "execution_count": 30,
   "id": "b9296236",
   "metadata": {},
   "outputs": [
    {
     "name": "stdout",
     "output_type": "stream",
     "text": [
      "|     |   PassengerId |   Pclass | Name                           | Sex    |   Age |   SibSp |   Parch |   Ticket |     Fare |    Cabin |   Embarked |\n",
      "|----:|--------------:|---------:|:-------------------------------|:-------|------:|--------:|--------:|---------:|---------:|---------:|-----------:|\n",
      "| 500 |           501 |        3 | Calic, Mr. Petar               | male   |    17 |       0 |       0 |   315086 |  8.66406 | 0.317829 |   0.334254 |\n",
      "| 501 |           502 |        3 | Canavan, Miss. Mary            | female |    21 |       0 |       0 |   364846 |  7.75    | 0.317829 |   0.511111 |\n",
      "| 502 |           503 |        3 | O'Sullivan, Miss. Bridget Mary | female |     0 |       0 |       0 |   330909 |  7.62891 | 0.317829 |   0.511111 |\n",
      "| 503 |           504 |        3 | Laitinen, Miss. Kristina Sofia | female |    37 |       0 |       0 |     4135 |  9.58594 | 0.317829 |   0.334254 |\n",
      "| 504 |           505 |        1 | Maioni, Miss. Roberta          | female |    16 |       0 |       0 |   110152 | 86.5     | 0        |   0.334254 |\n"
     ]
    }
   ],
   "source": [
    "#查看到模块名为target_encoding的数据\n",
    "print(table.transform(x_test,run_to_layer=\"target_encoding\").head(5).to_markdown())"
   ]
  },
  {
   "cell_type": "markdown",
   "id": "ddb6170a",
   "metadata": {},
   "source": [
    "## 获取指定的pipe模块\n",
    "有时候我们想获取指定pipe模块，并调用其函数方法,这里可以通过下标索引(从0开始),也可以通过name进行索引，与上面类似\n",
    "### index为int"
   ]
  },
  {
   "cell_type": "code",
   "execution_count": 34,
   "id": "29d5daa3",
   "metadata": {},
   "outputs": [
    {
     "name": "stdout",
     "output_type": "stream",
     "text": [
      "|    | col   | bin_value                                      |   target_value |\n",
      "|---:|:------|:-----------------------------------------------|---------------:|\n",
      "|  0 | Name  | Abbott, Mrs. Stanton (Rosa Hunt)               |              1 |\n",
      "|  1 | Name  | Abelson, Mr. Samuel                            |              0 |\n",
      "|  2 | Name  | Adahl, Mr. Mauritz Nils Martin                 |              0 |\n",
      "|  3 | Name  | Adams, Mr. John                                |              0 |\n",
      "|  4 | Name  | Ahlin, Mrs. Johan (Johanna Persdotter Larsson) |              0 |\n"
     ]
    }
   ],
   "source": [
    "#获取-4层的target encoding\n",
    "print(table[-4].show_detail().head(5).to_markdown())"
   ]
  },
  {
   "cell_type": "markdown",
   "id": "77f8f027",
   "metadata": {},
   "source": [
    "### index为str"
   ]
  },
  {
   "cell_type": "code",
   "execution_count": 35,
   "id": "c634e81b",
   "metadata": {},
   "outputs": [
    {
     "name": "stdout",
     "output_type": "stream",
     "text": [
      "|    | col      | bin_value   |   target_value |\n",
      "|---:|:---------|:------------|---------------:|\n",
      "|  0 | Embarked | C           |       0.521739 |\n",
      "|  1 | Embarked | Q           |       0.511111 |\n",
      "|  2 | Embarked | S           |       0.334254 |\n",
      "|  3 | Embarked | nan         |       1        |\n",
      "|  4 | Cabin    | A14         |       0        |\n"
     ]
    }
   ],
   "source": [
    "#这里获取的是2->1层的target_encoding，因为它取名name=\"target_encoding\"\n",
    "print(table[\"target_encoding\"].show_detail().head(5).to_markdown())"
   ]
  },
  {
   "cell_type": "markdown",
   "id": "c768b32a",
   "metadata": {},
   "source": [
    "### index为tuple或list"
   ]
  },
  {
   "cell_type": "code",
   "execution_count": 37,
   "id": "f345d267",
   "metadata": {},
   "outputs": [
    {
     "name": "stdout",
     "output_type": "stream",
     "text": [
      "|    | col    | bin_value   |   bad_num |   bad_rate |   good_num |   good_rate |       woe |        iv |\n",
      "|---:|:-------|:------------|----------:|-----------:|-----------:|------------:|----------:|----------:|\n",
      "|  0 | Sex    | male        |        54 |   0.279793 |        261 |    0.850163 |  1.11138  | 0.633897  |\n",
      "|  1 | Sex    | female      |       139 |   0.720207 |         46 |    0.149837 | -1.56999  | 0.895475  |\n",
      "|  2 | Pclass | 3           |        78 |   0.404145 |        201 |    0.654723 |  0.482439 | 0.120889  |\n",
      "|  3 | Pclass | 1           |        66 |   0.341969 |         50 |    0.162866 | -0.741789 | 0.132856  |\n",
      "|  4 | Pclass | 2           |        49 |   0.253886 |         56 |    0.18241  | -0.330626 | 0.0236317 |\n"
     ]
    }
   ],
   "source": [
    "#获取2->2的woe encoding\n",
    "print(table[2,2].show_detail().head(5).to_markdown())"
   ]
  },
  {
   "cell_type": "markdown",
   "id": "0e3c8592",
   "metadata": {},
   "source": [
    "## pipeline的切片式调用\n",
    "可以通过切分的方式获取部分连续的pipe模块，并组装为Pipeline，这样可以更加方便灵活的获取中间结果"
   ]
  },
  {
   "cell_type": "code",
   "execution_count": 38,
   "id": "4c5f0373",
   "metadata": {},
   "outputs": [
    {
     "data": {
      "text/plain": [
       "<easymlops.table.core.pipeline_object.TablePipeLine at 0x13ab1ad0648>"
      ]
     },
     "execution_count": 38,
     "metadata": {},
     "output_type": "execute_result"
    }
   ],
   "source": [
    "table=TablePipeLine()\n",
    "table.pipe(FixInput())\\\n",
    "  .pipe(FillNa())\\\n",
    "  .pipe(OneHotEncoding(cols=[\"Pclass\",\"Sex\"],drop_col=False))\\\n",
    "  .pipe(WOEEncoding(cols=[\"Sex\",\"Pclass\"],y=y_train))\\\n",
    "  .pipe(LabelEncoding(cols=[\"Name\",\"Ticket\"]))\\\n",
    "  .pipe(TargetEncoding(cols=[\"Embarked\",\"Cabin\"],y=y_train,name=\"target_encoding\"))\\\n",
    "  .pipe(FillNa())\\\n",
    "  .pipe(Normalizer())\\\n",
    "  .pipe(PCADecomposition(n_components=8))\n",
    "\n",
    "table.fit(x_train)"
   ]
  },
  {
   "cell_type": "code",
   "execution_count": 39,
   "id": "c5e08adc",
   "metadata": {},
   "outputs": [
    {
     "name": "stdout",
     "output_type": "stream",
     "text": [
      "|     |   PassengerId |   Pclass | Name                           | Sex    |   Age |   SibSp |   Parch |   Ticket |     Fare | Cabin   | Embarked   |   Pclass_3 |   Pclass_1 |   Pclass_2 |   Sex_male |   Sex_female |\n",
      "|----:|--------------:|---------:|:-------------------------------|:-------|------:|--------:|--------:|---------:|---------:|:--------|:-----------|-----------:|-----------:|-----------:|-----------:|-------------:|\n",
      "| 500 |           501 |        3 | Calic, Mr. Petar               | male   |    17 |       0 |       0 |   315086 |  8.66406 | nan     | S          |          1 |          0 |          0 |          1 |            0 |\n",
      "| 501 |           502 |        3 | Canavan, Miss. Mary            | female |    21 |       0 |       0 |   364846 |  7.75    | nan     | Q          |          1 |          0 |          0 |          0 |            1 |\n",
      "| 502 |           503 |        3 | O'Sullivan, Miss. Bridget Mary | female |     0 |       0 |       0 |   330909 |  7.62891 | nan     | Q          |          1 |          0 |          0 |          0 |            1 |\n",
      "| 503 |           504 |        3 | Laitinen, Miss. Kristina Sofia | female |    37 |       0 |       0 |     4135 |  9.58594 | nan     | S          |          1 |          0 |          0 |          0 |            1 |\n",
      "| 504 |           505 |        1 | Maioni, Miss. Roberta          | female |    16 |       0 |       0 |   110152 | 86.5     | B79     | S          |          0 |          1 |          0 |          0 |            1 |\n"
     ]
    }
   ],
   "source": [
    "#运行前3层\n",
    "step1=table[:3].transform(x_test[:5])\n",
    "print(step1.to_markdown())"
   ]
  },
  {
   "cell_type": "code",
   "execution_count": 41,
   "id": "4edb6931",
   "metadata": {},
   "outputs": [
    {
     "name": "stdout",
     "output_type": "stream",
     "text": [
      "|     |   PassengerId |    Pclass |   Name |      Sex |   Age |   SibSp |   Parch |   Ticket |     Fare | Cabin   | Embarked   |   Pclass_3 |   Pclass_1 |   Pclass_2 |   Sex_male |   Sex_female |\n",
      "|----:|--------------:|----------:|-------:|---------:|------:|--------:|--------:|---------:|---------:|:--------|:-----------|-----------:|-----------:|-----------:|-----------:|-------------:|\n",
      "| 500 |           501 |  0.482439 |      0 |  1.11138 |    17 |       0 |       0 |        0 |  8.66406 | nan     | S          |          1 |          0 |          0 |          1 |            0 |\n",
      "| 501 |           502 |  0.482439 |      0 | -1.56999 |    21 |       0 |       0 |        0 |  7.75    | nan     | Q          |          1 |          0 |          0 |          0 |            1 |\n",
      "| 502 |           503 |  0.482439 |      0 | -1.56999 |     0 |       0 |       0 |        0 |  7.62891 | nan     | Q          |          1 |          0 |          0 |          0 |            1 |\n",
      "| 503 |           504 |  0.482439 |      0 | -1.56999 |    37 |       0 |       0 |        0 |  9.58594 | nan     | S          |          1 |          0 |          0 |          0 |            1 |\n",
      "| 504 |           505 | -0.741789 |      0 | -1.56999 |    16 |       0 |       0 |      231 | 86.5     | B79     | S          |          0 |          1 |          0 |          0 |            1 |\n"
     ]
    }
   ],
   "source": [
    "#运行中间3,4层\n",
    "step2=table[3:5].transform(step1)\n",
    "print(step2.to_markdown())"
   ]
  },
  {
   "cell_type": "code",
   "execution_count": 42,
   "id": "b5084cf0",
   "metadata": {},
   "outputs": [
    {
     "name": "stdout",
     "output_type": "stream",
     "text": [
      "|     |         0 |        1 |          2 |          3 |        4 |         5 |         6 |         7 |\n",
      "|----:|----------:|---------:|-----------:|-----------:|---------:|----------:|----------:|----------:|\n",
      "| 500 | -2.14842  | 0.307872 |  0.526932  |  0.0881118 | 0.324999 | -0.238535 | -0.432583 | -0.424289 |\n",
      "| 501 |  0.212949 | 2.32202  | -1.28604   | -0.469809  | 1.53792  | -0.098157 |  0.775934 |  0.459946 |\n",
      "| 502 |  0.053812 | 2.543    | -1.50479   | -0.263976  | 1.52535  |  0.729823 |  0.737169 | -0.240717 |\n",
      "| 503 |  0.089901 | 2.00564  | -1.13093   | -0.942879  | 0.544493 | -1.64931  | -0.119709 | -0.125324 |\n",
      "| 504 |  2.67342  | 0.110068 | -0.0911749 | -0.154845  | 0.265834 | -0.959033 |  1.61703  | -2.49404  |\n"
     ]
    }
   ],
   "source": [
    "#运行5层及之后\n",
    "step3=table[5:].transform(step2)\n",
    "print(step3.to_markdown())"
   ]
  },
  {
   "cell_type": "code",
   "execution_count": null,
   "id": "2c4df681",
   "metadata": {},
   "outputs": [],
   "source": []
  }
 ],
 "metadata": {
  "kernelspec": {
   "display_name": "Python 3 (ipykernel)",
   "language": "python",
   "name": "python3"
  },
  "language_info": {
   "codemirror_mode": {
    "name": "ipython",
    "version": 3
   },
   "file_extension": ".py",
   "mimetype": "text/x-python",
   "name": "python",
   "nbconvert_exporter": "python",
   "pygments_lexer": "ipython3",
   "version": "3.7.15"
  }
 },
 "nbformat": 4,
 "nbformat_minor": 5
}
