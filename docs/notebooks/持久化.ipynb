{
 "cells": [
  {
   "cell_type": "markdown",
   "id": "21dddbcd",
   "metadata": {},
   "source": [
    "# 持久化\n",
    "这里持久化操作不保存结构，只保存参数"
   ]
  },
  {
   "cell_type": "code",
   "execution_count": 1,
   "id": "1fbe8b82",
   "metadata": {},
   "outputs": [
    {
     "name": "stdout",
     "output_type": "stream",
     "text": [
      "|    |   PassengerId |   Survived |   Pclass | Name                                                | Sex    |   Age |   SibSp |   Parch | Ticket           |    Fare | Cabin   | Embarked   |\n",
      "|---:|--------------:|-----------:|---------:|:----------------------------------------------------|:-------|------:|--------:|--------:|:-----------------|--------:|:--------|:-----------|\n",
      "|  0 |             1 |          0 |        3 | Braund, Mr. Owen Harris                             | male   |    22 |       1 |       0 | A/5 21171        |  7.25   | nan     | S          |\n",
      "|  1 |             2 |          1 |        1 | Cumings, Mrs. John Bradley (Florence Briggs Thayer) | female |    38 |       1 |       0 | PC 17599         | 71.2833 | C85     | C          |\n",
      "|  2 |             3 |          1 |        3 | Heikkinen, Miss. Laina                              | female |    26 |       0 |       0 | STON/O2. 3101282 |  7.925  | nan     | S          |\n",
      "|  3 |             4 |          1 |        1 | Futrelle, Mrs. Jacques Heath (Lily May Peel)        | female |    35 |       1 |       0 | 113803           | 53.1    | C123    | S          |\n",
      "|  4 |             5 |          0 |        3 | Allen, Mr. William Henry                            | male   |    35 |       0 |       0 | 373450           |  8.05   | nan     | S          |\n"
     ]
    }
   ],
   "source": [
    "#数据准备\n",
    "import os\n",
    "os.chdir(\"../../\")#与easymlops同级目录\n",
    "import pandas as pd\n",
    "data=pd.read_csv(\"./data/demo.csv\")\n",
    "print(data.head(5).to_markdown())"
   ]
  },
  {
   "cell_type": "code",
   "execution_count": 2,
   "id": "01d34fb3",
   "metadata": {},
   "outputs": [],
   "source": [
    "x_train=data[:500]\n",
    "x_test=data[500:]\n",
    "y_train=x_train[\"Survived\"]\n",
    "y_test=x_test[\"Survived\"]\n",
    "del x_train[\"Survived\"]\n",
    "del x_test[\"Survived\"]"
   ]
  },
  {
   "cell_type": "code",
   "execution_count": 3,
   "id": "d0d81f33",
   "metadata": {},
   "outputs": [],
   "source": [
    "from easymlops import NLPPipeline\n",
    "from easymlops.table.preprocessing import *\n",
    "from easymlops.table.ensemble import *\n",
    "from easymlops.nlp.preprocessing import *\n",
    "from easymlops.nlp.representation import *\n",
    "from easymlops.table.perfopt import *\n",
    "from easymlops.table.classification import *"
   ]
  },
  {
   "cell_type": "code",
   "execution_count": 4,
   "id": "f944acf4",
   "metadata": {},
   "outputs": [
    {
     "name": "stdout",
     "output_type": "stream",
     "text": [
      "|     |         0 |        1 |\n",
      "|----:|----------:|---------:|\n",
      "| 500 | 0.782645  | 0.217355 |\n",
      "| 501 | 0.0778462 | 0.922154 |\n",
      "| 502 | 0.0778462 | 0.922154 |\n",
      "| 503 | 0.155608  | 0.844392 |\n",
      "| 504 | 0.254     | 0.746    |\n"
     ]
    }
   ],
   "source": [
    "nlp=NLPPipeline()\n",
    "nlp.pipe(FixInput())\\\n",
    "   .pipe(TablePipeLine().pipe(FillNa(cols=[\"Name\",\"Sex\"]))\n",
    "                        .pipe(SelectCols(cols=[\"Name\",\"Sex\"]))\n",
    "                        .pipe(Lower())\n",
    "                        .pipe(RemovePunctuation()))\\\n",
    "   .pipe(Parallel([LsiTopicModel(num_topics=4),Word2VecModel(embedding_size=4),TFIDF()]))\\\n",
    "   .pipe(DropCols(cols=[\"Name\",\"Sex\"]))\\\n",
    "   .pipe(LGBMClassification(y=y_train,support_sparse_input=True,native_init_params={\"max_depth\": 2}, native_fit_params={\"num_boost_round\": 128}))\n",
    "\n",
    "x_test_new=nlp.fit(x_train).transform(x_test)\n",
    "print(x_test_new.head(5).to_markdown())"
   ]
  },
  {
   "cell_type": "markdown",
   "id": "41918c8e",
   "metadata": {},
   "source": [
    "## 保存模型\n",
    "保存操作很简单，直接save"
   ]
  },
  {
   "cell_type": "code",
   "execution_count": 5,
   "id": "e4f36677",
   "metadata": {},
   "outputs": [],
   "source": [
    "nlp.save(\"nlp.pkl\")"
   ]
  },
  {
   "cell_type": "markdown",
   "id": "6463f466",
   "metadata": {},
   "source": [
    "## 加载模型  \n",
    "\n",
    "由于只保存了模型参数，所以需要将训练阶段的结构再次申明一次（**结构必须完全一致**，比如上面pipeline嵌套了pipeline的情况，里面的pipeline也不能展开），另外，**参数可以不需设置**"
   ]
  },
  {
   "cell_type": "code",
   "execution_count": 6,
   "id": "9b4473dc",
   "metadata": {},
   "outputs": [],
   "source": [
    "nlp=NLPPipeline()\n",
    "nlp.pipe(FixInput())\\\n",
    "   .pipe(TablePipeLine().pipe(FillNa())\n",
    "                        .pipe(SelectCols())\n",
    "                        .pipe(Lower())\n",
    "                        .pipe(RemovePunctuation()))\\\n",
    "   .pipe(Parallel([LsiTopicModel(),Word2VecModel(),TFIDF()]))\\\n",
    "   .pipe(DropCols())\\\n",
    "   .pipe(LGBMClassification())\n",
    "\n",
    "nlp.load(\"nlp.pkl\")"
   ]
  },
  {
   "cell_type": "code",
   "execution_count": 7,
   "id": "5f6dbb05",
   "metadata": {},
   "outputs": [
    {
     "name": "stdout",
     "output_type": "stream",
     "text": [
      "|     |         0 |        1 |\n",
      "|----:|----------:|---------:|\n",
      "| 500 | 0.782645  | 0.217355 |\n",
      "| 501 | 0.0778462 | 0.922154 |\n",
      "| 502 | 0.0778462 | 0.922154 |\n",
      "| 503 | 0.155608  | 0.844392 |\n",
      "| 504 | 0.254     | 0.746    |\n"
     ]
    }
   ],
   "source": [
    "print(nlp.transform(x_test).head(5).to_markdown())"
   ]
  },
  {
   "cell_type": "code",
   "execution_count": null,
   "id": "4be3aeaf",
   "metadata": {},
   "outputs": [],
   "source": []
  }
 ],
 "metadata": {
  "kernelspec": {
   "display_name": "Python 3 (ipykernel)",
   "language": "python",
   "name": "python3"
  },
  "language_info": {
   "codemirror_mode": {
    "name": "ipython",
    "version": 3
   },
   "file_extension": ".py",
   "mimetype": "text/x-python",
   "name": "python",
   "nbconvert_exporter": "python",
   "pygments_lexer": "ipython3",
   "version": "3.7.15"
  }
 },
 "nbformat": 4,
 "nbformat_minor": 5
}
