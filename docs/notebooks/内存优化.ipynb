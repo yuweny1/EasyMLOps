{
 "cells": [
  {
   "cell_type": "markdown",
   "id": "7ba255bf",
   "metadata": {},
   "source": [
    "# 内存优化 \n",
    "\n",
    "1）pandas再读取数据后，通常会将数据设置为64位(float64,int64)等，而我们的实际数据通常不需要这么大的存储访问，所以第一个思路就是缩小数据类型；\n",
    "2）对于ont-hot以及bow/tfidf这类特征工程之后得到的是稀疏矩阵，所以第二个思路就是将稠密矩阵转稀疏矩阵"
   ]
  },
  {
   "cell_type": "code",
   "execution_count": 1,
   "id": "f9ba8095",
   "metadata": {},
   "outputs": [
    {
     "name": "stdout",
     "output_type": "stream",
     "text": [
      "|    |   PassengerId |   Survived |   Pclass | Name                                                | Sex    |   Age |   SibSp |   Parch | Ticket           |    Fare | Cabin   | Embarked   |\n",
      "|---:|--------------:|-----------:|---------:|:----------------------------------------------------|:-------|------:|--------:|--------:|:-----------------|--------:|:--------|:-----------|\n",
      "|  0 |             1 |          0 |        3 | Braund, Mr. Owen Harris                             | male   |    22 |       1 |       0 | A/5 21171        |  7.25   | nan     | S          |\n",
      "|  1 |             2 |          1 |        1 | Cumings, Mrs. John Bradley (Florence Briggs Thayer) | female |    38 |       1 |       0 | PC 17599         | 71.2833 | C85     | C          |\n",
      "|  2 |             3 |          1 |        3 | Heikkinen, Miss. Laina                              | female |    26 |       0 |       0 | STON/O2. 3101282 |  7.925  | nan     | S          |\n",
      "|  3 |             4 |          1 |        1 | Futrelle, Mrs. Jacques Heath (Lily May Peel)        | female |    35 |       1 |       0 | 113803           | 53.1    | C123    | S          |\n",
      "|  4 |             5 |          0 |        3 | Allen, Mr. William Henry                            | male   |    35 |       0 |       0 | 373450           |  8.05   | nan     | S          |\n"
     ]
    }
   ],
   "source": [
    "#数据准备\n",
    "import os\n",
    "os.chdir(\"../../\")#与easymlops同级目录\n",
    "import pandas as pd\n",
    "data=pd.read_csv(\"./data/demo.csv\")\n",
    "print(data.head(5).to_markdown())"
   ]
  },
  {
   "cell_type": "markdown",
   "id": "67865de2",
   "metadata": {},
   "source": [
    "## ReduceMemUsage\n",
    "\n",
    "\n",
    "注意：ReduceMemUsage会更加训练数据设置最小的数据类型，对于预测数据，如果不在该范围内，会进行截断"
   ]
  },
  {
   "cell_type": "code",
   "execution_count": 2,
   "id": "126df031",
   "metadata": {},
   "outputs": [],
   "source": [
    "from easymlops import TablePipeLine\n",
    "from easymlops.table.preprocessing import *\n",
    "from easymlops.table.encoding import *\n",
    "from easymlops.table.perfopt import *"
   ]
  },
  {
   "cell_type": "code",
   "execution_count": 3,
   "id": "d44c290f",
   "metadata": {},
   "outputs": [
    {
     "data": {
      "text/plain": [
       "<easymlops.table.core.pipeline_object.TablePipeLine at 0x1940db09cc8>"
      ]
     },
     "execution_count": 3,
     "metadata": {},
     "output_type": "execute_result"
    }
   ],
   "source": [
    "table=TablePipeLine()\n",
    "table.pipe(FixInput(reduce_mem_usage=False))\\\n",
    "  .pipe(FillNa())\\\n",
    "  .pipe(ReduceMemUsage())\n",
    "\n",
    "table.fit(data)"
   ]
  },
  {
   "cell_type": "code",
   "execution_count": 4,
   "id": "289f8cad",
   "metadata": {},
   "outputs": [
    {
     "data": {
      "text/plain": [
       "83"
      ]
     },
     "execution_count": 4,
     "metadata": {},
     "output_type": "execute_result"
    }
   ],
   "source": [
    "#优化前(K)\n",
    "table.transform(data,run_to_layer=-2).memory_usage().sum()//1024"
   ]
  },
  {
   "cell_type": "code",
   "execution_count": 5,
   "id": "9acf4ec4",
   "metadata": {},
   "outputs": [
    {
     "data": {
      "text/plain": [
       "43"
      ]
     },
     "execution_count": 5,
     "metadata": {},
     "output_type": "execute_result"
    }
   ],
   "source": [
    "#优化后(K)\n",
    "table.transform(data,run_to_layer=-1).memory_usage().sum()//1024"
   ]
  },
  {
   "cell_type": "markdown",
   "id": "da52850a",
   "metadata": {},
   "source": [
    "## Dense2Sparse  \n",
    "\n",
    "注意：该模块的潜在问题是，后续pipe模块需要提供对稀疏矩阵的支持（不过，目前内置的pipe模块基本都支持~）"
   ]
  },
  {
   "cell_type": "code",
   "execution_count": 6,
   "id": "192e24c9",
   "metadata": {},
   "outputs": [
    {
     "data": {
      "text/plain": [
       "<easymlops.table.core.pipeline_object.TablePipeLine at 0x1940db2fec8>"
      ]
     },
     "execution_count": 6,
     "metadata": {},
     "output_type": "execute_result"
    }
   ],
   "source": [
    "table=TablePipeLine()\n",
    "table.pipe(FixInput())\\\n",
    "  .pipe(FillNa())\\\n",
    "  .pipe(Clip(cols=[\"Age\"],default_clip=(1,99),name=\"clip_name\"))\\\n",
    "  .pipe(OneHotEncoding(cols=[\"Pclass\",\"Sex\",\"Name\",\"Ticket\",\"Embarked\",\"Cabin\"],drop_col=True))\\\n",
    "  .pipe(Dense2Sparse())\n",
    "\n",
    "table.fit(data)"
   ]
  },
  {
   "cell_type": "code",
   "execution_count": 7,
   "id": "e3bd4c78",
   "metadata": {},
   "outputs": [
    {
     "data": {
      "text/plain": [
       "1512"
      ]
     },
     "execution_count": 7,
     "metadata": {},
     "output_type": "execute_result"
    }
   ],
   "source": [
    "#优化前(K)\n",
    "table.transform(data,run_to_layer=-2).memory_usage().sum()//1024"
   ]
  },
  {
   "cell_type": "code",
   "execution_count": 8,
   "id": "b399ab20",
   "metadata": {},
   "outputs": [
    {
     "data": {
      "text/plain": [
       "45"
      ]
     },
     "execution_count": 8,
     "metadata": {},
     "output_type": "execute_result"
    }
   ],
   "source": [
    "#优化后(K)\n",
    "table.transform(data,run_to_layer=-1).memory_usage().sum()//1024"
   ]
  },
  {
   "cell_type": "markdown",
   "id": "22a5dcd4",
   "metadata": {},
   "source": [
    "基于Sklearn实现的BOW/TFIDF模型，输出已经是稀疏矩阵了，不过Dense2Sparse还能进一步减少内存，原理是内部会调用一次ReduceMemUsage，减小数据类型"
   ]
  },
  {
   "cell_type": "code",
   "execution_count": 5,
   "id": "9ad5ffcc",
   "metadata": {},
   "outputs": [],
   "source": [
    "from easymlops import NLPPipeline\n",
    "from easymlops.nlp.representation import *\n",
    "from easymlops.nlp.preprocessing import *"
   ]
  },
  {
   "cell_type": "code",
   "execution_count": 6,
   "id": "89472d60",
   "metadata": {},
   "outputs": [],
   "source": [
    "text=pd.read_csv(\"./data/demo2.csv\",encoding=\"gbk\").sample(frac=1)[[\"review\"]]"
   ]
  },
  {
   "cell_type": "code",
   "execution_count": 8,
   "id": "aeaaf65b",
   "metadata": {},
   "outputs": [
    {
     "data": {
      "text/plain": [
       "<easymlops.nlp.core.pipeline_object.NLPPipeline at 0x1caf144b3c8>"
      ]
     },
     "execution_count": 8,
     "metadata": {},
     "output_type": "execute_result"
    }
   ],
   "source": [
    "nlp=NLPPipeline()\n",
    "nlp.pipe(ExtractChineseWords())\\\n",
    "   .pipe(ExtractJieBaWords())\\\n",
    "   .pipe(BagOfWords())\\\n",
    "   .pipe(Dense2Sparse())\n",
    "\n",
    "nlp.fit(text)"
   ]
  },
  {
   "cell_type": "code",
   "execution_count": 10,
   "id": "81649543",
   "metadata": {},
   "outputs": [
    {
     "data": {
      "text/plain": [
       "4568"
      ]
     },
     "execution_count": 10,
     "metadata": {},
     "output_type": "execute_result"
    }
   ],
   "source": [
    "#优化前(K)\n",
    "nlp.transform(text,run_to_layer=-2).memory_usage().sum()//1024"
   ]
  },
  {
   "cell_type": "code",
   "execution_count": 11,
   "id": "b31e77bd",
   "metadata": {},
   "outputs": [
    {
     "data": {
      "text/plain": [
       "1939"
      ]
     },
     "execution_count": 11,
     "metadata": {},
     "output_type": "execute_result"
    }
   ],
   "source": [
    "#优化后(K)\n",
    "nlp.transform(text,run_to_layer=-1).memory_usage().sum()//1024"
   ]
  },
  {
   "cell_type": "code",
   "execution_count": null,
   "id": "3b2163b3",
   "metadata": {},
   "outputs": [],
   "source": []
  }
 ],
 "metadata": {
  "kernelspec": {
   "display_name": "Python 3 (ipykernel)",
   "language": "python",
   "name": "python3"
  },
  "language_info": {
   "codemirror_mode": {
    "name": "ipython",
    "version": 3
   },
   "file_extension": ".py",
   "mimetype": "text/x-python",
   "name": "python",
   "nbconvert_exporter": "python",
   "pygments_lexer": "ipython3",
   "version": "3.7.15"
  }
 },
 "nbformat": 4,
 "nbformat_minor": 5
}
