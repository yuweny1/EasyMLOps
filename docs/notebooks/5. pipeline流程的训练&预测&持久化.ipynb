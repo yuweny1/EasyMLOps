{
 "cells": [
  {
   "cell_type": "code",
   "execution_count": 1,
   "id": "c93665f7",
   "metadata": {},
   "outputs": [],
   "source": [
    "import os\n",
    "os.chdir(\"../../\")#与easymlops同级目录"
   ]
  },
  {
   "cell_type": "markdown",
   "id": "bd3e93fb",
   "metadata": {},
   "source": [
    "### 拆分数据"
   ]
  },
  {
   "cell_type": "code",
   "execution_count": 2,
   "id": "ca555fd6",
   "metadata": {},
   "outputs": [
    {
     "data": {
      "text/html": [
       "<div>\n",
       "<style scoped>\n",
       "    .dataframe tbody tr th:only-of-type {\n",
       "        vertical-align: middle;\n",
       "    }\n",
       "\n",
       "    .dataframe tbody tr th {\n",
       "        vertical-align: top;\n",
       "    }\n",
       "\n",
       "    .dataframe thead th {\n",
       "        text-align: right;\n",
       "    }\n",
       "</style>\n",
       "<table border=\"1\" class=\"dataframe\">\n",
       "  <thead>\n",
       "    <tr style=\"text-align: right;\">\n",
       "      <th></th>\n",
       "      <th>PassengerId</th>\n",
       "      <th>Survived</th>\n",
       "      <th>Pclass</th>\n",
       "      <th>Name</th>\n",
       "      <th>Sex</th>\n",
       "      <th>Age</th>\n",
       "      <th>SibSp</th>\n",
       "      <th>Parch</th>\n",
       "      <th>Ticket</th>\n",
       "      <th>Fare</th>\n",
       "      <th>Cabin</th>\n",
       "      <th>Embarked</th>\n",
       "    </tr>\n",
       "  </thead>\n",
       "  <tbody>\n",
       "    <tr>\n",
       "      <th>0</th>\n",
       "      <td>1</td>\n",
       "      <td>0</td>\n",
       "      <td>3</td>\n",
       "      <td>Braund, Mr. Owen Harris</td>\n",
       "      <td>male</td>\n",
       "      <td>22.0</td>\n",
       "      <td>1</td>\n",
       "      <td>0</td>\n",
       "      <td>A/5 21171</td>\n",
       "      <td>7.2500</td>\n",
       "      <td>NaN</td>\n",
       "      <td>S</td>\n",
       "    </tr>\n",
       "    <tr>\n",
       "      <th>1</th>\n",
       "      <td>2</td>\n",
       "      <td>1</td>\n",
       "      <td>1</td>\n",
       "      <td>Cumings, Mrs. John Bradley (Florence Briggs Th...</td>\n",
       "      <td>female</td>\n",
       "      <td>38.0</td>\n",
       "      <td>1</td>\n",
       "      <td>0</td>\n",
       "      <td>PC 17599</td>\n",
       "      <td>71.2833</td>\n",
       "      <td>C85</td>\n",
       "      <td>C</td>\n",
       "    </tr>\n",
       "    <tr>\n",
       "      <th>2</th>\n",
       "      <td>3</td>\n",
       "      <td>1</td>\n",
       "      <td>3</td>\n",
       "      <td>Heikkinen, Miss. Laina</td>\n",
       "      <td>female</td>\n",
       "      <td>26.0</td>\n",
       "      <td>0</td>\n",
       "      <td>0</td>\n",
       "      <td>STON/O2. 3101282</td>\n",
       "      <td>7.9250</td>\n",
       "      <td>NaN</td>\n",
       "      <td>S</td>\n",
       "    </tr>\n",
       "    <tr>\n",
       "      <th>3</th>\n",
       "      <td>4</td>\n",
       "      <td>1</td>\n",
       "      <td>1</td>\n",
       "      <td>Futrelle, Mrs. Jacques Heath (Lily May Peel)</td>\n",
       "      <td>female</td>\n",
       "      <td>35.0</td>\n",
       "      <td>1</td>\n",
       "      <td>0</td>\n",
       "      <td>113803</td>\n",
       "      <td>53.1000</td>\n",
       "      <td>C123</td>\n",
       "      <td>S</td>\n",
       "    </tr>\n",
       "    <tr>\n",
       "      <th>4</th>\n",
       "      <td>5</td>\n",
       "      <td>0</td>\n",
       "      <td>3</td>\n",
       "      <td>Allen, Mr. William Henry</td>\n",
       "      <td>male</td>\n",
       "      <td>35.0</td>\n",
       "      <td>0</td>\n",
       "      <td>0</td>\n",
       "      <td>373450</td>\n",
       "      <td>8.0500</td>\n",
       "      <td>NaN</td>\n",
       "      <td>S</td>\n",
       "    </tr>\n",
       "  </tbody>\n",
       "</table>\n",
       "</div>"
      ],
      "text/plain": [
       "   PassengerId  Survived  Pclass  \\\n",
       "0            1         0       3   \n",
       "1            2         1       1   \n",
       "2            3         1       3   \n",
       "3            4         1       1   \n",
       "4            5         0       3   \n",
       "\n",
       "                                                Name     Sex   Age  SibSp  \\\n",
       "0                            Braund, Mr. Owen Harris    male  22.0      1   \n",
       "1  Cumings, Mrs. John Bradley (Florence Briggs Th...  female  38.0      1   \n",
       "2                             Heikkinen, Miss. Laina  female  26.0      0   \n",
       "3       Futrelle, Mrs. Jacques Heath (Lily May Peel)  female  35.0      1   \n",
       "4                           Allen, Mr. William Henry    male  35.0      0   \n",
       "\n",
       "   Parch            Ticket     Fare Cabin Embarked  \n",
       "0      0         A/5 21171   7.2500   NaN        S  \n",
       "1      0          PC 17599  71.2833   C85        C  \n",
       "2      0  STON/O2. 3101282   7.9250   NaN        S  \n",
       "3      0            113803  53.1000  C123        S  \n",
       "4      0            373450   8.0500   NaN        S  "
      ]
     },
     "execution_count": 2,
     "metadata": {},
     "output_type": "execute_result"
    }
   ],
   "source": [
    "import pandas as pd\n",
    "data=pd.read_csv(\"./data/demo.csv\")\n",
    "data.head(5)"
   ]
  },
  {
   "cell_type": "code",
   "execution_count": 3,
   "id": "d35f74b1",
   "metadata": {},
   "outputs": [],
   "source": [
    "x_train=data[:500]\n",
    "x_test=data[500:]\n",
    "y_train=x_train[\"Survived\"]\n",
    "y_test=x_test[\"Survived\"]\n",
    "del x_train[\"Survived\"]\n",
    "del x_test[\"Survived\"]"
   ]
  },
  {
   "cell_type": "markdown",
   "id": "9fbd33ae",
   "metadata": {},
   "source": [
    "## pipeline流程的训练&预测&持久化  \n",
    "\n",
    "训练接口fit和批量预测接口transform上面demo以及运行多次就不介绍了，下面介绍当条数据的预测接口transform_single这个主要用于线上单条数据的预测，要求输入是字典格式，而且输出也是字典格式"
   ]
  },
  {
   "cell_type": "code",
   "execution_count": 4,
   "id": "f1f39f5d",
   "metadata": {},
   "outputs": [],
   "source": [
    "from easymlops import TablePipeLine\n",
    "from easymlops.table.preprocessing import *\n",
    "from easymlops.table.encoding import *\n",
    "from easymlops.table.perfopt import *\n",
    "from easymlops.table.decomposition import *"
   ]
  },
  {
   "cell_type": "code",
   "execution_count": 5,
   "id": "f146585f",
   "metadata": {},
   "outputs": [
    {
     "data": {
      "text/plain": [
       "<easymlops.table.core.pipeline_object.TablePipeLine at 0x12e7e435408>"
      ]
     },
     "execution_count": 5,
     "metadata": {},
     "output_type": "execute_result"
    }
   ],
   "source": [
    "table=TablePipeLine()\n",
    "table.pipe(FixInput())\\\n",
    "  .pipe(FillNa())\\\n",
    "  .pipe(OneHotEncoding(cols=[\"Pclass\",\"Sex\"],drop_col=False))\\\n",
    "  .pipe(WOEEncoding(cols=[\"Sex\",\"Pclass\"],y=y_train))\\\n",
    "  .pipe(LabelEncoding(cols=[\"Name\",\"Ticket\"]))\\\n",
    "  .pipe(TargetEncoding(cols=[\"Embarked\",\"Cabin\"],y=y_train,name=\"target_encoding\"))\\\n",
    "  .pipe(FillNa())\\\n",
    "  .pipe(Normalizer())\\\n",
    "  .pipe(PCADecomposition(n_components=8))\n",
    "\n",
    "table.fit(x_train)"
   ]
  },
  {
   "cell_type": "code",
   "execution_count": 6,
   "id": "6ca17dea",
   "metadata": {},
   "outputs": [
    {
     "data": {
      "text/plain": [
       "{'PassengerId': 501,\n",
       " 'Pclass': 3,\n",
       " 'Name': 'Calic, Mr. Petar',\n",
       " 'Sex': 'male',\n",
       " 'Age': 17.0,\n",
       " 'SibSp': 0,\n",
       " 'Parch': 0,\n",
       " 'Ticket': '315086',\n",
       " 'Fare': 8.6625,\n",
       " 'Cabin': nan,\n",
       " 'Embarked': 'S'}"
      ]
     },
     "execution_count": 6,
     "metadata": {},
     "output_type": "execute_result"
    }
   ],
   "source": [
    "input_dict=x_test.to_dict(\"record\")[0]\n",
    "input_dict"
   ]
  },
  {
   "cell_type": "code",
   "execution_count": 7,
   "id": "2bdbbc6d",
   "metadata": {},
   "outputs": [
    {
     "data": {
      "text/plain": [
       "{0: -2.1484200045451156,\n",
       " 1: 0.30787183575981064,\n",
       " 2: 0.5269317361325149,\n",
       " 3: 0.08811175767317664,\n",
       " 4: 0.324999350738831,\n",
       " 5: -0.2385351581066627,\n",
       " 6: -0.4325834193051708,\n",
       " 7: -0.4242890049704961}"
      ]
     },
     "execution_count": 7,
     "metadata": {},
     "output_type": "execute_result"
    }
   ],
   "source": [
    "table.transform_single(input_dict)"
   ]
  },
  {
   "cell_type": "code",
   "execution_count": 8,
   "id": "6610c334",
   "metadata": {},
   "outputs": [
    {
     "data": {
      "text/plain": [
       "{0: 0.4745463325351802,\n",
       " 1: 2.6819692152767876,\n",
       " 2: 1.6590931351297027,\n",
       " 3: 0.09653744095979899,\n",
       " 4: 4.146280833650216,\n",
       " 5: 3.9595692098995006,\n",
       " 6: 3.238905691376299,\n",
       " 7: 2.674190117929893}"
      ]
     },
     "execution_count": 8,
     "metadata": {},
     "output_type": "execute_result"
    }
   ],
   "source": [
    "#也可以看看啥也不输入，能否得到一个结果，检验代码是否稳健\n",
    "table.transform_single({})"
   ]
  },
  {
   "cell_type": "markdown",
   "id": "6be276c1",
   "metadata": {},
   "source": [
    "### 持久化"
   ]
  },
  {
   "cell_type": "code",
   "execution_count": 9,
   "id": "be09dd14",
   "metadata": {},
   "outputs": [],
   "source": [
    "#保存\n",
    "table.save(\"ml.pkl\")"
   ]
  },
  {
   "cell_type": "code",
   "execution_count": 10,
   "id": "1c27598c",
   "metadata": {},
   "outputs": [],
   "source": [
    "table=TablePipeLine()\n",
    "table.pipe(FixInput())\\\n",
    "  .pipe(FillNa())\\\n",
    "  .pipe(OneHotEncoding(cols=[\"Pclass\",\"Sex\"],drop_col=False))\\\n",
    "  .pipe(WOEEncoding(cols=[\"Sex\",\"Pclass\"],y=y_train))\\\n",
    "  .pipe(LabelEncoding(cols=[\"Name\",\"Ticket\"]))\\\n",
    "  .pipe(TargetEncoding(cols=[\"Embarked\",\"Cabin\"],y=y_train,name=\"target_encoding\"))\\\n",
    "  .pipe(FillNa())\\\n",
    "  .pipe(Normalizer())\\\n",
    "  .pipe(PCADecomposition(n_components=8))\n",
    "\n",
    "table.load(\"ml.pkl\")"
   ]
  },
  {
   "cell_type": "code",
   "execution_count": 11,
   "id": "c43e8c24",
   "metadata": {},
   "outputs": [
    {
     "data": {
      "text/html": [
       "<div>\n",
       "<style scoped>\n",
       "    .dataframe tbody tr th:only-of-type {\n",
       "        vertical-align: middle;\n",
       "    }\n",
       "\n",
       "    .dataframe tbody tr th {\n",
       "        vertical-align: top;\n",
       "    }\n",
       "\n",
       "    .dataframe thead th {\n",
       "        text-align: right;\n",
       "    }\n",
       "</style>\n",
       "<table border=\"1\" class=\"dataframe\">\n",
       "  <thead>\n",
       "    <tr style=\"text-align: right;\">\n",
       "      <th></th>\n",
       "      <th>0</th>\n",
       "      <th>1</th>\n",
       "      <th>2</th>\n",
       "      <th>3</th>\n",
       "      <th>4</th>\n",
       "      <th>5</th>\n",
       "      <th>6</th>\n",
       "      <th>7</th>\n",
       "    </tr>\n",
       "  </thead>\n",
       "  <tbody>\n",
       "    <tr>\n",
       "      <th>500</th>\n",
       "      <td>-2.148420</td>\n",
       "      <td>0.307872</td>\n",
       "      <td>0.526932</td>\n",
       "      <td>0.088112</td>\n",
       "      <td>0.324999</td>\n",
       "      <td>-0.238535</td>\n",
       "      <td>-0.432583</td>\n",
       "      <td>-0.424289</td>\n",
       "    </tr>\n",
       "    <tr>\n",
       "      <th>501</th>\n",
       "      <td>0.212949</td>\n",
       "      <td>2.322017</td>\n",
       "      <td>-1.286037</td>\n",
       "      <td>-0.469809</td>\n",
       "      <td>1.537922</td>\n",
       "      <td>-0.098157</td>\n",
       "      <td>0.775934</td>\n",
       "      <td>0.459946</td>\n",
       "    </tr>\n",
       "    <tr>\n",
       "      <th>502</th>\n",
       "      <td>0.053812</td>\n",
       "      <td>2.543002</td>\n",
       "      <td>-1.504793</td>\n",
       "      <td>-0.263976</td>\n",
       "      <td>1.525352</td>\n",
       "      <td>0.729823</td>\n",
       "      <td>0.737169</td>\n",
       "      <td>-0.240717</td>\n",
       "    </tr>\n",
       "    <tr>\n",
       "      <th>503</th>\n",
       "      <td>0.089901</td>\n",
       "      <td>2.005645</td>\n",
       "      <td>-1.130925</td>\n",
       "      <td>-0.942879</td>\n",
       "      <td>0.544493</td>\n",
       "      <td>-1.649309</td>\n",
       "      <td>-0.119709</td>\n",
       "      <td>-0.125324</td>\n",
       "    </tr>\n",
       "    <tr>\n",
       "      <th>504</th>\n",
       "      <td>2.673423</td>\n",
       "      <td>0.110068</td>\n",
       "      <td>-0.091175</td>\n",
       "      <td>-0.154845</td>\n",
       "      <td>0.265834</td>\n",
       "      <td>-0.959033</td>\n",
       "      <td>1.617030</td>\n",
       "      <td>-2.494035</td>\n",
       "    </tr>\n",
       "  </tbody>\n",
       "</table>\n",
       "</div>"
      ],
      "text/plain": [
       "            0         1         2         3         4         5         6  \\\n",
       "500 -2.148420  0.307872  0.526932  0.088112  0.324999 -0.238535 -0.432583   \n",
       "501  0.212949  2.322017 -1.286037 -0.469809  1.537922 -0.098157  0.775934   \n",
       "502  0.053812  2.543002 -1.504793 -0.263976  1.525352  0.729823  0.737169   \n",
       "503  0.089901  2.005645 -1.130925 -0.942879  0.544493 -1.649309 -0.119709   \n",
       "504  2.673423  0.110068 -0.091175 -0.154845  0.265834 -0.959033  1.617030   \n",
       "\n",
       "            7  \n",
       "500 -0.424289  \n",
       "501  0.459946  \n",
       "502 -0.240717  \n",
       "503 -0.125324  \n",
       "504 -2.494035  "
      ]
     },
     "execution_count": 11,
     "metadata": {},
     "output_type": "execute_result"
    }
   ],
   "source": [
    "table.transform(x_test).head(5)"
   ]
  },
  {
   "cell_type": "code",
   "execution_count": 12,
   "id": "9b0f5d0b",
   "metadata": {},
   "outputs": [
    {
     "data": {
      "text/plain": [
       "{0: -2.1484200045451156,\n",
       " 1: 0.30787183575981053,\n",
       " 2: 0.5269317361325148,\n",
       " 3: 0.08811175767317664,\n",
       " 4: 0.324999350738831,\n",
       " 5: -0.23853515810666273,\n",
       " 6: -0.43258341930517075,\n",
       " 7: -0.4242890049704961}"
      ]
     },
     "execution_count": 12,
     "metadata": {},
     "output_type": "execute_result"
    }
   ],
   "source": [
    "table.transform_single(input_dict)"
   ]
  },
  {
   "cell_type": "markdown",
   "id": "cebb11c7",
   "metadata": {},
   "source": [
    "备注：对于分拆后组合的pipe模块，也需要按照训练时候样子申明，然后嵌套，然后load"
   ]
  },
  {
   "cell_type": "code",
   "execution_count": null,
   "id": "c38c0844",
   "metadata": {},
   "outputs": [],
   "source": []
  }
 ],
 "metadata": {
  "kernelspec": {
   "display_name": "Python 3 (ipykernel)",
   "language": "python",
   "name": "python3"
  },
  "language_info": {
   "codemirror_mode": {
    "name": "ipython",
    "version": 3
   },
   "file_extension": ".py",
   "mimetype": "text/x-python",
   "name": "python",
   "nbconvert_exporter": "python",
   "pygments_lexer": "ipython3",
   "version": "3.7.15"
  }
 },
 "nbformat": 4,
 "nbformat_minor": 5
}
