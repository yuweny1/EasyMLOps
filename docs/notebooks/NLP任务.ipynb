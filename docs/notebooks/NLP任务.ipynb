{
 "cells": [
  {
   "cell_type": "markdown",
   "id": "6d78656e",
   "metadata": {},
   "source": [
    "# NLP任务  \n",
    "\n",
    "目前该部分的功能还不多，主要是一些数据清洗以及特征提取的模块，如下以酒店评价数据集为例做演示\n"
   ]
  },
  {
   "cell_type": "code",
   "execution_count": 1,
   "id": "736842a5",
   "metadata": {},
   "outputs": [
    {
     "name": "stdout",
     "output_type": "stream",
     "text": [
      "|      |   label | review                                                                                                                                                                                                                                                                                                                                                                                                                                                                                                                                                                                                                                                                                                                                                                                                                                                                                      |\n",
      "|-----:|--------:|:--------------------------------------------------------------------------------------------------------------------------------------------------------------------------------------------------------------------------------------------------------------------------------------------------------------------------------------------------------------------------------------------------------------------------------------------------------------------------------------------------------------------------------------------------------------------------------------------------------------------------------------------------------------------------------------------------------------------------------------------------------------------------------------------------------------------------------------------------------------------------------------------|\n",
      "| 6465 |       0 | 感觉非常不好,房间有霉味,设施太过陈旧,拧开水龙头,要等很久,才出热水                                                                                                                                                                                                                                                                                                                                                                                                                                                                                                                                                                                                                                                                                                                                                                                                                           |\n",
      "| 1433 |       1 | 酒店位置不错，作为一家准四星级的酒店，大堂比较小；房间设施虽然有点旧，但是很干净，服务很好；早餐还可以就是价格高！总的来说还是可以推荐的                                                                                                                                                                                                                                                                                                                                                                                                                                                                                                                                                                                                                                                                                                                                                    |\n",
      "| 2619 |       1 | 门卡无故被停用，无法开门，要到总台重新办理才能开门，很不方便。希望能改进。                                                                                                                                                                                                                                                                                                                                                                                                                                                                                                                                                                                                                                                                                                                                                                                                                  |\n",
      "|  223 |       1 | 非常不错的酒店已经多次入住                                                                                                                                                                                                                                                                                                                                                                                                                                                                                                                                                                                                                                                                                                                                                                                                                                                                  |\n",
      "| 3881 |       1 | 总体来说度过了一个非常愉快的周末。1。酒店的地理位置很好，一个酒店就是一座岛。通往小岛的路也是曲径通幽，路边景色很美。喜欢。2。整个酒店有个很大的特色，一进门就是道教的64八卦图，并且，在山下的石头上刻了一部道德经。3。酒店的环境很好，成片的后草皮，而且干净，随便躺躺睡睡都可以.4.酒店有自己的游船，不过价格贵，640元一条船。5。酒店的餐厅，菜味道不错，而且价格不贵，鱼头汤108/小份，但是4-5个人也够了，其他的菜大部分也都是20快左右。6.住的是9号楼的湖景房，有阳台的，真的象住在水中一样。7.有开房水果赠送，而且服务员态度也不错。见面都打招呼的，但是房间内部实在不能让人满意，可能是老5星级的关系，房间装修顶多只能算是4星，而且，9号楼没有大床，不过我们把床拼起来了，也算是个大床房。8。酒店ktv很贵，640最低消费，脚摩70/人。9.夏天的晚上，夜朗星不稀，晚上12点可以看到非常非常多的星星，而且还看到一颗流星。。。总之，个人觉得这个酒店真的不错，家庭旅游非常好。以后还会选择入住。 |\n"
     ]
    }
   ],
   "source": [
    "#加载及切割数据\n",
    "import os\n",
    "os.chdir(\"../../\")#与easymlops同级目录\n",
    "import pandas as pd\n",
    "data=pd.read_csv(\"./data/demo2.csv\",encoding=\"gbk\").sample(frac=1)\n",
    "print(data.head(5).to_markdown())"
   ]
  },
  {
   "cell_type": "code",
   "execution_count": 2,
   "id": "22ca1cd5",
   "metadata": {},
   "outputs": [
    {
     "data": {
      "text/plain": [
       "(7766, 2)"
      ]
     },
     "execution_count": 2,
     "metadata": {},
     "output_type": "execute_result"
    }
   ],
   "source": [
    "data.shape"
   ]
  },
  {
   "cell_type": "code",
   "execution_count": 3,
   "id": "d4bf68ce",
   "metadata": {},
   "outputs": [],
   "source": [
    "x_train=data[:6000]\n",
    "x_test=data[6000:]\n",
    "y_train=x_train[\"label\"]\n",
    "y_test=x_test[\"label\"]\n",
    "del x_train[\"label\"]\n",
    "del x_test[\"label\"]"
   ]
  },
  {
   "cell_type": "markdown",
   "id": "4a2c251c",
   "metadata": {},
   "source": [
    "## 文本处理\n",
    "\n",
    "### 文本清洗  \n",
    "\n",
    "- Lower：所有英文字符转小写\n",
    "- Upper：所有英文字符转大写\n",
    "- RemoveDigits：移除字符串中的所有数字  \n",
    "- ReplaceDigits：替换字符串中的所有数字为一个特殊字符`symbols=\"[d]\"`\n",
    "- RemovePunctuation：移除字符串中的所有标点符号（中英文）  \n",
    "- ReplacePunctuation：替换字符串中的所有标点符号为一个特殊字符`symbols=\"[p]\"` \n",
    "- RemoveWhitespace：移除空白字符，包括空格、指标、回车等  \n",
    "- Replace：进行字符串的局部替换（注意easymlops.table.preprocessing.Replace只支持整个字符串的替换）\n",
    "- RemoveStopWords：移除停用词，通过`stop_words=[\"a\",\"b\"...]`或`stop_words_path=xxx/stopwords.txt`(换行分割)指定\n",
    "- ExtractChineseWords：仅提取字符串中的中文字符"
   ]
  },
  {
   "cell_type": "code",
   "execution_count": 4,
   "id": "0b4ef2b3",
   "metadata": {},
   "outputs": [],
   "source": [
    "from easymlops import NLPPipeline\n",
    "from easymlops.nlp.preprocessing import *"
   ]
  },
  {
   "cell_type": "code",
   "execution_count": 5,
   "id": "ee45a50a",
   "metadata": {},
   "outputs": [
    {
     "name": "stdout",
     "output_type": "stream",
     "text": [
      "|      | review                                                                                                                                                                                                                                                                                                                                                                                                                                       |\n",
      "|-----:|:---------------------------------------------------------------------------------------------------------------------------------------------------------------------------------------------------------------------------------------------------------------------------------------------------------------------------------------------------------------------------------------------------------------------------------------------|\n",
      "| 7127 | 房间残旧天花发霉卫生间马桶冲洗不干净没有窗户排气不好以后不用钱都不去哪里住了                                                                                                                                                                                                                                                                                                                                                                 |\n",
      "| 1640 | 石家庄最好的酒店服务是非常不错的硬件由于这个城市的原因所以也没有办法挑什么但是非常可惜这个可是在省会的城市啊省会的城市不应该这样吧星里面不如旗下的                                                                                                                                                                                                                                                                                           |\n",
      "| 7113 | 这个酒店的前身听别人说是乐山驻成都的招待所现在改成酒店了房间里面的设施不好我定的是单人间居然要穿过他们的前台在后面的一栋单独的楼上去经过的时候看见那个院子里还有一些别的什么公司而且还没有电梯要自己上楼梯早餐点就结束了临走的时候要求打印水单前台人员说是打印机坏了没有办法打印单位要求拿水单和发票报销郁闷服务人员也是好像忙得不行的样子根本就谈不上什么服务质量的高低了他们的房卡也坏了房间还是服务员帮着开的门一句话别住在这里自寻烦恼了 |\n",
      "| 5536 | 建议携程不要和这家酒店合作名曰三星要我看准星级都勉强首先不在市区里面去涵江区打车还要块钱当然你能打到的话在一条前不着村后不着店的公路旁交通极其不便其次一进入酒店就一股霉味地毯上到处都是污渍很像地图最不能容忍的是有很多小虫子到处乱爬我正好赶上台风没有办法只能在那住要不我不敢保证还会住那里                                                                                                                                               |\n",
      "| 5288 | 很实惠就是不灵活安排希望能更加进步下次去还到这里                                                                                                                                                                                                                                                                                                                                                                                             |\n"
     ]
    }
   ],
   "source": [
    "nlp=NLPPipeline()\n",
    "nlp.pipe(Lower())\\\n",
    "   .pipe(Upper())\\\n",
    "   .pipe(RemoveDigits())\\\n",
    "   .pipe(RemovePunctuation())\\\n",
    "   .pipe(RemoveWhitespace())\\\n",
    "   .pipe(RemoveStopWords(stop_words=[\"的\",\"你\",\"我\",\"得\",\"其他\"]))\\\n",
    "   .pipe(ExtractChineseWords())\n",
    "\n",
    "x_test_new=nlp.fit(x_train).transform(x_test)\n",
    "print(x_test_new.head(5).to_markdown())"
   ]
  },
  {
   "cell_type": "markdown",
   "id": "a1af87fb",
   "metadata": {},
   "source": [
    "### 中文分词\n",
    "- ExtractJieBaWords：目前只支持jieba分词，分词结果默认以空格分割   \n",
    "\n",
    "注意，需要安装：`pip install jieba`"
   ]
  },
  {
   "cell_type": "code",
   "execution_count": 6,
   "id": "5730ea83",
   "metadata": {},
   "outputs": [
    {
     "name": "stdout",
     "output_type": "stream",
     "text": [
      "|      | review                                                                                                                                                                                                                                                                                                                                                                                                                                                                                                                                                                    |\n",
      "|-----:|:--------------------------------------------------------------------------------------------------------------------------------------------------------------------------------------------------------------------------------------------------------------------------------------------------------------------------------------------------------------------------------------------------------------------------------------------------------------------------------------------------------------------------------------------------------------------------|\n",
      "| 7127 | 房间 残旧 天花 发霉 卫生间 马桶 冲洗 不 干净 没有 窗户 排气 不好 以后 不用 钱 都 不 去 哪里 住 了                                                                                                                                                                                                                                                                                                                                                                                                                                                                         |\n",
      "| 1640 | 石家庄 最好 的 酒店 服务 是 非常 不错 的 硬件 由于 这个 城市 的 原因 所以 也 没有 办法 挑 什么 但是 非常 可惜 这个 可是 在 省会 的 城市 啊 省会 的 城市 不 应该 这样 吧 星 里面 不如 旗下 的                                                                                                                                                                                                                                                                                                                                                                              |\n",
      "| 7113 | 这个 酒店 的 前身 听 别人 说 是 乐山 驻 成都 的 招待所 现在 改成 酒店 了 房间 里面 的 设施 不好 我定 的 是 单人间 居然 要 穿过 他们 的 前台 在 后面 的 一栋 单独 的 楼上 去 经过 的 时候 看见 那个 院子 里 还有 一些 别的 什么 公司 而且 还 没有 电梯 要 自己 上 楼梯 早餐 点 就 结束 了 临走 的 时候 要求 打印 水单 前台 人员 说 是 打印机 坏 了 没有 办法 打印 单位 要求 拿水单 和 发票 报销 郁闷 服务 人员 也 是 好像 忙 得 不行 的 样子 根本 就 谈不上 什么 服务质量 的 高低 了 他们 的 房卡 也 坏 了 房间 还是 服务员 帮着 开 的 门 一句 话别 住 在 这里 自寻烦恼 了 |\n",
      "| 5536 | 建议 携程 不要 和 这家 酒店 合作 名曰 三星 要 我 看准 星级 都 勉强 首先 不 在 市区 里面 去 涵江区 打车 还要 块钱 当然 你 能 打 到 的话 在 一条 前 不 着 村 后不着店 的 公路 旁 交通 极其 不便 其次 一 进入 酒店 就 一股 霉味 地毯 上 到处 都 是 污渍 很 像 地图 最 不能容忍 的 是 有 很多 小虫子 到处 乱 爬 我 正好 赶上 台风 没有 办法 只能 在 那 住 要 不 我 不敢 保证 还会 住 那里                                                                                                                                                                                     |\n",
      "| 5288 | 很 实惠 就是 不 灵活 安排 希望 能 更加 进步 下次 去 还 到 这里                                                                                                                                                                                                                                                                                                                                                                                                                                                                                                            |\n"
     ]
    }
   ],
   "source": [
    "nlp=NLPPipeline()\n",
    "nlp.pipe(ExtractChineseWords())\\\n",
    "   .pipe(ExtractJieBaWords())\n",
    "\n",
    "x_test_new=nlp.fit(x_train).transform(x_test)\n",
    "print(x_test_new.head(5).to_markdown())"
   ]
  },
  {
   "cell_type": "markdown",
   "id": "81f1c186",
   "metadata": {},
   "source": [
    "### 关键词抽取\n",
    "- ExtractKeyWords：抽取`key_words=[\"kw1\",\"kw2\"]`或`key_words_path=xxx/keyword.txt`指定的关键词；  \n",
    "- AppendKeyWords：将抽取的关键词拼接到原文后面  \n",
    "\n",
    "注意，这里需要`pip install pyahocorasick`"
   ]
  },
  {
   "cell_type": "code",
   "execution_count": 8,
   "id": "15e65e75",
   "metadata": {},
   "outputs": [
    {
     "name": "stdout",
     "output_type": "stream",
     "text": [
      "|      | review                             |\n",
      "|-----:|:-----------------------------------|\n",
      "| 7127 | 房间 卫生                          |\n",
      "| 1640 | 酒店                               |\n",
      "| 7113 | 酒店 酒店 房间 前台 早餐 前台 房间 |\n",
      "| 5536 | 携程 酒店 交通 酒店                |\n",
      "| 5288 | 实惠                               |\n"
     ]
    }
   ],
   "source": [
    "nlp=NLPPipeline()\n",
    "nlp.pipe(ExtractKeyWords(key_words=[\"大堂\",\"环境\",\"交通\",\"酒店\",\"空气\",\"嘉宾\",\"国际\",\"免费\",\"早餐\",\"宽带\",\"前台\",\"实惠\",\"携程\",\"房间\",\"卫生\"]))\n",
    "\n",
    "x_test_new=nlp.fit(x_train).transform(x_test)\n",
    "print(x_test_new.head(5).to_markdown())"
   ]
  },
  {
   "cell_type": "markdown",
   "id": "1b0d32e8",
   "metadata": {},
   "source": [
    "### 提取N-gram\n",
    "- ExtractNGramWords，通过设置`n_grams=[1,2,3]`以支持2-gram,3-gram的拼接"
   ]
  },
  {
   "cell_type": "code",
   "execution_count": 10,
   "id": "a533dd06",
   "metadata": {},
   "outputs": [
    {
     "name": "stdout",
     "output_type": "stream",
     "text": [
      "|      | review                                                |\n",
      "|-----:|:------------------------------------------------------|\n",
      "| 7127 | 房间卫生                                              |\n",
      "| 1640 | 酒店                                                  |\n",
      "| 7113 | 酒店酒店 酒店房间 房间前台 前台早餐 早餐前台 前台房间 |\n",
      "| 5536 | 携程酒店 酒店交通 交通酒店                            |\n",
      "| 5288 | 实惠                                                  |\n"
     ]
    }
   ],
   "source": [
    "nlp=NLPPipeline()\n",
    "nlp.pipe(ExtractKeyWords(key_words=[\"大堂\",\"环境\",\"交通\",\"酒店\",\"空气\",\"嘉宾\",\"国际\",\"免费\",\"早餐\",\"宽带\",\"前台\",\"实惠\",\"携程\",\"房间\",\"卫生\"]))\\\n",
    "   .pipe(ExtractNGramWords(n_grams=[2]))\n",
    "\n",
    "x_test_new=nlp.fit(x_train).transform(x_test)\n",
    "print(x_test_new.head(5).to_markdown())"
   ]
  },
  {
   "cell_type": "markdown",
   "id": "1b1f8247",
   "metadata": {},
   "source": [
    "## 文本特征提取\n",
    "\n",
    "主要三类特征  \n",
    "- bow/tfidf等常用特征  \n",
    "- lsi/lda等主题模型特征  \n",
    "- fastext/word2vec/doc2vec等词向量特征\n",
    "\n",
    "这些pipe模块的前置模块即是前面的文本处理结果，**注意：处理号的token要求空格分割**\n",
    "\n",
    "### Bag-of-Words特征提取 "
   ]
  },
  {
   "cell_type": "code",
   "execution_count": 5,
   "id": "5f699f6a",
   "metadata": {},
   "outputs": [],
   "source": [
    "from easymlops.nlp.representation import *"
   ]
  },
  {
   "cell_type": "code",
   "execution_count": 12,
   "id": "0ff89bcc",
   "metadata": {},
   "outputs": [
    {
     "name": "stdout",
     "output_type": "stream",
     "text": [
      "|      |   bag_review_ |   bag_review_一 |   bag_review_一一 |   bag_review_一一列举 |   bag_review_一丁点 |   bag_review_一上 |   bag_review_一上午 |   bag_review_一下 |   bag_review_一下下 |   bag_review_一下子 |\n",
      "|-----:|--------------:|----------------:|------------------:|----------------------:|--------------------:|------------------:|--------------------:|------------------:|--------------------:|--------------------:|\n",
      "| 7127 |             0 |               0 |                 0 |                     0 |                   0 |                 0 |                   0 |                 0 |                   0 |                   0 |\n",
      "| 1640 |             0 |               0 |                 0 |                     0 |                   0 |                 0 |                   0 |                 0 |                   0 |                   0 |\n",
      "| 7113 |             0 |               0 |                 0 |                     0 |                   0 |                 0 |                   0 |                 0 |                   0 |                   0 |\n",
      "| 5536 |             0 |               1 |                 0 |                     0 |                   0 |                 0 |                   0 |                 0 |                   0 |                   0 |\n",
      "| 5288 |             0 |               0 |                 0 |                     0 |                   0 |                 0 |                   0 |                 0 |                   0 |                   0 |\n"
     ]
    }
   ],
   "source": [
    "nlp=NLPPipeline()\n",
    "nlp.pipe(ExtractChineseWords())\\\n",
    "   .pipe(ExtractJieBaWords())\\\n",
    "   .pipe(BagOfWords())\n",
    "\n",
    "x_test_new=nlp.fit(x_train).transform(x_test)\n",
    "#选择前10个columns展示\n",
    "top_10_cols=x_test_new.columns.tolist()[:10]\n",
    "print(x_test_new[top_10_cols].head(5).to_markdown())"
   ]
  },
  {
   "cell_type": "markdown",
   "id": "2b66402b",
   "metadata": {},
   "source": [
    "### TFIDF特征提取"
   ]
  },
  {
   "cell_type": "code",
   "execution_count": 13,
   "id": "1fe2e999",
   "metadata": {},
   "outputs": [
    {
     "name": "stdout",
     "output_type": "stream",
     "text": [
      "|      |   tfidf_review_ |   tfidf_review_一 |   tfidf_review_一一 |   tfidf_review_一一列举 |   tfidf_review_一丁点 |   tfidf_review_一上 |   tfidf_review_一上午 |   tfidf_review_一下 |   tfidf_review_一下下 |   tfidf_review_一下子 |\n",
      "|-----:|----------------:|------------------:|--------------------:|------------------------:|----------------------:|--------------------:|----------------------:|--------------------:|----------------------:|----------------------:|\n",
      "| 7127 |               0 |         0         |                   0 |                       0 |                     0 |                   0 |                     0 |                   0 |                     0 |                     0 |\n",
      "| 1640 |               0 |         0         |                   0 |                       0 |                     0 |                   0 |                     0 |                   0 |                     0 |                     0 |\n",
      "| 7113 |               0 |         0         |                   0 |                       0 |                     0 |                   0 |                     0 |                   0 |                     0 |                     0 |\n",
      "| 5536 |               0 |         0.0870994 |                   0 |                       0 |                     0 |                   0 |                     0 |                   0 |                     0 |                     0 |\n",
      "| 5288 |               0 |         0         |                   0 |                       0 |                     0 |                   0 |                     0 |                   0 |                     0 |                     0 |\n"
     ]
    }
   ],
   "source": [
    "nlp=NLPPipeline()\n",
    "nlp.pipe(ExtractChineseWords())\\\n",
    "   .pipe(ExtractJieBaWords())\\\n",
    "   .pipe(TFIDF())\n",
    "\n",
    "x_test_new=nlp.fit(x_train).transform(x_test)\n",
    "#选择前10个columns展示\n",
    "top_10_cols=x_test_new.columns.tolist()[:10]\n",
    "print(x_test_new[top_10_cols].head(5).to_markdown())"
   ]
  },
  {
   "cell_type": "markdown",
   "id": "227fff9c",
   "metadata": {},
   "source": [
    "### LDA主题特征提取  \n",
    "这里需要`pip install gensim`"
   ]
  },
  {
   "cell_type": "code",
   "execution_count": 14,
   "id": "f7a5e528",
   "metadata": {},
   "outputs": [
    {
     "name": "stdout",
     "output_type": "stream",
     "text": [
      "|      |   lda_review_0 |   lda_review_1 |   lda_review_2 |   lda_review_3 |   lda_review_4 |   lda_review_5 |   lda_review_6 |   lda_review_7 |   lda_review_8 |   lda_review_9 |\n",
      "|-----:|---------------:|---------------:|---------------:|---------------:|---------------:|---------------:|---------------:|---------------:|---------------:|---------------:|\n",
      "| 7127 |      0         |              0 |      0         |       0        |              0 |       0.727733 |              0 |       0.234104 |              0 |              0 |\n",
      "| 1640 |      0.978557  |              0 |      0         |       0        |              0 |       0        |              0 |       0        |              0 |              0 |\n",
      "| 7113 |      0.10456   |              0 |      0.114921  |       0        |              0 |       0.650086 |              0 |       0.125424 |              0 |              0 |\n",
      "| 5536 |      0.0856321 |              0 |      0.0525631 |       0.175759 |              0 |       0.678907 |              0 |       0        |              0 |              0 |\n",
      "| 5288 |      0.614322  |              0 |      0         |       0.332316 |              0 |       0        |              0 |       0        |              0 |              0 |\n"
     ]
    }
   ],
   "source": [
    "nlp=NLPPipeline()\n",
    "nlp.pipe(ExtractChineseWords())\\\n",
    "   .pipe(ExtractJieBaWords())\\\n",
    "   .pipe(LdaTopicModel(num_topics=10))\n",
    "\n",
    "x_test_new=nlp.fit(x_train).transform(x_test)\n",
    "print(x_test_new.head(5).to_markdown())"
   ]
  },
  {
   "cell_type": "markdown",
   "id": "0fd11f0f",
   "metadata": {},
   "source": [
    "### LSI主题特征提取"
   ]
  },
  {
   "cell_type": "code",
   "execution_count": 15,
   "id": "1fb7b82b",
   "metadata": {},
   "outputs": [
    {
     "name": "stdout",
     "output_type": "stream",
     "text": [
      "|      |   lsi_review_0 |   lsi_review_1 |   lsi_review_2 |   lsi_review_3 |   lsi_review_4 |   lsi_review_5 |   lsi_review_6 |   lsi_review_7 |   lsi_review_8 |   lsi_review_9 |\n",
      "|-----:|---------------:|---------------:|---------------:|---------------:|---------------:|---------------:|---------------:|---------------:|---------------:|---------------:|\n",
      "| 7127 |       0.858575 |     -0.70027   |      -0.843685 |     -0.0668491 |     -0.693314  |       0.441741 |    -0.183873   |    -1.17893    |      0.0851453 |      0.755182  |\n",
      "| 1640 |       5.86927  |      2.11575   |       1.06398  |     -0.622473  |      0.598806  |       0.715508 |     0.508536   |     0.0282597  |     -0.622821  |     -0.417345  |\n",
      "| 7113 |      15.1899   |      0.261911  |       1.16639  |     -1.48284   |     -3.16782   |       2.59123  |     0.287749   |     0.206293   |      0.414483  |     -0.272836  |\n",
      "| 5536 |       4.78021  |     -1.56075   |      -0.927984 |      0.797013  |      2.27539   |       0.571027 |    -1.32656    |    -0.321795   |     -2.60123   |      2.62209   |\n",
      "| 5288 |       0.448427 |      0.0689611 |      -0.970707 |     -0.122688  |      0.0200293 |      -0.358036 |     0.00373121 |    -0.00259268 |     -0.398738  |      0.0671273 |\n"
     ]
    }
   ],
   "source": [
    "nlp=NLPPipeline()\n",
    "nlp.pipe(ExtractChineseWords())\\\n",
    "   .pipe(ExtractJieBaWords())\\\n",
    "   .pipe(LsiTopicModel(num_topics=10))\n",
    "\n",
    "x_test_new=nlp.fit(x_train).transform(x_test)\n",
    "print(x_test_new.head(5).to_markdown())"
   ]
  },
  {
   "cell_type": "markdown",
   "id": "7f0327bd",
   "metadata": {},
   "source": [
    "### Word2Vec词向量特征\n",
    "这里的文档特征是每个token词向量的平均值"
   ]
  },
  {
   "cell_type": "code",
   "execution_count": 17,
   "id": "49afbfd3",
   "metadata": {},
   "outputs": [
    {
     "name": "stdout",
     "output_type": "stream",
     "text": [
      "|      |   w2v_review_0 |   w2v_review_1 |   w2v_review_2 |   w2v_review_3 |   w2v_review_4 |   w2v_review_5 |   w2v_review_6 |   w2v_review_7 |   w2v_review_8 |   w2v_review_9 |\n",
      "|-----:|---------------:|---------------:|---------------:|---------------:|---------------:|---------------:|---------------:|---------------:|---------------:|---------------:|\n",
      "| 7127 |      0.149905  |      0.539101  |       1.61803  |     -0.520869  |       1.28348  |       0.269167 |        1.7893  |       0.367624 |      -1.05573  |       0.292887 |\n",
      "| 1640 |     -0.535773  |     -0.0151048 |       0.963358 |     -0.186407  |       1.03127  |       0.170625 |        1.876   |       1.2312   |      -0.72744  |      -0.37903  |\n",
      "| 7113 |     -0.0289475 |      0.477569  |       1.1908   |     -0.092565  |       0.66135  |       0.250403 |        1.34142 |       0.445295 |      -1.55385  |      -0.128968 |\n",
      "| 5536 |      0.0400489 |     -0.0727166 |       1.32027  |     -0.0587338 |       0.402637 |       0.17381  |        1.89048 |       0.274273 |      -1.19714  |      -0.369206 |\n",
      "| 5288 |      0.147199  |     -0.914351  |       1.11222  |     -0.544475  |      -0.153332 |      -0.312194 |        2.58658 |       0.844455 |      -0.930132 |       0.34616  |\n"
     ]
    }
   ],
   "source": [
    "nlp=NLPPipeline()\n",
    "nlp.pipe(ExtractChineseWords())\\\n",
    "   .pipe(ExtractJieBaWords())\\\n",
    "   .pipe(Word2VecModel(embedding_size=10))\n",
    "\n",
    "x_test_new=nlp.fit(x_train).transform(x_test)\n",
    "print(x_test_new.head(5).to_markdown())"
   ]
  },
  {
   "cell_type": "markdown",
   "id": "334b0982",
   "metadata": {},
   "source": [
    "### Doc2Vec文档向量"
   ]
  },
  {
   "cell_type": "code",
   "execution_count": 18,
   "id": "07e591a2",
   "metadata": {},
   "outputs": [
    {
     "name": "stdout",
     "output_type": "stream",
     "text": [
      "|      |   d2v_review_0 |   d2v_review_1 |   d2v_review_2 |   d2v_review_3 |   d2v_review_4 |   d2v_review_5 |   d2v_review_6 |   d2v_review_7 |   d2v_review_8 |   d2v_review_9 |\n",
      "|-----:|---------------:|---------------:|---------------:|---------------:|---------------:|---------------:|---------------:|---------------:|---------------:|---------------:|\n",
      "| 7127 |      0.0991587 |    -0.0109045  |     0.0790115  |     -0.0498847 |      0.0956094 |      0.0109559 |       0.214567 |      -0.152318 |      -0.172422 |     0.0982961  |\n",
      "| 1640 |      0.187836  |    -0.0663459  |     0.0911619  |      0.0199243 |      0.431156  |     -0.107956  |       0.714324 |       0.138839 |      -0.324371 |    -0.132915   |\n",
      "| 7113 |     -0.207934  |     0.205402   |     0.176139   |     -0.291981  |      0.407413  |     -0.0131239 |       0.731769 |      -0.439703 |      -0.656194 |     0.00921523 |\n",
      "| 5536 |      0.441469  |    -0.0213459  |    -0.00080414 |      0.297836  |      0.456871  |     -0.278487  |       0.258496 |      -0.22986  |      -0.17897  |     0.0631988  |\n",
      "| 5288 |      0.26423   |    -0.00279085 |     0.132275   |     -0.0238498 |      0.0906615 |     -0.154652  |       0.16212  |       0.213439 |      -0.16477  |    -0.00957786 |\n"
     ]
    }
   ],
   "source": [
    "nlp=NLPPipeline()\n",
    "nlp.pipe(ExtractChineseWords())\\\n",
    "   .pipe(ExtractJieBaWords())\\\n",
    "   .pipe(Doc2VecModel(embedding_size=10))\n",
    "\n",
    "x_test_new=nlp.fit(x_train).transform(x_test)\n",
    "print(x_test_new.head(5).to_markdown())"
   ]
  },
  {
   "cell_type": "markdown",
   "id": "928fe768",
   "metadata": {},
   "source": [
    "### FastText词向量"
   ]
  },
  {
   "cell_type": "code",
   "execution_count": 19,
   "id": "93e27be3",
   "metadata": {},
   "outputs": [
    {
     "name": "stdout",
     "output_type": "stream",
     "text": [
      "|      |   fasttext_review_0 |   fasttext_review_1 |   fasttext_review_2 |   fasttext_review_3 |   fasttext_review_4 |   fasttext_review_5 |   fasttext_review_6 |   fasttext_review_7 |   fasttext_review_8 |   fasttext_review_9 |\n",
      "|-----:|--------------------:|--------------------:|--------------------:|--------------------:|--------------------:|--------------------:|--------------------:|--------------------:|--------------------:|--------------------:|\n",
      "| 7127 |           -0.289566 |           0.158579  |             1.77409 |           -0.214785 |          -0.452001  |          -0.945153  |            1.59104  |           0.0912326 |           -0.832337 |           -0.387233 |\n",
      "| 1640 |           -0.717482 |           0.0832835 |             1.49416 |            0.726315 |           0.0506884 |          -1.04302   |            1.60123  |           0.863163  |           -0.638874 |           -0.672286 |\n",
      "| 7113 |           -0.583676 |          -0.0858972 |             1.80547 |           -0.294098 |          -0.330605  |          -1.14284   |            0.979384 |           0.243881  |           -0.981069 |           -0.53791  |\n",
      "| 5536 |           -0.600507 |          -0.614163  |             1.97067 |            0.152928 |          -0.555457  |          -0.833012  |            1.12409  |           0.150353  |           -0.62357  |           -0.688771 |\n",
      "| 5288 |           -0.422559 |          -0.517089  |             2.20643 |            0.42231  |          -0.936419  |           0.0781822 |            2.01152  |           0.892577  |           -0.173849 |           -0.892289 |\n"
     ]
    }
   ],
   "source": [
    "nlp=NLPPipeline()\n",
    "nlp.pipe(ExtractChineseWords())\\\n",
    "   .pipe(ExtractJieBaWords())\\\n",
    "   .pipe(FastTextModel(embedding_size=10))\n",
    "\n",
    "x_test_new=nlp.fit(x_train).transform(x_test)\n",
    "print(x_test_new.head(5).to_markdown())"
   ]
  },
  {
   "cell_type": "markdown",
   "id": "bff007c5",
   "metadata": {},
   "source": [
    "## 文本分类\n",
    "借助于table中的分类器，可以做文本分类任务了"
   ]
  },
  {
   "cell_type": "code",
   "execution_count": 6,
   "id": "8e56f5f6",
   "metadata": {},
   "outputs": [],
   "source": [
    "from easymlops.table.classification import LGBMClassification"
   ]
  },
  {
   "cell_type": "code",
   "execution_count": 7,
   "id": "66d60074",
   "metadata": {},
   "outputs": [
    {
     "name": "stdout",
     "output_type": "stream",
     "text": [
      "|      |        1 |          0 |\n",
      "|-----:|---------:|-----------:|\n",
      "| 1000 | 0.986622 | 0.0133777  |\n",
      "| 5291 | 0.934425 | 0.0655745  |\n",
      "| 3134 | 0.227386 | 0.772614   |\n",
      "| 4607 | 0.990448 | 0.00955158 |\n",
      "| 3677 | 0.954822 | 0.0451778  |\n"
     ]
    }
   ],
   "source": [
    "nlp=NLPPipeline()\n",
    "nlp.pipe(ExtractChineseWords())\\\n",
    "   .pipe(ExtractJieBaWords())\\\n",
    "   .pipe(BagOfWords())\\\n",
    "   .pipe(LGBMClassification(y=y_train))\n",
    "\n",
    "x_test_new=nlp.fit(x_train).transform(x_test)\n",
    "print(x_test_new.head(5).to_markdown())"
   ]
  },
  {
   "cell_type": "code",
   "execution_count": null,
   "id": "c4e89229",
   "metadata": {},
   "outputs": [],
   "source": []
  }
 ],
 "metadata": {
  "kernelspec": {
   "display_name": "Python 3 (ipykernel)",
   "language": "python",
   "name": "python3"
  },
  "language_info": {
   "codemirror_mode": {
    "name": "ipython",
    "version": 3
   },
   "file_extension": ".py",
   "mimetype": "text/x-python",
   "name": "python",
   "nbconvert_exporter": "python",
   "pygments_lexer": "ipython3",
   "version": "3.7.15"
  }
 },
 "nbformat": 4,
 "nbformat_minor": 5
}
