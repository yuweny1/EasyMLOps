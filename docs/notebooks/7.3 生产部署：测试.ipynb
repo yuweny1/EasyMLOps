{
 "cells": [
  {
   "cell_type": "code",
   "execution_count": 1,
   "id": "c93665f7",
   "metadata": {},
   "outputs": [],
   "source": [
    "import os\n",
    "os.chdir(\"../../\")#与easymlops同级目录"
   ]
  },
  {
   "cell_type": "markdown",
   "id": "bd3e93fb",
   "metadata": {},
   "source": [
    "### 拆分数据"
   ]
  },
  {
   "cell_type": "code",
   "execution_count": 2,
   "id": "ca555fd6",
   "metadata": {},
   "outputs": [
    {
     "data": {
      "text/html": [
       "<div>\n",
       "<style scoped>\n",
       "    .dataframe tbody tr th:only-of-type {\n",
       "        vertical-align: middle;\n",
       "    }\n",
       "\n",
       "    .dataframe tbody tr th {\n",
       "        vertical-align: top;\n",
       "    }\n",
       "\n",
       "    .dataframe thead th {\n",
       "        text-align: right;\n",
       "    }\n",
       "</style>\n",
       "<table border=\"1\" class=\"dataframe\">\n",
       "  <thead>\n",
       "    <tr style=\"text-align: right;\">\n",
       "      <th></th>\n",
       "      <th>PassengerId</th>\n",
       "      <th>Survived</th>\n",
       "      <th>Pclass</th>\n",
       "      <th>Name</th>\n",
       "      <th>Sex</th>\n",
       "      <th>Age</th>\n",
       "      <th>SibSp</th>\n",
       "      <th>Parch</th>\n",
       "      <th>Ticket</th>\n",
       "      <th>Fare</th>\n",
       "      <th>Cabin</th>\n",
       "      <th>Embarked</th>\n",
       "    </tr>\n",
       "  </thead>\n",
       "  <tbody>\n",
       "    <tr>\n",
       "      <th>0</th>\n",
       "      <td>1</td>\n",
       "      <td>0</td>\n",
       "      <td>3</td>\n",
       "      <td>Braund, Mr. Owen Harris</td>\n",
       "      <td>male</td>\n",
       "      <td>22.0</td>\n",
       "      <td>1</td>\n",
       "      <td>0</td>\n",
       "      <td>A/5 21171</td>\n",
       "      <td>7.2500</td>\n",
       "      <td>NaN</td>\n",
       "      <td>S</td>\n",
       "    </tr>\n",
       "    <tr>\n",
       "      <th>1</th>\n",
       "      <td>2</td>\n",
       "      <td>1</td>\n",
       "      <td>1</td>\n",
       "      <td>Cumings, Mrs. John Bradley (Florence Briggs Th...</td>\n",
       "      <td>female</td>\n",
       "      <td>38.0</td>\n",
       "      <td>1</td>\n",
       "      <td>0</td>\n",
       "      <td>PC 17599</td>\n",
       "      <td>71.2833</td>\n",
       "      <td>C85</td>\n",
       "      <td>C</td>\n",
       "    </tr>\n",
       "    <tr>\n",
       "      <th>2</th>\n",
       "      <td>3</td>\n",
       "      <td>1</td>\n",
       "      <td>3</td>\n",
       "      <td>Heikkinen, Miss. Laina</td>\n",
       "      <td>female</td>\n",
       "      <td>26.0</td>\n",
       "      <td>0</td>\n",
       "      <td>0</td>\n",
       "      <td>STON/O2. 3101282</td>\n",
       "      <td>7.9250</td>\n",
       "      <td>NaN</td>\n",
       "      <td>S</td>\n",
       "    </tr>\n",
       "    <tr>\n",
       "      <th>3</th>\n",
       "      <td>4</td>\n",
       "      <td>1</td>\n",
       "      <td>1</td>\n",
       "      <td>Futrelle, Mrs. Jacques Heath (Lily May Peel)</td>\n",
       "      <td>female</td>\n",
       "      <td>35.0</td>\n",
       "      <td>1</td>\n",
       "      <td>0</td>\n",
       "      <td>113803</td>\n",
       "      <td>53.1000</td>\n",
       "      <td>C123</td>\n",
       "      <td>S</td>\n",
       "    </tr>\n",
       "    <tr>\n",
       "      <th>4</th>\n",
       "      <td>5</td>\n",
       "      <td>0</td>\n",
       "      <td>3</td>\n",
       "      <td>Allen, Mr. William Henry</td>\n",
       "      <td>male</td>\n",
       "      <td>35.0</td>\n",
       "      <td>0</td>\n",
       "      <td>0</td>\n",
       "      <td>373450</td>\n",
       "      <td>8.0500</td>\n",
       "      <td>NaN</td>\n",
       "      <td>S</td>\n",
       "    </tr>\n",
       "  </tbody>\n",
       "</table>\n",
       "</div>"
      ],
      "text/plain": [
       "   PassengerId  Survived  Pclass  \\\n",
       "0            1         0       3   \n",
       "1            2         1       1   \n",
       "2            3         1       3   \n",
       "3            4         1       1   \n",
       "4            5         0       3   \n",
       "\n",
       "                                                Name     Sex   Age  SibSp  \\\n",
       "0                            Braund, Mr. Owen Harris    male  22.0      1   \n",
       "1  Cumings, Mrs. John Bradley (Florence Briggs Th...  female  38.0      1   \n",
       "2                             Heikkinen, Miss. Laina  female  26.0      0   \n",
       "3       Futrelle, Mrs. Jacques Heath (Lily May Peel)  female  35.0      1   \n",
       "4                           Allen, Mr. William Henry    male  35.0      0   \n",
       "\n",
       "   Parch            Ticket     Fare Cabin Embarked  \n",
       "0      0         A/5 21171   7.2500   NaN        S  \n",
       "1      0          PC 17599  71.2833   C85        C  \n",
       "2      0  STON/O2. 3101282   7.9250   NaN        S  \n",
       "3      0            113803  53.1000  C123        S  \n",
       "4      0            373450   8.0500   NaN        S  "
      ]
     },
     "execution_count": 2,
     "metadata": {},
     "output_type": "execute_result"
    }
   ],
   "source": [
    "import pandas as pd\n",
    "data=pd.read_csv(\"./data/demo.csv\")\n",
    "data.head(5)"
   ]
  },
  {
   "cell_type": "code",
   "execution_count": 3,
   "id": "d35f74b1",
   "metadata": {},
   "outputs": [],
   "source": [
    "x_train=data[:500]\n",
    "x_test=data[500:]\n",
    "y_train=x_train[\"Survived\"]\n",
    "y_test=x_test[\"Survived\"]\n",
    "del x_train[\"Survived\"]\n",
    "del x_test[\"Survived\"]"
   ]
  },
  {
   "cell_type": "markdown",
   "id": "caa3c742",
   "metadata": {},
   "source": [
    "### 简单跑一个模型"
   ]
  },
  {
   "cell_type": "code",
   "execution_count": 12,
   "id": "f1f39f5d",
   "metadata": {},
   "outputs": [],
   "source": [
    "from easymlops import TablePipeLine\n",
    "from easymlops.table.preprocessing import *\n",
    "from easymlops.table.encoding import *\n",
    "from easymlops.table.classification import *"
   ]
  },
  {
   "cell_type": "code",
   "execution_count": 13,
   "id": "6ca17dea",
   "metadata": {},
   "outputs": [
    {
     "data": {
      "text/html": [
       "<div>\n",
       "<style scoped>\n",
       "    .dataframe tbody tr th:only-of-type {\n",
       "        vertical-align: middle;\n",
       "    }\n",
       "\n",
       "    .dataframe tbody tr th {\n",
       "        vertical-align: top;\n",
       "    }\n",
       "\n",
       "    .dataframe thead th {\n",
       "        text-align: right;\n",
       "    }\n",
       "</style>\n",
       "<table border=\"1\" class=\"dataframe\">\n",
       "  <thead>\n",
       "    <tr style=\"text-align: right;\">\n",
       "      <th></th>\n",
       "      <th>0</th>\n",
       "      <th>1</th>\n",
       "    </tr>\n",
       "  </thead>\n",
       "  <tbody>\n",
       "    <tr>\n",
       "      <th>500</th>\n",
       "      <td>0.923326</td>\n",
       "      <td>0.076674</td>\n",
       "    </tr>\n",
       "    <tr>\n",
       "      <th>501</th>\n",
       "      <td>0.373652</td>\n",
       "      <td>0.626348</td>\n",
       "    </tr>\n",
       "    <tr>\n",
       "      <th>502</th>\n",
       "      <td>0.378380</td>\n",
       "      <td>0.621620</td>\n",
       "    </tr>\n",
       "    <tr>\n",
       "      <th>503</th>\n",
       "      <td>0.670166</td>\n",
       "      <td>0.329834</td>\n",
       "    </tr>\n",
       "    <tr>\n",
       "      <th>504</th>\n",
       "      <td>0.068470</td>\n",
       "      <td>0.931530</td>\n",
       "    </tr>\n",
       "  </tbody>\n",
       "</table>\n",
       "</div>"
      ],
      "text/plain": [
       "            0         1\n",
       "500  0.923326  0.076674\n",
       "501  0.373652  0.626348\n",
       "502  0.378380  0.621620\n",
       "503  0.670166  0.329834\n",
       "504  0.068470  0.931530"
      ]
     },
     "execution_count": 13,
     "metadata": {},
     "output_type": "execute_result"
    }
   ],
   "source": [
    "table=TablePipeLine()\n",
    "table.pipe(FixInput())\\\n",
    "  .pipe(FillNa())\\\n",
    "  .pipe(OneHotEncoding(cols=[\"Pclass\", \"Sex\"], drop_col=False)) \\\n",
    "  .pipe(WOEEncoding(cols=[\"Ticket\", \"Embarked\", \"Cabin\", \"Sex\", \"Pclass\"], y=y_train)) \\\n",
    "  .pipe(LabelEncoding(cols=[\"Name\"]))\\\n",
    "  .pipe(LGBMClassification(y=y_train,native_init_params={\"max_depth\":2},native_fit_params={\"num_boost_round\":128}))\n",
    "\n",
    "x_test_new=table.fit(x_train).transform(x_test)\n",
    "x_test_new.head(5)"
   ]
  },
  {
   "cell_type": "markdown",
   "id": "dac6237f",
   "metadata": {},
   "source": [
    "### transform/transform_single一致性测试&性能测试:check_transform_function\n",
    "部署生产环境之前，我们通常要关注两点：  \n",
    "- 离线训练模型和在线预测模型的一致性，即tranform和transform_single的一致性；  \n",
    "- transform_single对当条数据的预测性能  \n",
    "\n",
    "这些可以通过调用如下函数，进行自动化测试：  \n",
    "- check_transform_function：只要有打印complete，则表示在当前测试数据上transform和transform_single的输出一致，性能测试表示为speed:[*]毫秒/每条数据，以及运行过程中cpu的最大使用率和内存变化(最大内存-最小内存)，如果有异常则会直接抛出，并中断后续pipe模块的测试"
   ]
  },
  {
   "cell_type": "code",
   "execution_count": 15,
   "id": "6610c334",
   "metadata": {},
   "outputs": [
    {
     "name": "stdout",
     "output_type": "stream",
     "text": [
      "(<class 'easymlops.table.preprocessing.core.FixInput'>) module check [transform] complete,speed:[0.19ms]/it,cpu:[0%],memory:[0K]\n",
      "(<class 'easymlops.table.preprocessing.onevar_operation.FillNa'>) module check [transform] complete,speed:[0.0ms]/it,cpu:[0%],memory:[0K]\n",
      "(<class 'easymlops.table.encoding.OneHotEncoding'>) module check [transform] complete,speed:[0.0ms]/it,cpu:[0%],memory:[0K]\n",
      "(<class 'easymlops.table.encoding.WOEEncoding'>) module check [transform] complete,speed:[0.0ms]/it,cpu:[0%],memory:[0K]\n",
      "(<class 'easymlops.table.encoding.LabelEncoding'>) module check [transform] complete,speed:[0.0ms]/it,cpu:[0%],memory:[0K]\n",
      "(<class 'easymlops.table.classification.LGBMClassification'>) module check [transform] complete,speed:[1.56ms]/it,cpu:[0%],memory:[0K]\n"
     ]
    }
   ],
   "source": [
    "from easymlops.table.callback import check_transform_function_pipeline\n",
    "table.callback(check_transform_function_pipeline,x_test[:10])"
   ]
  },
  {
   "cell_type": "markdown",
   "id": "c75b5f87",
   "metadata": {},
   "source": [
    "### 空值测试：check_null_value  \n",
    "\n",
    "- 由于pandas在读取数据时会自动做类型推断，对空会有不同的处理，比如float设置为np.nan，对object设置为None或NaN  \n",
    "- 而且pandas读取数据默认为批量读取批量推断，所以某一列数据空还不唯一，np.nan和None可能共存  \n",
    "\n",
    "所以，这里对逐个column分别设置不同的空进行测试，测试内容：  \n",
    "- 相同的空情况下，transform和transform_single是否一致  \n",
    "- 不同的空的transform结果是否一致  \n",
    "\n",
    "可通过`null_values=[None, np.nan, \"null\", \"NULL\", \"nan\", \"NaN\", \"\", \"none\", \"None\", \" \"]`(默认)设置自定义空值"
   ]
  },
  {
   "cell_type": "code",
   "execution_count": 16,
   "id": "21b302b2",
   "metadata": {},
   "outputs": [
    {
     "name": "stdout",
     "output_type": "stream",
     "text": [
      "column:[PassengerId] check [null value] complete,speed:[2.39ms]/it,cpu:[0%],memory:[0K]\n",
      "column:[Pclass] check [null value] complete,speed:[2.41ms]/it,cpu:[0%],memory:[0K]\n",
      "column:[Name] check [null value] complete,speed:[2.45ms]/it,cpu:[0%],memory:[0K]\n",
      "column:[Sex] check [null value] complete,speed:[2.43ms]/it,cpu:[0%],memory:[0K]\n",
      "column:[Age] check [null value] complete,speed:[2.3ms]/it,cpu:[0%],memory:[0K]\n",
      "column:[SibSp] check [null value] complete,speed:[2.35ms]/it,cpu:[0%],memory:[0K]\n",
      "column:[Parch] check [null value] complete,speed:[2.71ms]/it,cpu:[0%],memory:[0K]\n",
      "column:[Ticket] check [null value] complete,speed:[2.35ms]/it,cpu:[0%],memory:[0K]\n",
      "column:[Fare] check [null value] complete,speed:[2.13ms]/it,cpu:[0%],memory:[0K]\n",
      "column:[Cabin] check [null value] complete,speed:[2.42ms]/it,cpu:[0%],memory:[0K]\n",
      "column:[Embarked] check [null value] complete,speed:[2.27ms]/it,cpu:[0%],memory:[0K]\n"
     ]
    }
   ],
   "source": [
    "from easymlops.table.callback import check_null_value\n",
    "table.callback(check_null_value,x_test[:10])"
   ]
  },
  {
   "cell_type": "markdown",
   "id": "e4710a3d",
   "metadata": {},
   "source": [
    "### 极端值测试：check_extreme_value  \n",
    "\n",
    "通常用于训练的数据都是经过筛选的正常数据，但线上难免会有极端值混入，比如你训练的某列数据范围在`0~1`之间，如果传入一个`-1`，也许就会报错，目前\n",
    "\n",
    "- 对两种类型的分别进行极端测试，设置如下：\n",
    "  - 数值型:设置`number_extreme_values = [np.inf, 0.0, -1, 1, -1e-7, 1e-7, np.finfo(np.float64).min, np.finfo(np.float64).max]`(默认)\n",
    "  - 离散型:设置`category_extreme_values = [\"\", \"null\", None, \"1.0\", \"0.0\", \"-1.0\", \"-1\", \"NaN\", \"None\"]`(默认)  \n",
    "\n",
    "- 将全部特征设置为如上的极端值进行测试\n",
    "\n",
    "注意：这里只检测了transform与transform_single的一致性，不要求各极端值输入下的输出一致性(注意和上面的空值检测不一样，空值检测要求所有类型的空的输出也要一致)"
   ]
  },
  {
   "cell_type": "code",
   "execution_count": 17,
   "id": "42a4c2e9",
   "metadata": {},
   "outputs": [
    {
     "name": "stdout",
     "output_type": "stream",
     "text": [
      "column:[PassengerId] check [extreme value] complete,speed:[2.57ms]/it,cpu:[100%],memory:[6261596K]\n",
      "column:[Pclass] check [extreme value] complete,speed:[2.88ms]/it,cpu:[100%],memory:[6263196K]\n",
      "column:[Name] check [extreme value] complete,speed:[2.69ms]/it,cpu:[100%],memory:[6283028K]\n",
      "column:[Sex] check [extreme value] complete,speed:[2.41ms]/it,cpu:[100%],memory:[6285492K]\n",
      "column:[Age] check [extreme value] complete,speed:[2.75ms]/it,cpu:[100%],memory:[6283340K]\n",
      "column:[SibSp] check [extreme value] complete,speed:[2.47ms]/it,cpu:[100%],memory:[6283276K]\n",
      "column:[Parch] check [extreme value] complete,speed:[2.82ms]/it,cpu:[100%],memory:[6279116K]\n",
      "column:[Ticket] check [extreme value] complete,speed:[2.87ms]/it,cpu:[100%],memory:[6279124K]\n",
      "column:[Fare] check [extreme value] complete,speed:[2.48ms]/it,cpu:[100%],memory:[6279256K]\n",
      "column:[Cabin] check [extreme value] complete,speed:[2.52ms]/it,cpu:[100%],memory:[6279172K]\n",
      "column:[Embarked] check [extreme value] complete,speed:[2.65ms]/it,cpu:[100%],memory:[6279172K]\n",
      "column:[__all__] check [extreme value] complete,speed:[1.73ms]/it,cpu:[100%],memory:[6279172K]\n"
     ]
    }
   ],
   "source": [
    "from easymlops.table.callback import check_extreme_value\n",
    "table.callback(check_extreme_value,x_test[:10])"
   ]
  },
  {
   "cell_type": "markdown",
   "id": "94f50b93",
   "metadata": {},
   "source": [
    "### 数据类型反转测试：check_inverse_dtype  \n",
    "\n",
    "某特征入模是数据是数值，但上线后传过来的是离散值，也有可能相反，这里就对这种情况做测试，对原是数值的替换为离散做测试，对原始离散值的替换为数值，替换规则如下：\n",
    "- 原数值的，替换为：`number_inverse_values = [\"\", \"null\", None, \"1.0\", \"0.0\", \"-1.0\", \"-1\"]`(默认)  \n",
    "- 原离散的，替换为：`category_inverse_values = [0.0, -1, 1, -1e-7, 1e-7, np.finfo(np.float64).min, np.finfo(np.float64).max]`(默认)  \n",
    "\n",
    "同样，数据类型反转测试只对transform和transform_single的一致性有要求"
   ]
  },
  {
   "cell_type": "code",
   "execution_count": 18,
   "id": "ed4d2671",
   "metadata": {},
   "outputs": [
    {
     "name": "stdout",
     "output_type": "stream",
     "text": [
      "column:[PassengerId] check [inverse type] complete,speed:[2.28ms]/it,cpu:[12%],memory:[6266280K]\n",
      "column:[Pclass] check [inverse type] complete,speed:[2.76ms]/it,cpu:[100%],memory:[6266468K]\n",
      "column:[Name] check [inverse type] complete,speed:[2.78ms]/it,cpu:[100%],memory:[6266552K]\n",
      "column:[Sex] check [inverse type] complete,speed:[2.54ms]/it,cpu:[100%],memory:[6266936K]\n",
      "column:[Age] check [inverse type] complete,speed:[2.14ms]/it,cpu:[100%],memory:[6267224K]\n",
      "column:[SibSp] check [inverse type] complete,speed:[2.96ms]/it,cpu:[100%],memory:[6267220K]\n",
      "column:[Parch] check [inverse type] complete,speed:[2.52ms]/it,cpu:[100%],memory:[6267144K]\n",
      "column:[Ticket] check [inverse type] complete,speed:[2.8ms]/it,cpu:[100%],memory:[6267184K]\n",
      "column:[Fare] check [inverse type] complete,speed:[2.66ms]/it,cpu:[100%],memory:[6266744K]\n",
      "column:[Cabin] check [inverse type] complete,speed:[2.45ms]/it,cpu:[100%],memory:[6266788K]\n",
      "column:[Embarked] check [inverse type] complete,speed:[2.66ms]/it,cpu:[100%],memory:[6266788K]\n"
     ]
    }
   ],
   "source": [
    "from easymlops.table.callback import check_inverse_dtype\n",
    "table.callback(check_inverse_dtype,x_test[:10])"
   ]
  },
  {
   "cell_type": "markdown",
   "id": "24195a59",
   "metadata": {},
   "source": [
    "###  int转float测试：check_int_trans_float  \n",
    "pandas会将某些特征自动推断为int，而线上可能传输的是float，需要做如下测试：  \n",
    "- 转float后transform和transform_single之间的一致性  \n",
    "- int和float特征通过transform后的一致性"
   ]
  },
  {
   "cell_type": "code",
   "execution_count": 19,
   "id": "7423528a",
   "metadata": {},
   "outputs": [
    {
     "name": "stdout",
     "output_type": "stream",
     "text": [
      "column:[PassengerId] check [int trans float] complete,speed:[3.13ms]/it,cpu:[0%],memory:[0K]\n",
      "column:[Pclass] check [int trans float] complete,speed:[1.56ms]/it,cpu:[0%],memory:[0K]\n",
      "column:[SibSp] check [int trans float] complete,speed:[3.13ms]/it,cpu:[0%],memory:[0K]\n",
      "column:[Parch] check [int trans float] complete,speed:[3.13ms]/it,cpu:[0%],memory:[0K]\n"
     ]
    }
   ],
   "source": [
    "from easymlops.table.callback import check_int_trans_float\n",
    "table.callback(check_int_trans_float,x_test[:10])"
   ]
  },
  {
   "cell_type": "markdown",
   "id": "71095a74",
   "metadata": {},
   "source": [
    "### 自动测试：auto_test\n",
    "就是把上面的所有测试，整合到auto_test一个函数中"
   ]
  },
  {
   "cell_type": "code",
   "execution_count": 21,
   "id": "ca3d1b6f",
   "metadata": {},
   "outputs": [
    {
     "name": "stdout",
     "output_type": "stream",
     "text": [
      "\n",
      "###################################################################\n",
      " 1.一致性测试和性能测试:check_transform_function                      \n",
      "###################################################################\n",
      "(<class 'easymlops.table.preprocessing.core.FixInput'>) module check [transform] complete,speed:[0.6ms]/it,cpu:[0%],memory:[0K]\n",
      "(<class 'easymlops.table.preprocessing.onevar_operation.FillNa'>) module check [transform] complete,speed:[0.0ms]/it,cpu:[0%],memory:[0K]\n",
      "(<class 'easymlops.table.encoding.OneHotEncoding'>) module check [transform] complete,speed:[0.0ms]/it,cpu:[0%],memory:[0K]\n",
      "(<class 'easymlops.table.encoding.WOEEncoding'>) module check [transform] complete,speed:[0.0ms]/it,cpu:[0%],memory:[0K]\n",
      "(<class 'easymlops.table.encoding.LabelEncoding'>) module check [transform] complete,speed:[0.0ms]/it,cpu:[0%],memory:[0K]\n",
      "(<class 'easymlops.table.classification.LGBMClassification'>) module check [transform] complete,speed:[1.56ms]/it,cpu:[0%],memory:[0K]\n",
      "\n",
      "#########################################################################################\n",
      " 2.空值测试:check_null_value                                                           \n",
      " null_values=[None, np.nan, \"null\", \"NULL\", \"nan\", \"NaN\", \"\", \"none\", \"None\", \" \"](默认)\n",
      "########################################################################################\n",
      "column:[PassengerId] check [null value] complete,speed:[2.37ms]/it,cpu:[0%],memory:[0K]\n",
      "column:[Pclass] check [null value] complete,speed:[2.65ms]/it,cpu:[0%],memory:[0K]\n",
      "column:[Name] check [null value] complete,speed:[2.68ms]/it,cpu:[0%],memory:[0K]\n",
      "column:[Sex] check [null value] complete,speed:[2.36ms]/it,cpu:[0%],memory:[0K]\n",
      "column:[Age] check [null value] complete,speed:[1.92ms]/it,cpu:[0%],memory:[0K]\n",
      "column:[SibSp] check [null value] complete,speed:[2.69ms]/it,cpu:[0%],memory:[0K]\n",
      "column:[Parch] check [null value] complete,speed:[2.67ms]/it,cpu:[100%],memory:[0K]\n",
      "column:[Ticket] check [null value] complete,speed:[2.58ms]/it,cpu:[100%],memory:[0K]\n",
      "column:[Fare] check [null value] complete,speed:[2.85ms]/it,cpu:[100%],memory:[0K]\n",
      "column:[Cabin] check [null value] complete,speed:[2.28ms]/it,cpu:[0%],memory:[0K]\n",
      "column:[Embarked] check [null value] complete,speed:[2.69ms]/it,cpu:[100%],memory:[0K]\n",
      "\n",
      "############################################################################################################\n",
      " 3.极端值测试:check_extreme_value                                                                            \n",
      " number_extreme_values = [np.inf, 0.0, -1, 1, -1e-7, 1e-7, np.finfo(np.float64).min, np.finfo(np.float64).max](默认)\n",
      " category_extreme_values = [\"\", \"null\", None, \"1.0\", \"0.0\", \"-1.0\", \"-1\", \"NaN\", \"None\"](默认)                            \n",
      "###########################################################################################################\n",
      "column:[PassengerId] check [extreme value] complete,speed:[2.46ms]/it,cpu:[100%],memory:[6266720K]\n",
      "column:[Pclass] check [extreme value] complete,speed:[2.95ms]/it,cpu:[100%],memory:[6266748K]\n",
      "column:[Name] check [extreme value] complete,speed:[2.97ms]/it,cpu:[100%],memory:[6266388K]\n",
      "column:[Sex] check [extreme value] complete,speed:[2.47ms]/it,cpu:[100%],memory:[6266800K]\n",
      "column:[Age] check [extreme value] complete,speed:[2.85ms]/it,cpu:[100%],memory:[6266648K]\n",
      "column:[SibSp] check [extreme value] complete,speed:[2.63ms]/it,cpu:[100%],memory:[6266628K]\n",
      "column:[Parch] check [extreme value] complete,speed:[2.67ms]/it,cpu:[100%],memory:[6266552K]\n",
      "column:[Ticket] check [extreme value] complete,speed:[2.56ms]/it,cpu:[100%],memory:[6266552K]\n",
      "column:[Fare] check [extreme value] complete,speed:[2.57ms]/it,cpu:[100%],memory:[6265796K]\n",
      "column:[Cabin] check [extreme value] complete,speed:[2.29ms]/it,cpu:[100%],memory:[6265724K]\n",
      "column:[Embarked] check [extreme value] complete,speed:[2.84ms]/it,cpu:[100%],memory:[6265696K]\n",
      "column:[__all__] check [extreme value] complete,speed:[1.74ms]/it,cpu:[100%],memory:[6265696K]\n",
      "\n",
      "###############################################################################################################\n",
      " 4.数据类型反转测试:check_inverse_dtype                                                                          \n",
      " category_inverse_values = [0.0, -1, 1, -1e-7, 1e-7, np.finfo(np.float64).min, np.finfo(np.float64).max](默认)\n",
      " number_inverse_values = [\"\", \"null\", None, \"1.0\", \"0.0\", \"-1.0\", \"-1\"](默认)                                \n",
      "#############################################################################################################\n",
      "column:[PassengerId] check [inverse type] complete,speed:[2.47ms]/it,cpu:[100%],memory:[6265660K]\n",
      "column:[Pclass] check [inverse type] complete,speed:[2.58ms]/it,cpu:[100%],memory:[6265560K]\n",
      "column:[Name] check [inverse type] complete,speed:[2.41ms]/it,cpu:[100%],memory:[6265568K]\n",
      "column:[Sex] check [inverse type] complete,speed:[2.65ms]/it,cpu:[100%],memory:[32K]\n",
      "column:[Age] check [inverse type] complete,speed:[2.26ms]/it,cpu:[100%],memory:[6265560K]\n",
      "column:[SibSp] check [inverse type] complete,speed:[2.52ms]/it,cpu:[100%],memory:[6266840K]\n",
      "column:[Parch] check [inverse type] complete,speed:[2.69ms]/it,cpu:[100%],memory:[6266868K]\n",
      "column:[Ticket] check [inverse type] complete,speed:[2.43ms]/it,cpu:[100%],memory:[6267040K]\n",
      "column:[Fare] check [inverse type] complete,speed:[2.5ms]/it,cpu:[100%],memory:[28K]\n",
      "column:[Cabin] check [inverse type] complete,speed:[2.84ms]/it,cpu:[100%],memory:[6266732K]\n",
      "column:[Embarked] check [inverse type] complete,speed:[2.43ms]/it,cpu:[0%],memory:[0K]\n",
      "\n",
      "############################################\n",
      " 5.int数据转float测试:check_int_trans_float                                                                                            \n",
      "############################################\n",
      "column:[PassengerId] check [int trans float] complete,speed:[1.56ms]/it,cpu:[0%],memory:[0K]\n",
      "column:[Pclass] check [int trans float] complete,speed:[3.13ms]/it,cpu:[0%],memory:[0K]\n",
      "column:[SibSp] check [int trans float] complete,speed:[3.12ms]/it,cpu:[100%],memory:[0K]\n",
      "column:[Parch] check [int trans float] complete,speed:[1.56ms]/it,cpu:[0%],memory:[0K]\n"
     ]
    }
   ],
   "source": [
    "table.auto_test(x_test[:10])"
   ]
  },
  {
   "cell_type": "code",
   "execution_count": null,
   "id": "169322e6",
   "metadata": {},
   "outputs": [],
   "source": []
  }
 ],
 "metadata": {
  "kernelspec": {
   "display_name": "Python 3 (ipykernel)",
   "language": "python",
   "name": "python3"
  },
  "language_info": {
   "codemirror_mode": {
    "name": "ipython",
    "version": 3
   },
   "file_extension": ".py",
   "mimetype": "text/x-python",
   "name": "python",
   "nbconvert_exporter": "python",
   "pygments_lexer": "ipython3",
   "version": "3.7.15"
  }
 },
 "nbformat": 4,
 "nbformat_minor": 5
}
