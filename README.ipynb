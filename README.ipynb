{
 "cells": [
  {
   "cell_type": "markdown",
   "metadata": {},
   "source": [
    "# EasyMLOps  \n",
    "  \n",
    "## 介绍   \n",
    "`EasyMLOps`包以`Pipline`的方式构建建模任务，可直接进行模型训练、预测(离线，在线)，测试(离线在线预测一致性、预测性能)、特征存储、监控、分析等功能，通过外套一层Flask或FastApi即可直接部署生产，更多内容请访问[使用文档1>>](http://www.easymlops.com) 或 [使用文档2>>](http://43.153.61.105)"
   ]
  },
  {
   "cell_type": "markdown",
   "metadata": {},
   "source": [
    "## 安装\n",
    "```bash\n",
    "pip install easymlops\n",
    "```  "
   ]
  },
  {
   "cell_type": "markdown",
   "metadata": {},
   "source": [
    "## 使用"
   ]
  },
  {
   "cell_type": "code",
   "execution_count": 1,
   "metadata": {},
   "outputs": [
    {
     "name": "stdout",
     "output_type": "stream",
     "text": [
      "|    |   PassengerId |   Survived |   Pclass | Name                                                | Sex    |   Age |   SibSp |   Parch | Ticket           |    Fare | Cabin   | Embarked   |\n",
      "|---:|--------------:|-----------:|---------:|:----------------------------------------------------|:-------|------:|--------:|--------:|:-----------------|--------:|:--------|:-----------|\n",
      "|  0 |             1 |          0 |        3 | Braund, Mr. Owen Harris                             | male   |    22 |       1 |       0 | A/5 21171        |  7.25   | nan     | S          |\n",
      "|  1 |             2 |          1 |        1 | Cumings, Mrs. John Bradley (Florence Briggs Thayer) | female |    38 |       1 |       0 | PC 17599         | 71.2833 | C85     | C          |\n",
      "|  2 |             3 |          1 |        3 | Heikkinen, Miss. Laina                              | female |    26 |       0 |       0 | STON/O2. 3101282 |  7.925  | nan     | S          |\n",
      "|  3 |             4 |          1 |        1 | Futrelle, Mrs. Jacques Heath (Lily May Peel)        | female |    35 |       1 |       0 | 113803           | 53.1    | C123    | S          |\n",
      "|  4 |             5 |          0 |        3 | Allen, Mr. William Henry                            | male   |    35 |       0 |       0 | 373450           |  8.05   | nan     | S          |\n"
     ]
    }
   ],
   "source": [
    "import pandas as pd\n",
    "data=pd.read_csv(\"./data/demo.csv\")\n",
    "print(data.head(5).to_markdown())"
   ]
  },
  {
   "cell_type": "code",
   "execution_count": 2,
   "metadata": {},
   "outputs": [],
   "source": [
    "# 拆分训练测试\n",
    "x_train=data[:500]\n",
    "x_test=data[500:]\n",
    "y_train=x_train[\"Survived\"]\n",
    "y_test=x_test[\"Survived\"]\n",
    "del x_train[\"Survived\"]\n",
    "del x_test[\"Survived\"]"
   ]
  },
  {
   "cell_type": "markdown",
   "metadata": {},
   "source": [
    "### 表格型任务"
   ]
  },
  {
   "cell_type": "code",
   "execution_count": 3,
   "metadata": {},
   "outputs": [],
   "source": [
    "from easymlops import TablePipeLine\n",
    "from easymlops.table.preprocessing import *\n",
    "from easymlops.table.encoding import *\n",
    "from easymlops.table.decomposition import *\n",
    "from easymlops.table.classification import *\n",
    "from easymlops.table.ensemble import *"
   ]
  },
  {
   "cell_type": "code",
   "execution_count": 5,
   "metadata": {},
   "outputs": [
    {
     "data": {
      "text/plain": [
       "<easymlops.table.core.pipeline_object.TablePipeLine at 0x213de1f9988>"
      ]
     },
     "execution_count": 5,
     "metadata": {},
     "output_type": "execute_result"
    }
   ],
   "source": [
    "table = TablePipeLine()\n",
    "table.pipe(FixInput()) \\\n",
    "  .pipe(FillNa()) \\\n",
    "  .pipe(Parallel([OneHotEncoding(cols=[\"Pclass\", \"Sex\"]), LabelEncoding(cols=[\"Sex\", \"Pclass\"]),\n",
    "                    TargetEncoding(cols=[\"Name\", \"Ticket\", \"Embarked\", \"Cabin\", \"Sex\"], y=y_train)])) \\\n",
    "  .pipe(Parallel([PCADecomposition(n_components=2, prefix=\"pca\"), NMFDecomposition(n_components=2, prefix=\"nmf\")]))\\\n",
    "  .pipe(Parallel([LGBMClassification(y=y_train, prefix=\"lgbm\"), LogisticRegressionClassification(y=y_train, prefix=\"lr\")]))\n",
    "\n",
    "table.fit(x_train)"
   ]
  },
  {
   "cell_type": "code",
   "execution_count": 7,
   "metadata": {},
   "outputs": [
    {
     "name": "stdout",
     "output_type": "stream",
     "text": [
      "|     |   lgbm_0 |    lgbm_1 |     lr_0 |     lr_1 |\n",
      "|----:|---------:|----------:|---------:|---------:|\n",
      "| 500 | 0.965218 | 0.0347825 | 0.651417 | 0.348583 |\n",
      "| 501 | 0.98153  | 0.0184698 | 0.65506  | 0.34494  |\n",
      "| 502 | 0.979139 | 0.0208607 | 0.647266 | 0.352734 |\n",
      "| 503 | 0.808796 | 0.191204  | 0.656613 | 0.343387 |\n",
      "| 504 | 0.184484 | 0.815516  | 0.449149 | 0.550851 |\n"
     ]
    }
   ],
   "source": [
    "print(table.transform(x_test).head(5).to_markdown())"
   ]
  },
  {
   "cell_type": "code",
   "execution_count": 8,
   "metadata": {},
   "outputs": [
    {
     "data": {
      "text/plain": [
       "{'lgbm_0': 0.9652175316373408,\n",
       " 'lgbm_1': 0.03478246836265923,\n",
       " 'lr_0': 0.6514166695229407,\n",
       " 'lr_1': 0.3485833304770593}"
      ]
     },
     "execution_count": 8,
     "metadata": {},
     "output_type": "execute_result"
    }
   ],
   "source": [
    "table.transform_single(x_test.to_dict(\"record\")[0])"
   ]
  },
  {
   "cell_type": "markdown",
   "metadata": {},
   "source": [
    "### 文本特征提取\n"
   ]
  },
  {
   "cell_type": "code",
   "execution_count": 9,
   "metadata": {},
   "outputs": [],
   "source": [
    "from easymlops import NLPPipeline\n",
    "from easymlops.nlp.preprocessing import *\n",
    "from easymlops.nlp.representation import *"
   ]
  },
  {
   "cell_type": "code",
   "execution_count": 11,
   "metadata": {},
   "outputs": [
    {
     "data": {
      "text/plain": [
       "<easymlops.nlp.core.pipeline_object.NLPPipeline at 0x213e69dda88>"
      ]
     },
     "execution_count": 11,
     "metadata": {},
     "output_type": "execute_result"
    }
   ],
   "source": [
    "nlp = NLPPipeline()\n",
    "nlp.pipe(FixInput()) \\\n",
    "  .pipe(FillNa()) \\\n",
    "  .pipe(SelectCols(cols=[\"Name\"]))\\\n",
    "  .pipe(ReplaceDigits())\\\n",
    "  .pipe(RemovePunctuation())\\\n",
    "  .pipe(Parallel([Word2VecModel(embedding_size=4), FastTextModel(embedding_size=4)]))\n",
    "\n",
    "nlp.fit(x_train)"
   ]
  },
  {
   "cell_type": "code",
   "execution_count": 12,
   "metadata": {},
   "outputs": [
    {
     "name": "stdout",
     "output_type": "stream",
     "text": [
      "|     |   w2v_Name_0 |   w2v_Name_1 |   w2v_Name_2 |   w2v_Name_3 |   fasttext_Name_0 |   fasttext_Name_1 |   fasttext_Name_2 |   fasttext_Name_3 |\n",
      "|----:|-------------:|-------------:|-------------:|-------------:|------------------:|------------------:|------------------:|------------------:|\n",
      "| 500 |   -0.0160304 |   0.00341222 |     0.131879 |    0.227311  |        0.0470462  |       -0.00434371 |        0.0662056  |        0.0268283  |\n",
      "| 501 |   -0.168437  |  -0.0802843  |     0.188844 |    0.0576391 |        0.00569692 |       -0.00443027 |        0.00559943 |        0.0177013  |\n",
      "| 502 |   -0.168437  |  -0.0802843  |     0.188844 |    0.0576391 |       -0.00195689 |       -0.0279951  |        0.00245144 |        0.0229158  |\n",
      "| 503 |   -0.233626  |  -0.181061   |     0.165193 |    0.226518  |        0.00192385 |       -0.0182485  |       -0.005737   |        0.032779   |\n",
      "| 504 |   -0.233626  |  -0.181061   |     0.165193 |    0.226518  |        0.010348   |       -0.0144759  |        0.028474   |        0.00600368 |\n"
     ]
    }
   ],
   "source": [
    "print(nlp.transform(x_test).head(5).to_markdown())"
   ]
  },
  {
   "cell_type": "code",
   "execution_count": 13,
   "metadata": {},
   "outputs": [
    {
     "data": {
      "text/plain": [
       "{'w2v_Name_0': -0.01603037677705288,\n",
       " 'w2v_Name_1': 0.003412220859900117,\n",
       " 'w2v_Name_2': 0.13187919557094574,\n",
       " 'w2v_Name_3': 0.227310910820961,\n",
       " 'fasttext_Name_0': 0.04704619571566582,\n",
       " 'fasttext_Name_1': -0.004343707114458084,\n",
       " 'fasttext_Name_2': 0.06620561331510544,\n",
       " 'fasttext_Name_3': 0.026828348636627197}"
      ]
     },
     "execution_count": 13,
     "metadata": {},
     "output_type": "execute_result"
    }
   ],
   "source": [
    "nlp.transform_single(x_test.to_dict(\"record\")[0])"
   ]
  },
  {
   "cell_type": "code",
   "execution_count": null,
   "metadata": {},
   "outputs": [],
   "source": []
  }
 ],
 "metadata": {
  "kernelspec": {
   "display_name": "Python 3 (ipykernel)",
   "language": "python",
   "name": "python3"
  },
  "language_info": {
   "codemirror_mode": {
    "name": "ipython",
    "version": 3
   },
   "file_extension": ".py",
   "mimetype": "text/x-python",
   "name": "python",
   "nbconvert_exporter": "python",
   "pygments_lexer": "ipython3",
   "version": "3.7.15"
  }
 },
 "nbformat": 4,
 "nbformat_minor": 2
}
